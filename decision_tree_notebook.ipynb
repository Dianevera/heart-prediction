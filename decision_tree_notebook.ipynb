{
 "cells": [
  {
   "cell_type": "code",
   "execution_count": 1,
   "id": "judicial-enclosure",
   "metadata": {},
   "outputs": [],
   "source": [
    "import pandas as pd\n",
    "import numpy as np"
   ]
  },
  {
   "cell_type": "code",
   "execution_count": 2,
   "id": "classified-mitchell",
   "metadata": {},
   "outputs": [],
   "source": [
    "from sklearn.model_selection import train_test_split"
   ]
  },
  {
   "cell_type": "code",
   "execution_count": 3,
   "id": "reflected-lafayette",
   "metadata": {},
   "outputs": [],
   "source": [
    "from DecisionTree import DecisionTree"
   ]
  },
  {
   "cell_type": "markdown",
   "id": "ongoing-sessions",
   "metadata": {},
   "source": [
    "# Data location"
   ]
  },
  {
   "cell_type": "code",
   "execution_count": 4,
   "id": "dutch-comparison",
   "metadata": {},
   "outputs": [],
   "source": [
    "data_path = \"data/clean_data.csv\""
   ]
  },
  {
   "cell_type": "markdown",
   "id": "atmospheric-berry",
   "metadata": {},
   "source": [
    "# Load data"
   ]
  },
  {
   "cell_type": "code",
   "execution_count": 5,
   "id": "awful-suite",
   "metadata": {},
   "outputs": [],
   "source": [
    "df = pd.read_csv(data_path)"
   ]
  },
  {
   "cell_type": "code",
   "execution_count": 6,
   "id": "polish-stevens",
   "metadata": {},
   "outputs": [
    {
     "data": {
      "text/html": [
       "<div>\n",
       "<style scoped>\n",
       "    .dataframe tbody tr th:only-of-type {\n",
       "        vertical-align: middle;\n",
       "    }\n",
       "\n",
       "    .dataframe tbody tr th {\n",
       "        vertical-align: top;\n",
       "    }\n",
       "\n",
       "    .dataframe thead th {\n",
       "        text-align: right;\n",
       "    }\n",
       "</style>\n",
       "<table border=\"1\" class=\"dataframe\">\n",
       "  <thead>\n",
       "    <tr style=\"text-align: right;\">\n",
       "      <th></th>\n",
       "      <th>RANDID</th>\n",
       "      <th>SEX</th>\n",
       "      <th>TOTCHOL</th>\n",
       "      <th>AGE</th>\n",
       "      <th>SYSBP</th>\n",
       "      <th>DIABP</th>\n",
       "      <th>CURSMOKE</th>\n",
       "      <th>CIGPDAY</th>\n",
       "      <th>BMI</th>\n",
       "      <th>DIABETES</th>\n",
       "      <th>...</th>\n",
       "      <th>CVD</th>\n",
       "      <th>HYPERTEN</th>\n",
       "      <th>TIMEAP</th>\n",
       "      <th>TIMEMI</th>\n",
       "      <th>TIMEMIFC</th>\n",
       "      <th>TIMECHD</th>\n",
       "      <th>TIMESTRK</th>\n",
       "      <th>TIMECVD</th>\n",
       "      <th>TIMEDTH</th>\n",
       "      <th>TIMEHYP</th>\n",
       "    </tr>\n",
       "  </thead>\n",
       "  <tbody>\n",
       "    <tr>\n",
       "      <th>0</th>\n",
       "      <td>2448.0</td>\n",
       "      <td>1.0</td>\n",
       "      <td>195.0</td>\n",
       "      <td>39.0</td>\n",
       "      <td>106.0</td>\n",
       "      <td>70.0</td>\n",
       "      <td>0.0</td>\n",
       "      <td>0.0</td>\n",
       "      <td>26.970</td>\n",
       "      <td>0.0</td>\n",
       "      <td>...</td>\n",
       "      <td>1.0</td>\n",
       "      <td>0.0</td>\n",
       "      <td>8766.0</td>\n",
       "      <td>6438.0</td>\n",
       "      <td>6438.0</td>\n",
       "      <td>6438.0</td>\n",
       "      <td>8766.0</td>\n",
       "      <td>6438.0</td>\n",
       "      <td>8766.0</td>\n",
       "      <td>8766.0</td>\n",
       "    </tr>\n",
       "    <tr>\n",
       "      <th>1</th>\n",
       "      <td>2448.0</td>\n",
       "      <td>1.0</td>\n",
       "      <td>209.0</td>\n",
       "      <td>52.0</td>\n",
       "      <td>121.0</td>\n",
       "      <td>66.0</td>\n",
       "      <td>0.0</td>\n",
       "      <td>0.0</td>\n",
       "      <td>27.794</td>\n",
       "      <td>0.0</td>\n",
       "      <td>...</td>\n",
       "      <td>1.0</td>\n",
       "      <td>0.0</td>\n",
       "      <td>8766.0</td>\n",
       "      <td>6438.0</td>\n",
       "      <td>6438.0</td>\n",
       "      <td>6438.0</td>\n",
       "      <td>8766.0</td>\n",
       "      <td>6438.0</td>\n",
       "      <td>8766.0</td>\n",
       "      <td>8766.0</td>\n",
       "    </tr>\n",
       "    <tr>\n",
       "      <th>2</th>\n",
       "      <td>6238.0</td>\n",
       "      <td>0.0</td>\n",
       "      <td>250.0</td>\n",
       "      <td>46.0</td>\n",
       "      <td>121.0</td>\n",
       "      <td>81.0</td>\n",
       "      <td>0.0</td>\n",
       "      <td>0.0</td>\n",
       "      <td>28.730</td>\n",
       "      <td>0.0</td>\n",
       "      <td>...</td>\n",
       "      <td>0.0</td>\n",
       "      <td>0.0</td>\n",
       "      <td>8766.0</td>\n",
       "      <td>8766.0</td>\n",
       "      <td>8766.0</td>\n",
       "      <td>8766.0</td>\n",
       "      <td>8766.0</td>\n",
       "      <td>8766.0</td>\n",
       "      <td>8766.0</td>\n",
       "      <td>8766.0</td>\n",
       "    </tr>\n",
       "    <tr>\n",
       "      <th>3</th>\n",
       "      <td>6238.0</td>\n",
       "      <td>0.0</td>\n",
       "      <td>260.0</td>\n",
       "      <td>52.0</td>\n",
       "      <td>105.0</td>\n",
       "      <td>70.0</td>\n",
       "      <td>0.0</td>\n",
       "      <td>0.0</td>\n",
       "      <td>29.430</td>\n",
       "      <td>0.0</td>\n",
       "      <td>...</td>\n",
       "      <td>0.0</td>\n",
       "      <td>0.0</td>\n",
       "      <td>8766.0</td>\n",
       "      <td>8766.0</td>\n",
       "      <td>8766.0</td>\n",
       "      <td>8766.0</td>\n",
       "      <td>8766.0</td>\n",
       "      <td>8766.0</td>\n",
       "      <td>8766.0</td>\n",
       "      <td>8766.0</td>\n",
       "    </tr>\n",
       "    <tr>\n",
       "      <th>4</th>\n",
       "      <td>6238.0</td>\n",
       "      <td>0.0</td>\n",
       "      <td>237.0</td>\n",
       "      <td>58.0</td>\n",
       "      <td>108.0</td>\n",
       "      <td>66.0</td>\n",
       "      <td>0.0</td>\n",
       "      <td>0.0</td>\n",
       "      <td>28.500</td>\n",
       "      <td>0.0</td>\n",
       "      <td>...</td>\n",
       "      <td>0.0</td>\n",
       "      <td>0.0</td>\n",
       "      <td>8766.0</td>\n",
       "      <td>8766.0</td>\n",
       "      <td>8766.0</td>\n",
       "      <td>8766.0</td>\n",
       "      <td>8766.0</td>\n",
       "      <td>8766.0</td>\n",
       "      <td>8766.0</td>\n",
       "      <td>8766.0</td>\n",
       "    </tr>\n",
       "    <tr>\n",
       "      <th>...</th>\n",
       "      <td>...</td>\n",
       "      <td>...</td>\n",
       "      <td>...</td>\n",
       "      <td>...</td>\n",
       "      <td>...</td>\n",
       "      <td>...</td>\n",
       "      <td>...</td>\n",
       "      <td>...</td>\n",
       "      <td>...</td>\n",
       "      <td>...</td>\n",
       "      <td>...</td>\n",
       "      <td>...</td>\n",
       "      <td>...</td>\n",
       "      <td>...</td>\n",
       "      <td>...</td>\n",
       "      <td>...</td>\n",
       "      <td>...</td>\n",
       "      <td>...</td>\n",
       "      <td>...</td>\n",
       "      <td>...</td>\n",
       "      <td>...</td>\n",
       "    </tr>\n",
       "    <tr>\n",
       "      <th>11622</th>\n",
       "      <td>9998212.0</td>\n",
       "      <td>1.0</td>\n",
       "      <td>173.0</td>\n",
       "      <td>46.0</td>\n",
       "      <td>126.0</td>\n",
       "      <td>82.0</td>\n",
       "      <td>0.0</td>\n",
       "      <td>0.0</td>\n",
       "      <td>19.170</td>\n",
       "      <td>0.0</td>\n",
       "      <td>...</td>\n",
       "      <td>0.0</td>\n",
       "      <td>1.0</td>\n",
       "      <td>8766.0</td>\n",
       "      <td>8766.0</td>\n",
       "      <td>8766.0</td>\n",
       "      <td>8766.0</td>\n",
       "      <td>8766.0</td>\n",
       "      <td>8766.0</td>\n",
       "      <td>8766.0</td>\n",
       "      <td>0.0</td>\n",
       "    </tr>\n",
       "    <tr>\n",
       "      <th>11623</th>\n",
       "      <td>9998212.0</td>\n",
       "      <td>1.0</td>\n",
       "      <td>153.0</td>\n",
       "      <td>52.0</td>\n",
       "      <td>143.0</td>\n",
       "      <td>89.0</td>\n",
       "      <td>0.0</td>\n",
       "      <td>0.0</td>\n",
       "      <td>25.740</td>\n",
       "      <td>0.0</td>\n",
       "      <td>...</td>\n",
       "      <td>0.0</td>\n",
       "      <td>1.0</td>\n",
       "      <td>8766.0</td>\n",
       "      <td>8766.0</td>\n",
       "      <td>8766.0</td>\n",
       "      <td>8766.0</td>\n",
       "      <td>8766.0</td>\n",
       "      <td>8766.0</td>\n",
       "      <td>8766.0</td>\n",
       "      <td>0.0</td>\n",
       "    </tr>\n",
       "    <tr>\n",
       "      <th>11624</th>\n",
       "      <td>9999312.0</td>\n",
       "      <td>0.0</td>\n",
       "      <td>196.0</td>\n",
       "      <td>39.0</td>\n",
       "      <td>133.0</td>\n",
       "      <td>86.0</td>\n",
       "      <td>1.0</td>\n",
       "      <td>30.0</td>\n",
       "      <td>20.910</td>\n",
       "      <td>0.0</td>\n",
       "      <td>...</td>\n",
       "      <td>0.0</td>\n",
       "      <td>1.0</td>\n",
       "      <td>8766.0</td>\n",
       "      <td>8766.0</td>\n",
       "      <td>8766.0</td>\n",
       "      <td>8766.0</td>\n",
       "      <td>8766.0</td>\n",
       "      <td>8766.0</td>\n",
       "      <td>8766.0</td>\n",
       "      <td>4201.0</td>\n",
       "    </tr>\n",
       "    <tr>\n",
       "      <th>11625</th>\n",
       "      <td>9999312.0</td>\n",
       "      <td>0.0</td>\n",
       "      <td>240.0</td>\n",
       "      <td>46.0</td>\n",
       "      <td>138.0</td>\n",
       "      <td>79.0</td>\n",
       "      <td>1.0</td>\n",
       "      <td>20.0</td>\n",
       "      <td>26.390</td>\n",
       "      <td>0.0</td>\n",
       "      <td>...</td>\n",
       "      <td>0.0</td>\n",
       "      <td>1.0</td>\n",
       "      <td>8766.0</td>\n",
       "      <td>8766.0</td>\n",
       "      <td>8766.0</td>\n",
       "      <td>8766.0</td>\n",
       "      <td>8766.0</td>\n",
       "      <td>8766.0</td>\n",
       "      <td>8766.0</td>\n",
       "      <td>4201.0</td>\n",
       "    </tr>\n",
       "    <tr>\n",
       "      <th>11626</th>\n",
       "      <td>9999312.0</td>\n",
       "      <td>0.0</td>\n",
       "      <td>189.0</td>\n",
       "      <td>50.0</td>\n",
       "      <td>147.0</td>\n",
       "      <td>96.0</td>\n",
       "      <td>1.0</td>\n",
       "      <td>10.0</td>\n",
       "      <td>24.190</td>\n",
       "      <td>0.0</td>\n",
       "      <td>...</td>\n",
       "      <td>0.0</td>\n",
       "      <td>1.0</td>\n",
       "      <td>8766.0</td>\n",
       "      <td>8766.0</td>\n",
       "      <td>8766.0</td>\n",
       "      <td>8766.0</td>\n",
       "      <td>8766.0</td>\n",
       "      <td>8766.0</td>\n",
       "      <td>8766.0</td>\n",
       "      <td>4201.0</td>\n",
       "    </tr>\n",
       "  </tbody>\n",
       "</table>\n",
       "<p>11627 rows × 39 columns</p>\n",
       "</div>"
      ],
      "text/plain": [
       "          RANDID  SEX  TOTCHOL   AGE  SYSBP  DIABP  CURSMOKE  CIGPDAY     BMI  \\\n",
       "0         2448.0  1.0    195.0  39.0  106.0   70.0       0.0      0.0  26.970   \n",
       "1         2448.0  1.0    209.0  52.0  121.0   66.0       0.0      0.0  27.794   \n",
       "2         6238.0  0.0    250.0  46.0  121.0   81.0       0.0      0.0  28.730   \n",
       "3         6238.0  0.0    260.0  52.0  105.0   70.0       0.0      0.0  29.430   \n",
       "4         6238.0  0.0    237.0  58.0  108.0   66.0       0.0      0.0  28.500   \n",
       "...          ...  ...      ...   ...    ...    ...       ...      ...     ...   \n",
       "11622  9998212.0  1.0    173.0  46.0  126.0   82.0       0.0      0.0  19.170   \n",
       "11623  9998212.0  1.0    153.0  52.0  143.0   89.0       0.0      0.0  25.740   \n",
       "11624  9999312.0  0.0    196.0  39.0  133.0   86.0       1.0     30.0  20.910   \n",
       "11625  9999312.0  0.0    240.0  46.0  138.0   79.0       1.0     20.0  26.390   \n",
       "11626  9999312.0  0.0    189.0  50.0  147.0   96.0       1.0     10.0  24.190   \n",
       "\n",
       "       DIABETES  ...  CVD  HYPERTEN  TIMEAP  TIMEMI  TIMEMIFC  TIMECHD  \\\n",
       "0           0.0  ...  1.0       0.0  8766.0  6438.0    6438.0   6438.0   \n",
       "1           0.0  ...  1.0       0.0  8766.0  6438.0    6438.0   6438.0   \n",
       "2           0.0  ...  0.0       0.0  8766.0  8766.0    8766.0   8766.0   \n",
       "3           0.0  ...  0.0       0.0  8766.0  8766.0    8766.0   8766.0   \n",
       "4           0.0  ...  0.0       0.0  8766.0  8766.0    8766.0   8766.0   \n",
       "...         ...  ...  ...       ...     ...     ...       ...      ...   \n",
       "11622       0.0  ...  0.0       1.0  8766.0  8766.0    8766.0   8766.0   \n",
       "11623       0.0  ...  0.0       1.0  8766.0  8766.0    8766.0   8766.0   \n",
       "11624       0.0  ...  0.0       1.0  8766.0  8766.0    8766.0   8766.0   \n",
       "11625       0.0  ...  0.0       1.0  8766.0  8766.0    8766.0   8766.0   \n",
       "11626       0.0  ...  0.0       1.0  8766.0  8766.0    8766.0   8766.0   \n",
       "\n",
       "       TIMESTRK  TIMECVD  TIMEDTH  TIMEHYP  \n",
       "0        8766.0   6438.0   8766.0   8766.0  \n",
       "1        8766.0   6438.0   8766.0   8766.0  \n",
       "2        8766.0   8766.0   8766.0   8766.0  \n",
       "3        8766.0   8766.0   8766.0   8766.0  \n",
       "4        8766.0   8766.0   8766.0   8766.0  \n",
       "...         ...      ...      ...      ...  \n",
       "11622    8766.0   8766.0   8766.0      0.0  \n",
       "11623    8766.0   8766.0   8766.0      0.0  \n",
       "11624    8766.0   8766.0   8766.0   4201.0  \n",
       "11625    8766.0   8766.0   8766.0   4201.0  \n",
       "11626    8766.0   8766.0   8766.0   4201.0  \n",
       "\n",
       "[11627 rows x 39 columns]"
      ]
     },
     "execution_count": 6,
     "metadata": {},
     "output_type": "execute_result"
    }
   ],
   "source": [
    "df"
   ]
  },
  {
   "cell_type": "code",
   "execution_count": 7,
   "id": "stuffed-congo",
   "metadata": {
    "scrolled": true
   },
   "outputs": [
    {
     "data": {
      "text/plain": [
       "(11627, 39)"
      ]
     },
     "execution_count": 7,
     "metadata": {},
     "output_type": "execute_result"
    }
   ],
   "source": [
    "df.shape"
   ]
  },
  {
   "cell_type": "code",
   "execution_count": 8,
   "id": "abroad-colonial",
   "metadata": {},
   "outputs": [
    {
     "data": {
      "text/plain": [
       "Index(['RANDID', 'SEX', 'TOTCHOL', 'AGE', 'SYSBP', 'DIABP', 'CURSMOKE',\n",
       "       'CIGPDAY', 'BMI', 'DIABETES', 'BPMEDS', 'HEARTRTE', 'GLUCOSE', 'educ',\n",
       "       'PREVCHD', 'PREVAP', 'PREVMI', 'PREVSTRK', 'PREVHYP', 'TIME', 'PERIOD',\n",
       "       'HDLC', 'LDLC', 'DEATH', 'ANGINA', 'HOSPMI', 'MI_FCHD', 'ANYCHD',\n",
       "       'STROKE', 'CVD', 'HYPERTEN', 'TIMEAP', 'TIMEMI', 'TIMEMIFC', 'TIMECHD',\n",
       "       'TIMESTRK', 'TIMECVD', 'TIMEDTH', 'TIMEHYP'],\n",
       "      dtype='object')"
      ]
     },
     "execution_count": 8,
     "metadata": {},
     "output_type": "execute_result"
    }
   ],
   "source": [
    "(df.columns)"
   ]
  },
  {
   "cell_type": "code",
   "execution_count": 9,
   "id": "hearing-airfare",
   "metadata": {
    "scrolled": false
   },
   "outputs": [
    {
     "data": {
      "text/plain": [
       "Index(['SEX', 'TOTCHOL', 'AGE', 'SYSBP', 'DIABP', 'CURSMOKE', 'CIGPDAY', 'BMI',\n",
       "       'DIABETES', 'BPMEDS', 'HEARTRTE', 'GLUCOSE', 'educ', 'PREVCHD',\n",
       "       'PREVAP', 'PREVMI', 'PREVSTRK', 'PREVHYP', 'TIME', 'PERIOD', 'HDLC',\n",
       "       'LDLC'],\n",
       "      dtype='object')"
      ]
     },
     "execution_count": 9,
     "metadata": {},
     "output_type": "execute_result"
    }
   ],
   "source": [
    "df.iloc[:, 1: 23].columns"
   ]
  },
  {
   "cell_type": "code",
   "execution_count": 10,
   "id": "sunrise-sunday",
   "metadata": {},
   "outputs": [
    {
     "data": {
      "text/plain": [
       "Index(['DEATH', 'ANGINA', 'HOSPMI', 'MI_FCHD', 'ANYCHD', 'STROKE', 'CVD',\n",
       "       'HYPERTEN'],\n",
       "      dtype='object')"
      ]
     },
     "execution_count": 10,
     "metadata": {},
     "output_type": "execute_result"
    }
   ],
   "source": [
    "df.iloc[:, 23: 31].columns"
   ]
  },
  {
   "cell_type": "code",
   "execution_count": 11,
   "id": "related-kelly",
   "metadata": {
    "scrolled": true
   },
   "outputs": [
    {
     "name": "stdout",
     "output_type": "stream",
     "text": [
      "22 8\n"
     ]
    }
   ],
   "source": [
    "print(df.iloc[:, 1: 23].shape[1], df.iloc[:, 23: 31].shape[1])"
   ]
  },
  {
   "cell_type": "markdown",
   "id": "thrown-appliance",
   "metadata": {},
   "source": [
    "# Split data set into train, validation and test"
   ]
  },
  {
   "cell_type": "code",
   "execution_count": 12,
   "id": "sticky-interest",
   "metadata": {
    "scrolled": false
   },
   "outputs": [
    {
     "name": "stdout",
     "output_type": "stream",
     "text": [
      "(11627, 1)\n",
      "(6976, 22)\n"
     ]
    }
   ],
   "source": [
    "data = np.loadtxt(data_path, delimiter=\",\",dtype=float, skiprows=1)\n",
    "col_names = np.genfromtxt(data_path , delimiter=',', names=True, dtype=float).dtype.names[1:31]\n",
    "x_col_names = col_names[0:22]\n",
    "y_col_names = col_names[22:30]\n",
    "\n",
    "X = data[:, 1:23]\n",
    "Y = data[:, 29:30]\n",
    "\n",
    "X_train, X_test, Y_train, Y_test = train_test_split(X, Y, test_size=.4, random_state=42)\n",
    "print(Y.shape)\n",
    "print(X_train.shape)"
   ]
  },
  {
   "cell_type": "code",
   "execution_count": 13,
   "id": "frequent-worse",
   "metadata": {
    "scrolled": true
   },
   "outputs": [
    {
     "data": {
      "text/plain": [
       "22"
      ]
     },
     "execution_count": 13,
     "metadata": {},
     "output_type": "execute_result"
    }
   ],
   "source": [
    "len(x_col_names)"
   ]
  },
  {
   "cell_type": "markdown",
   "id": "marked-stuff",
   "metadata": {},
   "source": [
    "# Depth"
   ]
  },
  {
   "cell_type": "code",
   "execution_count": 14,
   "id": "bridal-bobby",
   "metadata": {},
   "outputs": [],
   "source": [
    "DEPTH=5"
   ]
  },
  {
   "cell_type": "markdown",
   "id": "worth-mother",
   "metadata": {},
   "source": [
    "# Train and test"
   ]
  },
  {
   "cell_type": "code",
   "execution_count": 16,
   "id": "accessible-mount",
   "metadata": {
    "scrolled": false
   },
   "outputs": [
    {
     "name": "stdout",
     "output_type": "stream",
     "text": [
      "\u001b[6;30;41m\u001b[1m             DEATH              \u001b[0m\u001b[0m\n",
      "\n",
      "\u001b[6;30;43m Decision tree fit and display  \u001b[0m\n",
      "|--- AGE <= 55.0 \n",
      "|---|--- SEX = 1.0 \n",
      "|---|---|--- TIME <= 2165.0 \n",
      "|---|---|---|--- AGE <= 43.0 value 0.0\n",
      "|---|---|---|---|--- SYSBP <= 132.0 value 0.0\n",
      "|---|---|---|---|---|--- PREVCHD = 1.0 value 1.0 else 0.0\n",
      "|---|---|---|--- HEARTRTE <= 92.0 \n",
      "|---|---|---|---|--- PREVCHD = 1.0 else  0.0\n",
      "|---|---|---|---|---|--- TIME <= 4393.0 value 0.0 else 1.0\n",
      "|---|---|---|---|--- TOTCHOL <= 221.0 else  0.0\n",
      "|---|---|---|---|---|--- DIABP <= 80.0 value 0.0 else 1.0\n",
      "|---|---|--- SYSBP <= 136.0 \n",
      "|---|---|---|--- CIGPDAY <= 13.0 else  0.0\n",
      "|---|---|---|---|--- TIME <= 1946.0 value 0.0\n",
      "|---|---|---|---|---|--- GLUCOSE <= 129.0 value 0.0 else 1.0\n",
      "|---|---|---|--- TIME <= 2233.0 \n",
      "|---|---|---|---|--- GLUCOSE <= 125.0 \n",
      "|---|---|---|---|---|--- PREVSTRK = 1.0 value 1.0 else 0.0\n",
      "|---|---|---|---|---|--- PREVHYP = 1.0 value 1.0 else 0.0\n",
      "|---|---|---|---|--- HEARTRTE <= 97.0 \n",
      "|---|---|---|---|---|--- GLUCOSE <= 207.0 value 0.0 else 1.0\n",
      "|---|---|---|---|---|--- TIME <= 4397.0 value 0.0 else 1.0\n",
      "|---|--- TIME <= 2192.0 \n",
      "|---|---|--- SEX = 1.0 \n",
      "|---|---|---|--- AGE <= 65.0 else  1.0\n",
      "|---|---|---|---|--- PREVCHD = 1.0 value 1.0\n",
      "|---|---|---|---|---|--- TIME <= 1900.0 value 1.0 else 0.0\n",
      "|---|---|---|--- SYSBP <= 171.0 \n",
      "|---|---|---|---|--- TIME <= 2064.0 \n",
      "|---|---|---|---|---|--- AGE <= 63.0 value 0.0 else 1.0\n",
      "|---|---|---|---|---|--- AGE <= 68.0 value 0.0 else 1.0\n",
      "|---|---|---|---|--- AGE <= 60.0 else  1.0\n",
      "|---|---|---|---|---|--- HDLC <= 49.0 value 1.0 else 0.0\n",
      "|---|---|--- AGE <= 67.0 \n",
      "|---|---|---|--- PREVCHD = 1.0 else  0.0\n",
      "|---|---|---|---|--- TIME <= 4215.0 value 1.0\n",
      "|---|---|---|---|---|--- CIGPDAY <= 18.0 value 0.0 else 1.0\n",
      "|---|---|---|--- SEX = 1.0 \n",
      "|---|---|---|---|--- AGE <= 73.0 else  1.0\n",
      "|---|---|---|---|---|--- SYSBP <= 154.0 value 0.0 else 1.0\n",
      "|---|---|---|---|--- SYSBP <= 165.0 else  1.0\n",
      "|---|---|---|---|---|--- HEARTRTE <= 90.0 value 0.0 else 1.0\n",
      "\n",
      "\u001b[6;30;43m              Test              \u001b[0m\n",
      "accuracy ==> 0.6523328316491077\n"
     ]
    },
    {
     "data": {
      "image/png": "[encoded data removed]",
      "text/plain": [
       "<Figure size 432x288 with 2 Axes>"
      ]
     },
     "metadata": {
      "needs_background": "light"
     },
     "output_type": "display_data"
    },
    {
     "name": "stdout",
     "output_type": "stream",
     "text": [
      "sensitivity : 0.6666666666666666, specificity : 0.64576802507837, PPV : 0.4629277566539924, NPV : 0.8087946603847664\n",
      "\n",
      "\n",
      "\n",
      "\n",
      "\u001b[6;30;41m\u001b[1m             ANGINA             \u001b[0m\u001b[0m\n",
      "\n",
      "\u001b[6;30;43m Decision tree fit and display  \u001b[0m\n",
      "|--- PREVAP = 1.0 value 1.0\n",
      "|---|--- BMI <= 25.07 \n",
      "|---|---|--- TOTCHOL <= 192.0 \n",
      "|---|---|---|--- DIABP <= 105.0 value 0.0\n",
      "|---|---|---|---|--- SEX = 1.0 value 0.0 else 1.0\n",
      "|---|---|---|--- BPMEDS = 1.0 \n",
      "|---|---|---|---|--- HDLC <= 47.0 else  0.0\n",
      "|---|---|---|---|---|--- TOTCHOL <= 285.0 value 0.0 else 1.0\n",
      "|---|---|---|---|--- SEX = 1.0 value 0.0\n",
      "|---|---|---|---|---|--- CIGPDAY <= 43.0 value 0.0 else 1.0\n",
      "|---|---|--- TOTCHOL <= 223.0 \n",
      "|---|---|---|--- PREVCHD = 1.0 \n",
      "|---|---|---|---|--- TOTCHOL <= 219.0 else  1.0\n",
      "|---|---|---|---|---|--- PREVMI = 1.0 value 0.0 else 1.0\n",
      "|---|---|---|---|--- BMI <= 45.8 value 0.0 else 1.0\n",
      "|---|---|---|--- HDLC <= 40.0 \n",
      "|---|---|---|---|--- BMI <= 34.27 value 0.0\n",
      "|---|---|---|---|---|--- TOTCHOL <= 279.0 value 0.0 else 1.0\n",
      "|---|---|---|---|--- GLUCOSE <= 180.0 value 0.0\n",
      "|---|---|---|---|---|--- GLUCOSE <= 280.0 value 1.0 else 0.0\n",
      "\n",
      "\u001b[6;30;43m              Test              \u001b[0m\n",
      "accuracy ==> 0.16448075682648894\n"
     ]
    },
    {
     "data": {
      "image/png": "[encoded data removed]",
      "text/plain": [
       "<Figure size 432x288 with 2 Axes>"
      ]
     },
     "metadata": {
      "needs_background": "light"
     },
     "output_type": "display_data"
    },
    {
     "name": "stdout",
     "output_type": "stream",
     "text": [
      "sensitivity : 1.0, specificity : 0.0, PPV : 0.16448075682648894, NPV : no negatives values\n",
      "\n",
      "\n",
      "\n",
      "\n",
      "\u001b[6;30;41m\u001b[1m             HOSPMI             \u001b[0m\u001b[0m\n",
      "\n",
      "\u001b[6;30;43m Decision tree fit and display  \u001b[0m\n",
      "|--- PREVMI = 1.0 \n",
      "|---|--- SEX = 1.0 \n",
      "|---|---|--- PREVHYP = 1.0 \n",
      "|---|---|---|--- HEARTRTE <= 73.0 \n",
      "|---|---|---|---|--- AGE <= 71.0 value 1.0\n",
      "|---|---|---|---|---|--- PREVAP = 1.0 value 1.0 else 0.0\n",
      "|---|---|---|---|--- SYSBP <= 115.0 value 1.0\n",
      "|---|---|---|---|---|--- BMI <= 19.51 value 0.0 else 1.0\n",
      "|---|---|---|--- HDLC <= 35.0 else  1.0\n",
      "|---|---|---|---|--- SYSBP <= 119.0 value 0.0 else 1.0\n",
      "|---|---|--- SYSBP <= 118.0 value 1.0\n",
      "|---|---|---|--- CURSMOKE = 1.0 value 0.0\n",
      "|---|---|---|---|--- educ <= 3.0 else  1.0\n",
      "|---|---|---|---|---|--- LDLC <= 165.0 value 0.0 else 1.0\n",
      "|---|--- SEX = 1.0 \n",
      "|---|---|--- PREVCHD = 1.0 \n",
      "|---|---|---|--- TOTCHOL <= 268.0 \n",
      "|---|---|---|---|--- AGE <= 51.0 else  0.0\n",
      "|---|---|---|---|---|--- GLUCOSE <= 70.0 value 0.0 else 1.0\n",
      "|---|---|---|---|--- TOTCHOL <= 294.0 else  0.0\n",
      "|---|---|---|---|---|--- SYSBP <= 120.0 value 0.0 else 1.0\n",
      "|---|---|---|--- TOTCHOL <= 203.0 else  0.0\n",
      "|---|---|---|---|--- TIME <= 4326.0 value 0.0\n",
      "|---|---|---|---|---|--- DIABP <= 110.0 value 0.0 else 1.0\n",
      "|---|---|--- SYSBP <= 143.0 \n",
      "|---|---|---|--- TOTCHOL <= 237.0 value 0.0\n",
      "|---|---|---|---|--- TOTCHOL <= 430.0 value 0.0 else 1.0\n",
      "|---|---|---|--- SYSBP <= 187.0 value 0.0\n",
      "|---|---|---|---|--- HEARTRTE <= 75.0 else  0.0\n",
      "|---|---|---|---|---|--- AGE <= 50.0 value 1.0 else 0.0\n",
      "\n",
      "\u001b[6;30;43m              Test              \u001b[0m\n",
      "accuracy ==> 0.1115889056116964\n"
     ]
    },
    {
     "data": {
      "image/png": "[encoded data removed]",
      "text/plain": [
       "<Figure size 432x288 with 2 Axes>"
      ]
     },
     "metadata": {
      "needs_background": "light"
     },
     "output_type": "display_data"
    },
    {
     "name": "stdout",
     "output_type": "stream",
     "text": [
      "sensitivity : 0.9935205183585313, specificity : 0.014087870105062083, PPV : 0.10023970363913706, NPV : 0.9516129032258065\n",
      "\n",
      "\n",
      "\n",
      "\n",
      "\u001b[6;30;41m\u001b[1m            MI_FCHD             \u001b[0m\u001b[0m\n",
      "\n",
      "\u001b[6;30;43m Decision tree fit and display  \u001b[0m\n",
      "|--- PREVCHD = 1.0 \n",
      "|---|--- PREVMI = 1.0 \n",
      "|---|---|--- PREVAP = 1.0 \n",
      "|---|---|---|--- DIABP <= 95.0 \n",
      "|---|---|---|---|--- BMI <= 16.94 else  1.0\n",
      "|---|---|---|---|---|--- SEX = 1.0 value 1.0 else 0.0\n",
      "|---|---|---|---|--- BMI <= 26.97 value 1.0\n",
      "|---|---|---|---|---|--- GLUCOSE <= 80.0 value 0.0 else 1.0\n",
      "|---|---|---|--- SYSBP <= 118.0 value 1.0\n",
      "|---|---|---|---|--- SEX = 1.0 \n",
      "|---|---|---|---|---|--- BMI <= 19.51 value 0.0 else 1.0\n",
      "|---|---|---|---|---|--- CURSMOKE = 1.0 value 0.0 else 1.0\n",
      "|---|---|--- SEX = 1.0 \n",
      "|---|---|---|--- HDLC <= 57.0 else  0.0\n",
      "|---|---|---|---|--- DIABP <= 90.0 else  1.0\n",
      "|---|---|---|---|---|--- GLUCOSE <= 84.0 value 0.0 else 1.0\n",
      "|---|---|---|--- DIABP <= 88.0 value 0.0\n",
      "|---|---|---|---|--- educ <= 2.0 else  0.0\n",
      "|---|---|---|---|---|--- educ = 2.0 value 0.0 else 1.0\n",
      "|---|--- SEX = 1.0 \n",
      "|---|---|--- SYSBP <= 144.0 \n",
      "|---|---|---|--- TOTCHOL <= 210.0 \n",
      "|---|---|---|---|--- GLUCOSE <= 175.0 value 0.0 else 1.0\n",
      "|---|---|---|---|--- TIME <= 2219.0 else  0.0\n",
      "|---|---|---|---|---|--- GLUCOSE <= 123.0 value 0.0 else 1.0\n",
      "|---|---|---|--- LDLC <= 124.0 else  0.0\n",
      "|---|---|---|---|--- TIME <= 4403.0 value 0.0\n",
      "|---|---|---|---|---|--- TIME <= 4460.0 value 1.0 else 0.0\n",
      "|---|---|--- SYSBP <= 143.0 \n",
      "|---|---|---|--- TOTCHOL <= 253.0 value 0.0\n",
      "|---|---|---|---|--- TOTCHOL <= 341.0 value 0.0\n",
      "|---|---|---|---|---|--- LDLC <= 170.0 value 1.0 else 0.0\n",
      "|---|---|---|--- SYSBP <= 172.0 else  0.0\n",
      "|---|---|---|---|--- TOTCHOL <= 290.0 value 0.0\n",
      "|---|---|---|---|---|--- DIABP <= 70.0 value 1.0 else 0.0\n",
      "\n",
      "\u001b[6;30;43m              Test              \u001b[0m\n",
      "accuracy ==> 0.1769511932917652\n"
     ]
    },
    {
     "data": {
      "image/png": "[encoded data removed]",
      "text/plain": [
       "<Figure size 432x288 with 2 Axes>"
      ]
     },
     "metadata": {
      "needs_background": "light"
     },
     "output_type": "display_data"
    },
    {
     "name": "stdout",
     "output_type": "stream",
     "text": [
      "sensitivity : 0.9503355704697987, specificity : 0.02944188428059396, PPV : 0.15736830406757057, NPV : 0.756578947368421\n",
      "\n",
      "\n",
      "\n",
      "\n",
      "\u001b[6;30;41m\u001b[1m             ANYCHD             \u001b[0m\u001b[0m\n",
      "\n",
      "\u001b[6;30;43m Decision tree fit and display  \u001b[0m\n",
      "|--- PREVCHD = 1.0 value 1.0\n",
      "|---|--- SEX = 1.0 \n",
      "|---|---|--- SYSBP <= 134.0 \n",
      "|---|---|---|--- TOTCHOL <= 224.0 \n",
      "|---|---|---|---|--- DIABETES = 1.0 else  0.0\n",
      "|---|---|---|---|---|--- TOTCHOL <= 213.0 value 1.0 else 0.0\n",
      "|---|---|---|---|--- TIME <= 4263.0 else  0.0\n",
      "|---|---|---|---|---|--- GLUCOSE <= 105.0 value 0.0 else 1.0\n",
      "|---|---|---|--- BMI <= 26.08 value 0.0\n",
      "|---|---|---|---|--- TIME <= 2171.0 else  0.0\n",
      "|---|---|---|---|---|--- TOTCHOL <= 283.0 value 0.0 else 1.0\n",
      "|---|---|--- SYSBP <= 143.0 \n",
      "|---|---|---|--- TOTCHOL <= 226.0 value 0.0\n",
      "|---|---|---|---|--- HDLC <= 41.0 else  0.0\n",
      "|---|---|---|---|---|--- BMI <= 32.6 value 0.0 else 1.0\n",
      "|---|---|---|--- SYSBP <= 171.0 value 0.0\n",
      "|---|---|---|---|--- BMI <= 44.71 value 0.0 else 1.0\n",
      "\n",
      "\u001b[6;30;43m              Test              \u001b[0m\n",
      "accuracy ==> 0.27477961728660505\n"
     ]
    },
    {
     "data": {
      "image/png": "[encoded data removed]",
      "text/plain": [
       "<Figure size 432x288 with 2 Axes>"
      ]
     },
     "metadata": {
      "needs_background": "light"
     },
     "output_type": "display_data"
    },
    {
     "name": "stdout",
     "output_type": "stream",
     "text": [
      "sensitivity : 1.0, specificity : 0.0, PPV : 0.27477961728660505, NPV : no negatives values\n",
      "\n",
      "\n",
      "\n",
      "\n",
      "\u001b[6;30;41m\u001b[1m             STROKE             \u001b[0m\u001b[0m\n",
      "\n",
      "\u001b[6;30;43m Decision tree fit and display  \u001b[0m\n",
      "|--- PREVSTRK = 1.0 value 1.0\n",
      "|---|--- AGE <= 55.0 \n",
      "|---|---|--- SYSBP <= 136.0 \n",
      "|---|---|---|--- CIGPDAY <= 2.0 else  0.0\n",
      "|---|---|---|---|--- BMI <= 26.43 value 0.0\n",
      "|---|---|---|---|---|--- DIABP <= 100.0 value 0.0 else 1.0\n",
      "|---|---|---|--- TIME <= 2176.0 else  0.0\n",
      "|---|---|---|---|--- HDLC <= 72.0 value 0.0\n",
      "|---|---|---|---|---|--- SEX = 1.0 value 0.0 else 1.0\n",
      "|---|---|--- SYSBP <= 164.0 value 0.0\n",
      "|---|---|---|--- TIME <= 2165.0 \n",
      "|---|---|---|---|--- DIABP <= 105.0 \n",
      "|---|---|---|---|---|--- TIME <= 2157.0 value 0.0 else 1.0\n",
      "|---|---|---|---|---|--- BMI <= 35.22 value 0.0 else 1.0\n",
      "|---|---|---|---|--- SYSBP <= 207.0 \n",
      "|---|---|---|---|---|--- HDLC <= 27.0 value 1.0 else 0.0\n",
      "|---|---|---|---|---|--- TIME <= 4387.0 value 0.0 else 1.0\n",
      "\n",
      "\u001b[6;30;43m              Test              \u001b[0m\n",
      "accuracy ==> 0.08793807783272414\n"
     ]
    },
    {
     "data": {
      "image/png": "[encoded data removed]",
      "text/plain": [
       "<Figure size 432x288 with 2 Axes>"
      ]
     },
     "metadata": {
      "needs_background": "light"
     },
     "output_type": "display_data"
    },
    {
     "name": "stdout",
     "output_type": "stream",
     "text": [
      "sensitivity : 1.0, specificity : 0.0, PPV : 0.08793807783272414, NPV : no negatives values\n",
      "\n",
      "\n",
      "\n",
      "\n",
      "\u001b[6;30;41m\u001b[1m              CVD               \u001b[0m\u001b[0m\n",
      "\n",
      "\u001b[6;30;43m Decision tree fit and display  \u001b[0m\n",
      "|--- PREVMI = 1.0 \n",
      "|---|--- LDLC <= 196.0 value 1.0\n",
      "|---|---|--- BMI <= 23.34 \n",
      "|---|---|---|--- AGE <= 60.0 value 0.0\n",
      "|---|---|---|---|--- SYSBP <= 167.0 value 1.0 else 0.0\n",
      "|---|---|---|--- TIME <= 2083.0 else  1.0\n",
      "|---|---|---|---|--- TOTCHOL = 268.0 value 1.0 else 0.0\n",
      "|---|--- SYSBP <= 135.0 \n",
      "|---|---|--- SEX = 1.0 \n",
      "|---|---|---|--- AGE <= 54.0 \n",
      "|---|---|---|---|--- TOTCHOL <= 208.0 else  0.0\n",
      "|---|---|---|---|---|--- GLUCOSE <= 143.0 value 0.0 else 1.0\n",
      "|---|---|---|---|--- TIME <= 2267.0 value 0.0\n",
      "|---|---|---|---|---|--- PREVAP = 1.0 value 1.0 else 0.0\n",
      "|---|---|---|--- PREVSTRK = 1.0 value 1.0 else 0.0\n",
      "|---|---|--- PREVSTRK = 1.0 value 1.0\n",
      "|---|---|---|--- SEX = 1.0 else  0.0\n",
      "|---|---|---|---|--- AGE <= 53.0 value 0.0\n",
      "|---|---|---|---|---|--- TIME <= 4157.0 value 1.0 else 0.0\n",
      "\n",
      "\u001b[6;30;43m              Test              \u001b[0m\n",
      "accuracy ==> 0.2698344442055472\n"
     ]
    },
    {
     "data": {
      "image/png": "[encoded data removed]",
      "text/plain": [
       "<Figure size 432x288 with 2 Axes>"
      ]
     },
     "metadata": {
      "needs_background": "light"
     },
     "output_type": "display_data"
    },
    {
     "name": "stdout",
     "output_type": "stream",
     "text": [
      "sensitivity : 0.9434447300771208, specificity : 0.04420206659012629, PPV : 0.24847664184157076, NPV : 0.7\n",
      "\n",
      "\n",
      "\n",
      "\n",
      "\u001b[6;30;41m\u001b[1m            HYPERTEN            \u001b[0m\u001b[0m\n",
      "\n",
      "\u001b[6;30;43m Decision tree fit and display  \u001b[0m\n",
      "|--- PREVHYP = 1.0 value 1.0\n",
      "|---|--- SYSBP <= 121.0 \n",
      "|---|---|--- SYSBP <= 113.0 \n",
      "|---|---|---|--- TIME <= 1914.0 \n",
      "|---|---|---|---|--- BMI <= 24.85 \n",
      "|---|---|---|---|---|--- HDLC <= 69.0 value 0.0 else 1.0\n",
      "|---|---|---|---|---|--- AGE <= 62.0 value 0.0 else 1.0\n",
      "|---|---|---|---|--- GLUCOSE <= 128.0 value 0.0 else 1.0\n",
      "|---|---|---|--- TIME <= 2238.0 \n",
      "|---|---|---|---|--- SEX = 1.0 value 0.0\n",
      "|---|---|---|---|---|--- LDLC <= 227.0 value 1.0 else 0.0\n",
      "|---|---|---|---|--- SEX = 1.0 else  0.0\n",
      "|---|---|---|---|---|--- HEARTRTE <= 90.0 value 0.0 else 1.0\n",
      "|---|---|--- SYSBP <= 131.0 \n",
      "|---|---|---|--- TIME <= 2309.0 value 1.0\n",
      "|---|---|---|---|--- DIABP <= 87.0 else  1.0\n",
      "|---|---|---|---|---|--- BMI <= 26.89 value 0.0 else 1.0\n",
      "|---|---|---|--- TIME <= 4201.0 \n",
      "|---|---|---|---|--- SYSBP <= 144.0 value 1.0\n",
      "|---|---|---|---|---|--- DIABP <= 69.0 value 0.0 else 1.0\n",
      "|---|---|---|---|--- SYSBP <= 138.0 value 1.0\n",
      "|---|---|---|---|---|--- TIME <= 4469.0 value 1.0 else 0.0\n",
      "\n",
      "\u001b[6;30;43m              Test              \u001b[0m\n",
      "accuracy ==> 0.7441410449365727\n"
     ]
    },
    {
     "data": {
      "image/png": "[encoded data removed]",
      "text/plain": [
       "<Figure size 432x288 with 2 Axes>"
      ]
     },
     "metadata": {
      "needs_background": "light"
     },
     "output_type": "display_data"
    },
    {
     "name": "stdout",
     "output_type": "stream",
     "text": [
      "sensitivity : 1.0, specificity : 0.0, PPV : 0.7441410449365727, NPV : no negatives values\n",
      "\n",
      "\n",
      "\n",
      "\n",
      "\u001b[6;30;42m Mean accuracy of all labels :  \u001b[0m 0.3102558589550634\n"
     ]
    }
   ],
   "source": [
    "total_accuracy = 0\n",
    "decision_trees = []\n",
    "for i, column in enumerate(y_col_names):\n",
    "    print(\"\\x1b[6;30;41m\\033[1m\", column.center(30), \"\\x1b[0m\\033[0m\\n\")\n",
    "    i = i + 23\n",
    "    Y = data[:, i:(i+1)]\n",
    "    \n",
    "    X_train, X_test, Y_train, Y_test = train_test_split(X, Y, test_size=.4, random_state=42)\n",
    "   \n",
    "    print(\"\\x1b[6;30;43m\", \"Decision tree fit and display\".center(30), \"\\x1b[0m\")\n",
    "    decision_tree = DecisionTree(max_depth=DEPTH)\n",
    "    decision_tree.fit(X_train, Y_train, x_col_names=x_col_names)\n",
    "    decision_tree.pretty_print()\n",
    "    decision_trees.append(decision_tree)\n",
    "    \n",
    "    print(\"\\n\\x1b[6;30;43m\", \"Test\".center(30),\"\\x1b[0m\")\n",
    "    \n",
    "    total_accuracy += decision_tree.prediction_analyse(X_test, Y_test)\n",
    "    print(\"\\n\\n\\n\")\n",
    "print(\"\\x1b[6;30;42m\", \"Mean accuracy of all labels :\".center(30), \"\\x1b[0m\", total_accuracy / len(y_col_names))"
   ]
  },
  {
   "cell_type": "markdown",
   "id": "sharp-shepherd",
   "metadata": {},
   "source": [
    "# Evaluation on one human"
   ]
  },
  {
   "cell_type": "code",
   "execution_count": 17,
   "id": "analyzed-antenna",
   "metadata": {
    "scrolled": false
   },
   "outputs": [
    {
     "name": "stdout",
     "output_type": "stream",
     "text": [
      "\n",
      "\u001b[6;30;41m\u001b[1m             DEATH              \u001b[0m\u001b[0m\n",
      "\n",
      "AGE : 72.0 > 55.0\n",
      "TIME : 4439.0 > 2192.0\n",
      "AGE : 72.0 > 67.0\n",
      "SEX : 1.0 = 1.0\n",
      "AGE : 72.0 <= 73.0\n",
      "SYSBP : 139.0 <= 154.0\n",
      "\u001b[6;30;42mValue :\u001b[0m 0.0\n",
      "\n",
      "\u001b[6;30;41m\u001b[1m             ANGINA             \u001b[0m\u001b[0m\n",
      "\n",
      "AGE : 72.0 > 55.0\n",
      "TIME : 4439.0 > 2192.0\n",
      "AGE : 72.0 > 67.0\n",
      "SEX : 1.0 = 1.0\n",
      "AGE : 72.0 <= 73.0\n",
      "SYSBP : 139.0 <= 154.0\n",
      "PREVAP : 0.0 = 1.0\n",
      "\u001b[6;30;42mValue :\u001b[0m 1.0\n",
      "\n",
      "\u001b[6;30;41m\u001b[1m             HOSPMI             \u001b[0m\u001b[0m\n",
      "\n",
      "AGE : 72.0 > 55.0\n",
      "TIME : 4439.0 > 2192.0\n",
      "AGE : 72.0 > 67.0\n",
      "SEX : 1.0 = 1.0\n",
      "AGE : 72.0 <= 73.0\n",
      "SYSBP : 139.0 <= 154.0\n",
      "PREVAP : 0.0 = 1.0\n",
      "PREVMI : 0.0 = 1.0\n",
      "SEX : 1.0 = 1.0\n",
      "PREVHYP : 1.0 = 1.0\n",
      "HEARTRTE : 70.0 <= 73.0\n",
      "AGE : 72.0 > 71.0\n",
      "PREVAP : 0.0 = 1.0\n",
      "\u001b[6;30;42mValue :\u001b[0m 1.0\n",
      "\n",
      "\u001b[6;30;41m\u001b[1m            MI_FCHD             \u001b[0m\u001b[0m\n",
      "\n",
      "AGE : 72.0 > 55.0\n",
      "TIME : 4439.0 > 2192.0\n",
      "AGE : 72.0 > 67.0\n",
      "SEX : 1.0 = 1.0\n",
      "AGE : 72.0 <= 73.0\n",
      "SYSBP : 139.0 <= 154.0\n",
      "PREVAP : 0.0 = 1.0\n",
      "PREVMI : 0.0 = 1.0\n",
      "SEX : 1.0 = 1.0\n",
      "PREVHYP : 1.0 = 1.0\n",
      "HEARTRTE : 70.0 <= 73.0\n",
      "AGE : 72.0 > 71.0\n",
      "PREVAP : 0.0 = 1.0\n",
      "PREVCHD : 0.0 = 1.0\n",
      "PREVMI : 0.0 = 1.0\n",
      "PREVAP : 0.0 = 1.0\n",
      "DIABP : 82.0 <= 95.0\n",
      "BMI : 28.52 > 16.94\n",
      "\u001b[6;30;42mValue :\u001b[0m 1.0\n",
      "\n",
      "\u001b[6;30;41m\u001b[1m             ANYCHD             \u001b[0m\u001b[0m\n",
      "\n",
      "AGE : 72.0 > 55.0\n",
      "TIME : 4439.0 > 2192.0\n",
      "AGE : 72.0 > 67.0\n",
      "SEX : 1.0 = 1.0\n",
      "AGE : 72.0 <= 73.0\n",
      "SYSBP : 139.0 <= 154.0\n",
      "PREVAP : 0.0 = 1.0\n",
      "PREVMI : 0.0 = 1.0\n",
      "SEX : 1.0 = 1.0\n",
      "PREVHYP : 1.0 = 1.0\n",
      "HEARTRTE : 70.0 <= 73.0\n",
      "AGE : 72.0 > 71.0\n",
      "PREVAP : 0.0 = 1.0\n",
      "PREVCHD : 0.0 = 1.0\n",
      "PREVMI : 0.0 = 1.0\n",
      "PREVAP : 0.0 = 1.0\n",
      "DIABP : 82.0 <= 95.0\n",
      "BMI : 28.52 > 16.94\n",
      "PREVCHD : 0.0 = 1.0\n",
      "\u001b[6;30;42mValue :\u001b[0m 1.0\n",
      "\n",
      "\u001b[6;30;41m\u001b[1m             STROKE             \u001b[0m\u001b[0m\n",
      "\n",
      "AGE : 72.0 > 55.0\n",
      "TIME : 4439.0 > 2192.0\n",
      "AGE : 72.0 > 67.0\n",
      "SEX : 1.0 = 1.0\n",
      "AGE : 72.0 <= 73.0\n",
      "SYSBP : 139.0 <= 154.0\n",
      "PREVAP : 0.0 = 1.0\n",
      "PREVMI : 0.0 = 1.0\n",
      "SEX : 1.0 = 1.0\n",
      "PREVHYP : 1.0 = 1.0\n",
      "HEARTRTE : 70.0 <= 73.0\n",
      "AGE : 72.0 > 71.0\n",
      "PREVAP : 0.0 = 1.0\n",
      "PREVCHD : 0.0 = 1.0\n",
      "PREVMI : 0.0 = 1.0\n",
      "PREVAP : 0.0 = 1.0\n",
      "DIABP : 82.0 <= 95.0\n",
      "BMI : 28.52 > 16.94\n",
      "PREVCHD : 0.0 = 1.0\n",
      "PREVSTRK : 0.0 = 1.0\n",
      "\u001b[6;30;42mValue :\u001b[0m 1.0\n",
      "\n",
      "\u001b[6;30;41m\u001b[1m              CVD               \u001b[0m\u001b[0m\n",
      "\n",
      "AGE : 72.0 > 55.0\n",
      "TIME : 4439.0 > 2192.0\n",
      "AGE : 72.0 > 67.0\n",
      "SEX : 1.0 = 1.0\n",
      "AGE : 72.0 <= 73.0\n",
      "SYSBP : 139.0 <= 154.0\n",
      "PREVAP : 0.0 = 1.0\n",
      "PREVMI : 0.0 = 1.0\n",
      "SEX : 1.0 = 1.0\n",
      "PREVHYP : 1.0 = 1.0\n",
      "HEARTRTE : 70.0 <= 73.0\n",
      "AGE : 72.0 > 71.0\n",
      "PREVAP : 0.0 = 1.0\n",
      "PREVCHD : 0.0 = 1.0\n",
      "PREVMI : 0.0 = 1.0\n",
      "PREVAP : 0.0 = 1.0\n",
      "DIABP : 82.0 <= 95.0\n",
      "BMI : 28.52 > 16.94\n",
      "PREVCHD : 0.0 = 1.0\n",
      "PREVSTRK : 0.0 = 1.0\n",
      "PREVMI : 0.0 = 1.0\n",
      "LDLC : 155.0 <= 196.0\n",
      "\u001b[6;30;42mValue :\u001b[0m 1.0\n",
      "\n",
      "\u001b[6;30;41m\u001b[1m            HYPERTEN            \u001b[0m\u001b[0m\n",
      "\n",
      "AGE : 72.0 > 55.0\n",
      "TIME : 4439.0 > 2192.0\n",
      "AGE : 72.0 > 67.0\n",
      "SEX : 1.0 = 1.0\n",
      "AGE : 72.0 <= 73.0\n",
      "SYSBP : 139.0 <= 154.0\n",
      "PREVAP : 0.0 = 1.0\n",
      "PREVMI : 0.0 = 1.0\n",
      "SEX : 1.0 = 1.0\n",
      "PREVHYP : 1.0 = 1.0\n",
      "HEARTRTE : 70.0 <= 73.0\n",
      "AGE : 72.0 > 71.0\n",
      "PREVAP : 0.0 = 1.0\n",
      "PREVCHD : 0.0 = 1.0\n",
      "PREVMI : 0.0 = 1.0\n",
      "PREVAP : 0.0 = 1.0\n",
      "DIABP : 82.0 <= 95.0\n",
      "BMI : 28.52 > 16.94\n",
      "PREVCHD : 0.0 = 1.0\n",
      "PREVSTRK : 0.0 = 1.0\n",
      "PREVMI : 0.0 = 1.0\n",
      "LDLC : 155.0 <= 196.0\n",
      "PREVHYP : 1.0 = 1.0\n",
      "\u001b[6;30;42mValue :\u001b[0m 1.0\n"
     ]
    }
   ],
   "source": [
    "for i, column in enumerate(y_col_names):\n",
    "    print(\"\\n\\x1b[6;30;41m\\033[1m\", column.center(30), \"\\x1b[0m\\033[0m\\n\")\n",
    "    decision_trees[i].predict_one_element(X_test[0], display_evaluation_flow=True) "
   ]
  },
  {
   "cell_type": "code",
   "execution_count": null,
   "id": "surgical-range",
   "metadata": {},
   "outputs": [],
   "source": []
  }
 ],
 "metadata": {
  "interpreter": {
   "hash": "7b0737d0a982cf1e153ab6f44678ad7b5c1fe4b0e39dee0b0c44985cb0da0854"
  },
  "kernelspec": {
   "display_name": "Python 3",
   "language": "python",
   "name": "python3"
  },
  "language_info": {
   "codemirror_mode": {
    "name": "ipython",
    "version": 3
   },
   "file_extension": ".py",
   "mimetype": "text/x-python",
   "name": "python",
   "nbconvert_exporter": "python",
   "pygments_lexer": "ipython3",
   "version": "3.9.6"
  }
 },
 "nbformat": 4,
 "nbformat_minor": 5
}
