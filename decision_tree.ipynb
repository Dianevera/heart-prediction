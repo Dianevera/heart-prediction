{
 "cells": [
  {
   "cell_type": "code",
   "execution_count": 1,
   "id": "judicial-enclosure",
   "metadata": {},
   "outputs": [],
   "source": [
    "import pandas as pd\n",
    "import numpy as np"
   ]
  },
  {
   "cell_type": "code",
   "execution_count": 2,
   "id": "classified-mitchell",
   "metadata": {},
   "outputs": [],
   "source": [
    "from sklearn.model_selection import train_test_split\n",
    "from sklearn.metrics import accuracy_score\n",
    "from sklearn.metrics import ConfusionMatrixDisplay, confusion_matrix"
   ]
  },
  {
   "cell_type": "code",
   "execution_count": 3,
   "id": "collect-profile",
   "metadata": {},
   "outputs": [],
   "source": [
    "import matplotlib.pyplot as plt"
   ]
  },
  {
   "cell_type": "code",
   "execution_count": 4,
   "id": "worldwide-egypt",
   "metadata": {},
   "outputs": [],
   "source": [
    "import seaborn as sns"
   ]
  },
  {
   "cell_type": "markdown",
   "id": "ongoing-sessions",
   "metadata": {},
   "source": [
    "# Data location"
   ]
  },
  {
   "cell_type": "code",
   "execution_count": 5,
   "id": "dutch-comparison",
   "metadata": {},
   "outputs": [],
   "source": [
    "data_path = \"data/clean_data.csv\""
   ]
  },
  {
   "cell_type": "markdown",
   "id": "atmospheric-berry",
   "metadata": {},
   "source": [
    "# Load data"
   ]
  },
  {
   "cell_type": "code",
   "execution_count": 6,
   "id": "awful-suite",
   "metadata": {},
   "outputs": [],
   "source": [
    "df = pd.read_csv(data_path)"
   ]
  },
  {
   "cell_type": "code",
   "execution_count": 7,
   "id": "alternative-eight",
   "metadata": {},
   "outputs": [
    {
     "data": {
      "text/html": [
       "<div>\n",
       "<style scoped>\n",
       "    .dataframe tbody tr th:only-of-type {\n",
       "        vertical-align: middle;\n",
       "    }\n",
       "\n",
       "    .dataframe tbody tr th {\n",
       "        vertical-align: top;\n",
       "    }\n",
       "\n",
       "    .dataframe thead th {\n",
       "        text-align: right;\n",
       "    }\n",
       "</style>\n",
       "<table border=\"1\" class=\"dataframe\">\n",
       "  <thead>\n",
       "    <tr style=\"text-align: right;\">\n",
       "      <th></th>\n",
       "      <th>RANDID</th>\n",
       "      <th>SEX</th>\n",
       "      <th>TOTCHOL</th>\n",
       "      <th>AGE</th>\n",
       "      <th>SYSBP</th>\n",
       "      <th>DIABP</th>\n",
       "      <th>CURSMOKE</th>\n",
       "      <th>CIGPDAY</th>\n",
       "      <th>BMI</th>\n",
       "      <th>DIABETES</th>\n",
       "      <th>...</th>\n",
       "      <th>CVD</th>\n",
       "      <th>HYPERTEN</th>\n",
       "      <th>TIMEAP</th>\n",
       "      <th>TIMEMI</th>\n",
       "      <th>TIMEMIFC</th>\n",
       "      <th>TIMECHD</th>\n",
       "      <th>TIMESTRK</th>\n",
       "      <th>TIMECVD</th>\n",
       "      <th>TIMEDTH</th>\n",
       "      <th>TIMEHYP</th>\n",
       "    </tr>\n",
       "  </thead>\n",
       "  <tbody>\n",
       "    <tr>\n",
       "      <th>0</th>\n",
       "      <td>2448.0</td>\n",
       "      <td>1.0</td>\n",
       "      <td>195.0</td>\n",
       "      <td>39.0</td>\n",
       "      <td>106.0</td>\n",
       "      <td>70.0</td>\n",
       "      <td>0.0</td>\n",
       "      <td>0.0</td>\n",
       "      <td>26.970</td>\n",
       "      <td>0.0</td>\n",
       "      <td>...</td>\n",
       "      <td>1.0</td>\n",
       "      <td>0.0</td>\n",
       "      <td>8766.0</td>\n",
       "      <td>6438.0</td>\n",
       "      <td>6438.0</td>\n",
       "      <td>6438.0</td>\n",
       "      <td>8766.0</td>\n",
       "      <td>6438.0</td>\n",
       "      <td>8766.0</td>\n",
       "      <td>8766.0</td>\n",
       "    </tr>\n",
       "    <tr>\n",
       "      <th>1</th>\n",
       "      <td>2448.0</td>\n",
       "      <td>1.0</td>\n",
       "      <td>209.0</td>\n",
       "      <td>52.0</td>\n",
       "      <td>121.0</td>\n",
       "      <td>66.0</td>\n",
       "      <td>0.0</td>\n",
       "      <td>0.0</td>\n",
       "      <td>27.794</td>\n",
       "      <td>0.0</td>\n",
       "      <td>...</td>\n",
       "      <td>1.0</td>\n",
       "      <td>0.0</td>\n",
       "      <td>8766.0</td>\n",
       "      <td>6438.0</td>\n",
       "      <td>6438.0</td>\n",
       "      <td>6438.0</td>\n",
       "      <td>8766.0</td>\n",
       "      <td>6438.0</td>\n",
       "      <td>8766.0</td>\n",
       "      <td>8766.0</td>\n",
       "    </tr>\n",
       "    <tr>\n",
       "      <th>2</th>\n",
       "      <td>6238.0</td>\n",
       "      <td>2.0</td>\n",
       "      <td>250.0</td>\n",
       "      <td>46.0</td>\n",
       "      <td>121.0</td>\n",
       "      <td>81.0</td>\n",
       "      <td>0.0</td>\n",
       "      <td>0.0</td>\n",
       "      <td>28.730</td>\n",
       "      <td>0.0</td>\n",
       "      <td>...</td>\n",
       "      <td>0.0</td>\n",
       "      <td>0.0</td>\n",
       "      <td>8766.0</td>\n",
       "      <td>8766.0</td>\n",
       "      <td>8766.0</td>\n",
       "      <td>8766.0</td>\n",
       "      <td>8766.0</td>\n",
       "      <td>8766.0</td>\n",
       "      <td>8766.0</td>\n",
       "      <td>8766.0</td>\n",
       "    </tr>\n",
       "    <tr>\n",
       "      <th>3</th>\n",
       "      <td>6238.0</td>\n",
       "      <td>2.0</td>\n",
       "      <td>260.0</td>\n",
       "      <td>52.0</td>\n",
       "      <td>105.0</td>\n",
       "      <td>70.0</td>\n",
       "      <td>0.0</td>\n",
       "      <td>0.0</td>\n",
       "      <td>29.430</td>\n",
       "      <td>0.0</td>\n",
       "      <td>...</td>\n",
       "      <td>0.0</td>\n",
       "      <td>0.0</td>\n",
       "      <td>8766.0</td>\n",
       "      <td>8766.0</td>\n",
       "      <td>8766.0</td>\n",
       "      <td>8766.0</td>\n",
       "      <td>8766.0</td>\n",
       "      <td>8766.0</td>\n",
       "      <td>8766.0</td>\n",
       "      <td>8766.0</td>\n",
       "    </tr>\n",
       "    <tr>\n",
       "      <th>4</th>\n",
       "      <td>6238.0</td>\n",
       "      <td>2.0</td>\n",
       "      <td>237.0</td>\n",
       "      <td>58.0</td>\n",
       "      <td>108.0</td>\n",
       "      <td>66.0</td>\n",
       "      <td>0.0</td>\n",
       "      <td>0.0</td>\n",
       "      <td>28.500</td>\n",
       "      <td>0.0</td>\n",
       "      <td>...</td>\n",
       "      <td>0.0</td>\n",
       "      <td>0.0</td>\n",
       "      <td>8766.0</td>\n",
       "      <td>8766.0</td>\n",
       "      <td>8766.0</td>\n",
       "      <td>8766.0</td>\n",
       "      <td>8766.0</td>\n",
       "      <td>8766.0</td>\n",
       "      <td>8766.0</td>\n",
       "      <td>8766.0</td>\n",
       "    </tr>\n",
       "    <tr>\n",
       "      <th>...</th>\n",
       "      <td>...</td>\n",
       "      <td>...</td>\n",
       "      <td>...</td>\n",
       "      <td>...</td>\n",
       "      <td>...</td>\n",
       "      <td>...</td>\n",
       "      <td>...</td>\n",
       "      <td>...</td>\n",
       "      <td>...</td>\n",
       "      <td>...</td>\n",
       "      <td>...</td>\n",
       "      <td>...</td>\n",
       "      <td>...</td>\n",
       "      <td>...</td>\n",
       "      <td>...</td>\n",
       "      <td>...</td>\n",
       "      <td>...</td>\n",
       "      <td>...</td>\n",
       "      <td>...</td>\n",
       "      <td>...</td>\n",
       "      <td>...</td>\n",
       "    </tr>\n",
       "    <tr>\n",
       "      <th>11622</th>\n",
       "      <td>9998212.0</td>\n",
       "      <td>1.0</td>\n",
       "      <td>173.0</td>\n",
       "      <td>46.0</td>\n",
       "      <td>126.0</td>\n",
       "      <td>82.0</td>\n",
       "      <td>0.0</td>\n",
       "      <td>0.0</td>\n",
       "      <td>19.170</td>\n",
       "      <td>0.0</td>\n",
       "      <td>...</td>\n",
       "      <td>0.0</td>\n",
       "      <td>1.0</td>\n",
       "      <td>8766.0</td>\n",
       "      <td>8766.0</td>\n",
       "      <td>8766.0</td>\n",
       "      <td>8766.0</td>\n",
       "      <td>8766.0</td>\n",
       "      <td>8766.0</td>\n",
       "      <td>8766.0</td>\n",
       "      <td>0.0</td>\n",
       "    </tr>\n",
       "    <tr>\n",
       "      <th>11623</th>\n",
       "      <td>9998212.0</td>\n",
       "      <td>1.0</td>\n",
       "      <td>153.0</td>\n",
       "      <td>52.0</td>\n",
       "      <td>143.0</td>\n",
       "      <td>89.0</td>\n",
       "      <td>0.0</td>\n",
       "      <td>0.0</td>\n",
       "      <td>25.740</td>\n",
       "      <td>0.0</td>\n",
       "      <td>...</td>\n",
       "      <td>0.0</td>\n",
       "      <td>1.0</td>\n",
       "      <td>8766.0</td>\n",
       "      <td>8766.0</td>\n",
       "      <td>8766.0</td>\n",
       "      <td>8766.0</td>\n",
       "      <td>8766.0</td>\n",
       "      <td>8766.0</td>\n",
       "      <td>8766.0</td>\n",
       "      <td>0.0</td>\n",
       "    </tr>\n",
       "    <tr>\n",
       "      <th>11624</th>\n",
       "      <td>9999312.0</td>\n",
       "      <td>2.0</td>\n",
       "      <td>196.0</td>\n",
       "      <td>39.0</td>\n",
       "      <td>133.0</td>\n",
       "      <td>86.0</td>\n",
       "      <td>1.0</td>\n",
       "      <td>30.0</td>\n",
       "      <td>20.910</td>\n",
       "      <td>0.0</td>\n",
       "      <td>...</td>\n",
       "      <td>0.0</td>\n",
       "      <td>1.0</td>\n",
       "      <td>8766.0</td>\n",
       "      <td>8766.0</td>\n",
       "      <td>8766.0</td>\n",
       "      <td>8766.0</td>\n",
       "      <td>8766.0</td>\n",
       "      <td>8766.0</td>\n",
       "      <td>8766.0</td>\n",
       "      <td>4201.0</td>\n",
       "    </tr>\n",
       "    <tr>\n",
       "      <th>11625</th>\n",
       "      <td>9999312.0</td>\n",
       "      <td>2.0</td>\n",
       "      <td>240.0</td>\n",
       "      <td>46.0</td>\n",
       "      <td>138.0</td>\n",
       "      <td>79.0</td>\n",
       "      <td>1.0</td>\n",
       "      <td>20.0</td>\n",
       "      <td>26.390</td>\n",
       "      <td>0.0</td>\n",
       "      <td>...</td>\n",
       "      <td>0.0</td>\n",
       "      <td>1.0</td>\n",
       "      <td>8766.0</td>\n",
       "      <td>8766.0</td>\n",
       "      <td>8766.0</td>\n",
       "      <td>8766.0</td>\n",
       "      <td>8766.0</td>\n",
       "      <td>8766.0</td>\n",
       "      <td>8766.0</td>\n",
       "      <td>4201.0</td>\n",
       "    </tr>\n",
       "    <tr>\n",
       "      <th>11626</th>\n",
       "      <td>9999312.0</td>\n",
       "      <td>2.0</td>\n",
       "      <td>189.0</td>\n",
       "      <td>50.0</td>\n",
       "      <td>147.0</td>\n",
       "      <td>96.0</td>\n",
       "      <td>1.0</td>\n",
       "      <td>10.0</td>\n",
       "      <td>24.190</td>\n",
       "      <td>0.0</td>\n",
       "      <td>...</td>\n",
       "      <td>0.0</td>\n",
       "      <td>1.0</td>\n",
       "      <td>8766.0</td>\n",
       "      <td>8766.0</td>\n",
       "      <td>8766.0</td>\n",
       "      <td>8766.0</td>\n",
       "      <td>8766.0</td>\n",
       "      <td>8766.0</td>\n",
       "      <td>8766.0</td>\n",
       "      <td>4201.0</td>\n",
       "    </tr>\n",
       "  </tbody>\n",
       "</table>\n",
       "<p>11627 rows × 39 columns</p>\n",
       "</div>"
      ],
      "text/plain": [
       "          RANDID  SEX  TOTCHOL   AGE  SYSBP  DIABP  CURSMOKE  CIGPDAY     BMI  \\\n",
       "0         2448.0  1.0    195.0  39.0  106.0   70.0       0.0      0.0  26.970   \n",
       "1         2448.0  1.0    209.0  52.0  121.0   66.0       0.0      0.0  27.794   \n",
       "2         6238.0  2.0    250.0  46.0  121.0   81.0       0.0      0.0  28.730   \n",
       "3         6238.0  2.0    260.0  52.0  105.0   70.0       0.0      0.0  29.430   \n",
       "4         6238.0  2.0    237.0  58.0  108.0   66.0       0.0      0.0  28.500   \n",
       "...          ...  ...      ...   ...    ...    ...       ...      ...     ...   \n",
       "11622  9998212.0  1.0    173.0  46.0  126.0   82.0       0.0      0.0  19.170   \n",
       "11623  9998212.0  1.0    153.0  52.0  143.0   89.0       0.0      0.0  25.740   \n",
       "11624  9999312.0  2.0    196.0  39.0  133.0   86.0       1.0     30.0  20.910   \n",
       "11625  9999312.0  2.0    240.0  46.0  138.0   79.0       1.0     20.0  26.390   \n",
       "11626  9999312.0  2.0    189.0  50.0  147.0   96.0       1.0     10.0  24.190   \n",
       "\n",
       "       DIABETES  ...  CVD  HYPERTEN  TIMEAP  TIMEMI  TIMEMIFC  TIMECHD  \\\n",
       "0           0.0  ...  1.0       0.0  8766.0  6438.0    6438.0   6438.0   \n",
       "1           0.0  ...  1.0       0.0  8766.0  6438.0    6438.0   6438.0   \n",
       "2           0.0  ...  0.0       0.0  8766.0  8766.0    8766.0   8766.0   \n",
       "3           0.0  ...  0.0       0.0  8766.0  8766.0    8766.0   8766.0   \n",
       "4           0.0  ...  0.0       0.0  8766.0  8766.0    8766.0   8766.0   \n",
       "...         ...  ...  ...       ...     ...     ...       ...      ...   \n",
       "11622       0.0  ...  0.0       1.0  8766.0  8766.0    8766.0   8766.0   \n",
       "11623       0.0  ...  0.0       1.0  8766.0  8766.0    8766.0   8766.0   \n",
       "11624       0.0  ...  0.0       1.0  8766.0  8766.0    8766.0   8766.0   \n",
       "11625       0.0  ...  0.0       1.0  8766.0  8766.0    8766.0   8766.0   \n",
       "11626       0.0  ...  0.0       1.0  8766.0  8766.0    8766.0   8766.0   \n",
       "\n",
       "       TIMESTRK  TIMECVD  TIMEDTH  TIMEHYP  \n",
       "0        8766.0   6438.0   8766.0   8766.0  \n",
       "1        8766.0   6438.0   8766.0   8766.0  \n",
       "2        8766.0   8766.0   8766.0   8766.0  \n",
       "3        8766.0   8766.0   8766.0   8766.0  \n",
       "4        8766.0   8766.0   8766.0   8766.0  \n",
       "...         ...      ...      ...      ...  \n",
       "11622    8766.0   8766.0   8766.0      0.0  \n",
       "11623    8766.0   8766.0   8766.0      0.0  \n",
       "11624    8766.0   8766.0   8766.0   4201.0  \n",
       "11625    8766.0   8766.0   8766.0   4201.0  \n",
       "11626    8766.0   8766.0   8766.0   4201.0  \n",
       "\n",
       "[11627 rows x 39 columns]"
      ]
     },
     "execution_count": 7,
     "metadata": {},
     "output_type": "execute_result"
    }
   ],
   "source": [
    "df"
   ]
  },
  {
   "cell_type": "code",
   "execution_count": 8,
   "id": "stuffed-congo",
   "metadata": {
    "scrolled": true
   },
   "outputs": [
    {
     "data": {
      "text/plain": [
       "(11627, 39)"
      ]
     },
     "execution_count": 8,
     "metadata": {},
     "output_type": "execute_result"
    }
   ],
   "source": [
    "df.shape"
   ]
  },
  {
   "cell_type": "code",
   "execution_count": 9,
   "id": "legendary-diary",
   "metadata": {},
   "outputs": [
    {
     "data": {
      "text/plain": [
       "0        45.0\n",
       "1        31.0\n",
       "2        45.0\n",
       "3        45.0\n",
       "4        54.0\n",
       "         ... \n",
       "11622    52.0\n",
       "11623    30.0\n",
       "11624    52.0\n",
       "11625    52.0\n",
       "11626    52.0\n",
       "Name: HDLC, Length: 11627, dtype: float64"
      ]
     },
     "execution_count": 9,
     "metadata": {},
     "output_type": "execute_result"
    }
   ],
   "source": [
    "df['HDLC']"
   ]
  },
  {
   "cell_type": "code",
   "execution_count": 10,
   "id": "abroad-colonial",
   "metadata": {},
   "outputs": [
    {
     "data": {
      "text/plain": [
       "Index(['RANDID', 'SEX', 'TOTCHOL', 'AGE', 'SYSBP', 'DIABP', 'CURSMOKE',\n",
       "       'CIGPDAY', 'BMI', 'DIABETES', 'BPMEDS', 'HEARTRTE', 'GLUCOSE', 'educ',\n",
       "       'PREVCHD', 'PREVAP', 'PREVMI', 'PREVSTRK', 'PREVHYP', 'TIME', 'PERIOD',\n",
       "       'HDLC', 'LDLC', 'DEATH', 'ANGINA', 'HOSPMI', 'MI_FCHD', 'ANYCHD',\n",
       "       'STROKE', 'CVD', 'HYPERTEN', 'TIMEAP', 'TIMEMI', 'TIMEMIFC', 'TIMECHD',\n",
       "       'TIMESTRK', 'TIMECVD', 'TIMEDTH', 'TIMEHYP'],\n",
       "      dtype='object')"
      ]
     },
     "execution_count": 10,
     "metadata": {},
     "output_type": "execute_result"
    }
   ],
   "source": [
    "df.columns"
   ]
  },
  {
   "cell_type": "code",
   "execution_count": 11,
   "id": "hearing-airfare",
   "metadata": {
    "scrolled": false
   },
   "outputs": [
    {
     "data": {
      "text/plain": [
       "Index(['SEX', 'TOTCHOL', 'AGE', 'SYSBP', 'DIABP', 'CURSMOKE', 'CIGPDAY', 'BMI',\n",
       "       'DIABETES', 'BPMEDS', 'HEARTRTE', 'GLUCOSE', 'educ', 'PREVCHD',\n",
       "       'PREVAP', 'PREVMI', 'PREVSTRK', 'PREVHYP', 'TIME', 'PERIOD', 'HDLC',\n",
       "       'LDLC'],\n",
       "      dtype='object')"
      ]
     },
     "execution_count": 11,
     "metadata": {},
     "output_type": "execute_result"
    }
   ],
   "source": [
    "df.iloc[:, 1: 23].columns"
   ]
  },
  {
   "cell_type": "code",
   "execution_count": 12,
   "id": "sunrise-sunday",
   "metadata": {},
   "outputs": [
    {
     "data": {
      "text/plain": [
       "Index(['DEATH', 'ANGINA', 'HOSPMI', 'MI_FCHD', 'ANYCHD', 'STROKE', 'CVD',\n",
       "       'HYPERTEN'],\n",
       "      dtype='object')"
      ]
     },
     "execution_count": 12,
     "metadata": {},
     "output_type": "execute_result"
    }
   ],
   "source": [
    "df.iloc[:, 23: 31].columns"
   ]
  },
  {
   "cell_type": "code",
   "execution_count": 13,
   "id": "related-kelly",
   "metadata": {
    "scrolled": true
   },
   "outputs": [
    {
     "name": "stdout",
     "output_type": "stream",
     "text": [
      "22 8\n"
     ]
    }
   ],
   "source": [
    "print(df.iloc[:, 1: 23].shape[1], df.iloc[:, 23: 31].shape[1])"
   ]
  },
  {
   "cell_type": "markdown",
   "id": "following-determination",
   "metadata": {},
   "source": [
    "# Node class"
   ]
  },
  {
   "cell_type": "code",
   "execution_count": 14,
   "id": "motivated-context",
   "metadata": {},
   "outputs": [],
   "source": [
    "class Node():\n",
    "    def __init__(self, left=None, right=None, information_gain=None,\n",
    "                 threshold=None, column_name=None, column_index=None, operator=None, value=None):\n",
    "        \n",
    "        #children\n",
    "        self.left = left  \n",
    "        self.right = right\n",
    "        \n",
    "        #decision node\n",
    "        self.information_gain = information_gain\n",
    "        self.threshold = threshold\n",
    "        self.column_name = column_name\n",
    "        self.column_index = column_index\n",
    "        self.operator = operator\n",
    "        \n",
    "        #leef node\n",
    "        self.value = value"
   ]
  },
  {
   "cell_type": "markdown",
   "id": "decent-quick",
   "metadata": {},
   "source": [
    "# Tree class"
   ]
  },
  {
   "cell_type": "code",
   "execution_count": 15,
   "id": "paperback-tracker",
   "metadata": {},
   "outputs": [],
   "source": [
    "class DecisionTree():\n",
    "    def __init__(self, min_participant=2, max_depth=2):\n",
    "        self.column_names = {}\n",
    "        self.root = None\n",
    "        \n",
    "        self.min_participant = min_participant\n",
    "        self.max_depth = max_depth\n",
    "        \n",
    "        self.x_col_names=None\n",
    "        \n",
    "    def split_input_label(self, dataset):\n",
    "        return dataset[:, :22], dataset[:, 22:]\n",
    "\n",
    "    def build_tree(self, dataset, depth=0):\n",
    "        #print(depth)\n",
    "        count_participant, _ = np.shape(dataset)\n",
    "        \n",
    "        if count_participant >= self.min_participant and depth <= self.max_depth:\n",
    "            split = self.get_split_value(dataset)\n",
    "            if split['information_gain'] > 0 :\n",
    "                left = self.build_tree(split['left'], depth=depth + 1)\n",
    "                right = self.build_tree(split['right'], depth=depth + 1)\n",
    "                \n",
    "                if left.value != None and right.value != None and left.value == right.value:\n",
    "                    return Node(value=left.value)\n",
    "\n",
    "                return Node(left, right, split['information_gain'],\n",
    "                            split['threshold'], split['column_name'], split['column_index'], split['operator'])\n",
    "        \n",
    "        leaf_value = self.compute_leaf_value(dataset)\n",
    "        return Node(value=leaf_value)\n",
    "    \n",
    "    def get_split_value(self, dataset):\n",
    "        max_gain = float('-inf')\n",
    "        split = {}\n",
    "        \n",
    "        inputs, labels = self.split_input_label(dataset)\n",
    "\n",
    "        columns = len(self.x_col_names)\n",
    "\n",
    "        for i, column in enumerate(self.x_col_names):\n",
    "        \n",
    "            binary_col = False\n",
    "            col = dataset[:, i]\n",
    "            possible_thresholds = np.unique(col)\n",
    "            \n",
    "            if len(possible_thresholds) == 2:\n",
    "                binary_col = True\n",
    "            else:\n",
    "                possible_thresholds = possible_thresholds[1:-1]\n",
    "                \n",
    "            #print(\"possible_thre\", possible_thresholds)\n",
    "            \n",
    "            for threshold in possible_thresholds:\n",
    "                left, right = self.split(dataset, threshold, i, binary_col)\n",
    "                gain = self.compute_information_gain(dataset, left, right)\n",
    "                \n",
    "                if gain > max_gain:\n",
    "                    max_gain = gain\n",
    "                    split['information_gain'] = gain\n",
    "                    split['threshold'] = threshold\n",
    "                    split['left'] = left\n",
    "                    split['right'] = right\n",
    "                    split['column_name'] = column\n",
    "                    split['column_index'] = i\n",
    "                    split['operator'] = \"=\" if binary_col else \"<=\"\n",
    "                if binary_col:\n",
    "                    break\n",
    "        #print(\"gain\", gain, split)\n",
    "        return split\n",
    "    \n",
    "    def split(self, dataset, threshold, column_index, binary_col):\n",
    "        if binary_col:\n",
    "            left = dataset[np.where(dataset[:, column_index] == threshold)]\n",
    "            right = dataset[np.where(dataset[:, column_index] != threshold)]\n",
    "        else:\n",
    "            left = dataset[np.where(dataset[:, column_index] <= threshold)]\n",
    "            right = dataset[np.where(dataset[:, column_index] > threshold)]\n",
    "        \n",
    "        return left, right\n",
    "    \n",
    "    def compute_information_gain(self, dataset, left, right):\n",
    "        inputs, labels = self.split_input_label(dataset)\n",
    "        left_inputs, left_labels = self.split_input_label(left)\n",
    "        right_inputs, right_labels = self.split_input_label(right)\n",
    "        \n",
    "        weight_left = len(left) / len(dataset)\n",
    "        weight_right = len(right) / len(dataset)\n",
    "        \n",
    "        childs_entropy = self.entropy(left_labels) * weight_left + self.entropy(right_labels) * weight_right\n",
    "        \n",
    "        information_gain = self.entropy(labels) - childs_entropy\n",
    "        \n",
    "        return information_gain\n",
    "    \n",
    "    def entropy(self, labels):\n",
    "        res = 0\n",
    "        for value in [0, 1]: #possible values\n",
    "            value_proportion = len(labels[labels == value]) / len(labels)\n",
    "            if value_proportion != 0:\n",
    "                res += -value_proportion * np.log2(value_proportion)\n",
    "        return res\n",
    "    \n",
    "    def compute_leaf_value(self, dataset):\n",
    "        inputs, labels = self.split_input_label(dataset)\n",
    "        \n",
    "        values, counts = np.unique(labels, return_counts=True)\n",
    "\n",
    "        index = np.argmax(counts)\n",
    "        return values[index]\n",
    "        \n",
    "    def fit(self, X, Y, x_col_names):\n",
    "        dataset = np.concatenate((X, Y), axis=1)\n",
    "        self.x_col_names = x_col_names\n",
    "        self.root = self.build_tree(dataset)\n",
    "        \n",
    "    def evaluate(self, x, decision_tree):\n",
    "        #leaf\n",
    "        if decision_tree.value != None:\n",
    "            return decision_tree.value\n",
    "\n",
    "        x_column_value = x[decision_tree.column_index]\n",
    "\n",
    "        if x_column_value <= decision_tree.threshold:\n",
    "            return self.evaluate(x, decision_tree.left)\n",
    "        return self.evaluate(x, decision_tree.right)\n",
    "    \n",
    "    def predict(self, X):\n",
    "        return [self.evaluate(x, self.root) for x in X]\n",
    "    \n",
    "    def predict_one_element(self, X):\n",
    "        return [self.evaluate(x, self.root)]\n",
    "    \n",
    "    def pretty_print(self, information_gain=True, tiret=\"|---\"):\n",
    "        if self.root == None:\n",
    "            print(\"No tree, please use the fit method\")\n",
    "            return\n",
    "        \n",
    "        self.pretty_print_node(self.root)\n",
    "        \n",
    "    def pretty_print_node(self, node, information_gain=True, tiret=\"|---\"):\n",
    "        if node.value != None:\n",
    "            print(tiret, \"value\", node.value)\n",
    "            return\n",
    "\n",
    "        print(tiret, node.column_name, node.operator, node.threshold, end=' ')\n",
    "        \n",
    "        if node.left.value != None and node.right.value != None:\n",
    "            print(\"value\", node.left.value , \"else\", node.right.value)\n",
    "            return\n",
    "        if node.left.value != None:\n",
    "            print(\"value\", node.left.value)\n",
    "            self.pretty_print_node(node.right, tiret=tiret+\"|---\")\n",
    "            return\n",
    "        \n",
    "        if node.right.value != None:\n",
    "            print(\"else \", node.right.value)\n",
    "            self.pretty_print_node(node.left, tiret=tiret+\"|---\")\n",
    "            return\n",
    "        print()\n",
    "            \n",
    "        self.pretty_print_node(node.left, tiret=tiret+\"|---\")\n",
    "        self.pretty_print_node(node.right, tiret=tiret+\"|---\")"
   ]
  },
  {
   "cell_type": "markdown",
   "id": "authentic-cisco",
   "metadata": {},
   "source": [
    "# Confusion matrix"
   ]
  },
  {
   "cell_type": "code",
   "execution_count": 16,
   "id": "bright-alfred",
   "metadata": {},
   "outputs": [],
   "source": [
    "# Confusion matrix \n",
    "\n",
    "def prediction_analyse(X_test, Y_test):\n",
    "    \n",
    "    \n",
    "    Y_pred = decision_tree.predict(X_test) \n",
    "\n",
    "    print(\"accuracy ==>\", accuracy_score(Y_test.flatten(), Y_pred))\n",
    "    \n",
    "    #print(all_predictions)\n",
    "    cm = confusion_matrix(Y_test.flatten(), Y_pred)\n",
    "    \n",
    "    group_names = ['True Neg','False Pos','False Neg','True Pos']\n",
    "    group_counts = [\"{0:0.0f}\".format(value) for value in\n",
    "                    cm.flatten()]\n",
    "    group_percentages = [\"{0:.2%}\".format(value) for value in\n",
    "                         cm.flatten()/np.sum(cm)]\n",
    "    labels = [f\"{v1}\\n{v2}\\n{v3}\" for v1, v2, v3 in\n",
    "              zip(group_names,group_counts,group_percentages)]\n",
    "    labels = np.asarray(labels).reshape(2,2)\n",
    "    sns.heatmap(cm, annot=labels, fmt='', cmap='Blues')\n",
    "    plt.show()\n",
    "    \n",
    "    \n",
    "    TP = cm[1,1] # true positive \n",
    "    TN = cm[0,0] # true negatives\n",
    "    FP = cm[0,1] # false positives\n",
    "    FN = cm[1,0] # false negatif\n",
    "\n",
    "    sensitivity = TP / (TP + FN)\n",
    "    specificity = TN / (TN + FP)\n",
    "    #positive predictive value\n",
    "    PPV = TP / (TP + FP)\n",
    "    #negative predictive value\n",
    "    NPV = TN / (TN + FN)\n",
    "\n",
    "\n",
    "    print(f'sensitivity : {sensitivity}, specificity : {specificity}, PPV : {PPV}, NPV : {NPV}')"
   ]
  },
  {
   "cell_type": "markdown",
   "id": "thrown-appliance",
   "metadata": {},
   "source": [
    "# Split data set into train, validation and test"
   ]
  },
  {
   "cell_type": "code",
   "execution_count": 17,
   "id": "sticky-interest",
   "metadata": {
    "scrolled": true
   },
   "outputs": [
    {
     "name": "stdout",
     "output_type": "stream",
     "text": [
      "[[1.]\n",
      " [1.]\n",
      " [0.]\n",
      " ...\n",
      " [0.]\n",
      " [0.]\n",
      " [0.]]\n",
      "(6976, 22)\n"
     ]
    }
   ],
   "source": [
    "data = np.loadtxt(data_path, delimiter=\",\",dtype=float, skiprows=1)\n",
    "col_names = np.genfromtxt(data_path , delimiter=',', names=True, dtype=float).dtype.names[1:31]\n",
    "x_col_names = col_names[0:22]\n",
    "y_col_names = col_names[22:30]\n",
    "\n",
    "X = data[:, 1:23]\n",
    "Y = data[:, 29:30]\n",
    "\n",
    "X_train, X_test, Y_train, Y_test = train_test_split(X, Y, test_size=.4, random_state=42)\n",
    "print(Y)\n",
    "print(X_train.shape)"
   ]
  },
  {
   "cell_type": "markdown",
   "id": "unexpected-brain",
   "metadata": {},
   "source": [
    "# Depth"
   ]
  },
  {
   "cell_type": "code",
   "execution_count": 18,
   "id": "dried-bandwidth",
   "metadata": {},
   "outputs": [],
   "source": [
    "DEPTH = 5"
   ]
  },
  {
   "cell_type": "markdown",
   "id": "sticky-photography",
   "metadata": {},
   "source": [
    "# DEATH"
   ]
  },
  {
   "cell_type": "markdown",
   "id": "martial-processing",
   "metadata": {},
   "source": [
    "\n",
    "## * Train"
   ]
  },
  {
   "cell_type": "code",
   "execution_count": 19,
   "id": "double-party",
   "metadata": {},
   "outputs": [
    {
     "name": "stdout",
     "output_type": "stream",
     "text": [
      "[[0.]\n",
      " [0.]\n",
      " [0.]\n",
      " ...\n",
      " [0.]\n",
      " [0.]\n",
      " [0.]]\n",
      "(9301, 22)\n"
     ]
    }
   ],
   "source": [
    "Y = data[:, 24:25]\n",
    "\n",
    "X_train, X_test, Y_train, Y_test = train_test_split(X, Y, test_size=.2, random_state=42)\n",
    "print(Y)\n",
    "print(X_train.shape)"
   ]
  },
  {
   "cell_type": "code",
   "execution_count": 20,
   "id": "atlantic-combine",
   "metadata": {
    "scrolled": true
   },
   "outputs": [],
   "source": [
    "decision_tree = DecisionTree(max_depth=DEPTH)\n",
    "decision_tree.fit(X_train, Y_train, x_col_names=x_col_names)"
   ]
  },
  {
   "cell_type": "code",
   "execution_count": 21,
   "id": "fluid-arnold",
   "metadata": {
    "scrolled": true
   },
   "outputs": [
    {
     "name": "stdout",
     "output_type": "stream",
     "text": [
      "|--- PREVAP = 0.0 else  1.0\n",
      "|---|--- BMI <= 25.1 \n",
      "|---|---|--- TOTCHOL <= 224.0 \n",
      "|---|---|---|--- TOTCHOL <= 163.0 value 0.0\n",
      "|---|---|---|---|--- SYSBP <= 190.0 value 0.0\n",
      "|---|---|---|---|---|--- SYSBP <= 196.0 value 1.0 else 0.0\n",
      "|---|---|---|--- PREVCHD = 0.0 value 0.0\n",
      "|---|---|---|---|--- AGE <= 73.0 value 0.0 else 1.0\n",
      "|---|---|--- TOTCHOL <= 202.0 \n",
      "|---|---|---|--- GLUCOSE <= 320.0 value 0.0 else 1.0\n",
      "|---|---|---|--- HDLC <= 52.0 value 0.0\n",
      "|---|---|---|---|--- BMI <= 42.53 value 0.0\n",
      "|---|---|---|---|---|--- SYSBP <= 160.0 value 0.0 else 1.0\n"
     ]
    }
   ],
   "source": [
    "decision_tree.pretty_print()"
   ]
  },
  {
   "cell_type": "markdown",
   "id": "fantastic-evanescence",
   "metadata": {},
   "source": [
    "## * Test"
   ]
  },
  {
   "cell_type": "code",
   "execution_count": 22,
   "id": "sudden-craft",
   "metadata": {},
   "outputs": [
    {
     "name": "stdout",
     "output_type": "stream",
     "text": [
      "accuracy ==> 0.8907996560619088\n"
     ]
    },
    {
     "data": {
      "image/png": "[encoded data removed]",
      "text/plain": [
       "<Figure size 432x288 with 2 Axes>"
      ]
     },
     "metadata": {
      "needs_background": "light"
     },
     "output_type": "display_data"
    },
    {
     "name": "stdout",
     "output_type": "stream",
     "text": [
      "sensitivity : 0.3488372093023256, specificity : 0.998968540484786, PPV : 0.9854014598540146, NPV : 0.8848789401553221\n"
     ]
    }
   ],
   "source": [
    "prediction_analyse(X_test, Y_test)"
   ]
  },
  {
   "cell_type": "code",
   "execution_count": null,
   "id": "front-smith",
   "metadata": {},
   "outputs": [],
   "source": []
  },
  {
   "cell_type": "markdown",
   "id": "deluxe-receiver",
   "metadata": {},
   "source": [
    "# ANGINA"
   ]
  },
  {
   "cell_type": "markdown",
   "id": "practical-violation",
   "metadata": {},
   "source": [
    "## * Train"
   ]
  },
  {
   "cell_type": "code",
   "execution_count": 24,
   "id": "dangerous-crystal",
   "metadata": {},
   "outputs": [
    {
     "name": "stdout",
     "output_type": "stream",
     "text": [
      "[[1.]\n",
      " [1.]\n",
      " [0.]\n",
      " ...\n",
      " [0.]\n",
      " [0.]\n",
      " [0.]]\n",
      "(6976, 22)\n"
     ]
    }
   ],
   "source": [
    "Y = data[:, 25:26]\n",
    "\n",
    "X_train, X_test, Y_train, Y_test = train_test_split(X, Y, test_size=.4, random_state=42)\n",
    "print(Y)\n",
    "print(X_train.shape)"
   ]
  },
  {
   "cell_type": "code",
   "execution_count": 25,
   "id": "broken-disco",
   "metadata": {
    "scrolled": true
   },
   "outputs": [],
   "source": [
    "decision_tree = DecisionTree(max_depth=DEPTH)\n",
    "decision_tree.fit(X_train, Y_train, x_col_names=x_col_names)"
   ]
  },
  {
   "cell_type": "code",
   "execution_count": 26,
   "id": "nasty-underwear",
   "metadata": {
    "scrolled": true
   },
   "outputs": [
    {
     "name": "stdout",
     "output_type": "stream",
     "text": [
      "|--- PREVMI = 0.0 \n",
      "|---|--- SEX = 1.0 \n",
      "|---|---|--- PREVCHD = 0.0 \n",
      "|---|---|---|--- TOTCHOL <= 203.0 else  0.0\n",
      "|---|---|---|---|--- TIME <= 4326.0 value 0.0\n",
      "|---|---|---|---|---|--- DIABP <= 110.0 value 0.0 else 1.0\n",
      "|---|---|---|--- TOTCHOL <= 268.0 \n",
      "|---|---|---|---|--- AGE <= 51.0 else  0.0\n",
      "|---|---|---|---|---|--- GLUCOSE <= 70.0 value 0.0 else 1.0\n",
      "|---|---|---|---|--- TOTCHOL <= 294.0 else  0.0\n",
      "|---|---|---|---|---|--- SYSBP <= 120.0 value 0.0 else 1.0\n",
      "|---|---|--- SYSBP <= 143.0 \n",
      "|---|---|---|--- TOTCHOL <= 237.0 value 0.0\n",
      "|---|---|---|---|--- TOTCHOL <= 430.0 value 0.0 else 1.0\n",
      "|---|---|---|--- SYSBP <= 187.0 value 0.0\n",
      "|---|---|---|---|--- HEARTRTE <= 75.0 else  0.0\n",
      "|---|---|---|---|---|--- AGE <= 50.0 value 1.0 else 0.0\n",
      "|---|--- SEX = 1.0 \n",
      "|---|---|--- PREVHYP = 0.0 \n",
      "|---|---|---|--- HDLC <= 35.0 else  1.0\n",
      "|---|---|---|---|--- SYSBP <= 119.0 value 0.0 else 1.0\n",
      "|---|---|---|--- HEARTRTE <= 73.0 \n",
      "|---|---|---|---|--- AGE <= 71.0 value 1.0\n",
      "|---|---|---|---|---|--- PREVAP = 0.0 value 0.0 else 1.0\n",
      "|---|---|---|---|--- SYSBP <= 115.0 value 1.0\n",
      "|---|---|---|---|---|--- BMI <= 19.51 value 0.0 else 1.0\n",
      "|---|---|--- SYSBP <= 118.0 value 1.0\n",
      "|---|---|---|--- CURSMOKE = 0.0 else  0.0\n",
      "|---|---|---|---|--- educ <= 3.0 else  1.0\n",
      "|---|---|---|---|---|--- LDLC <= 165.0 value 0.0 else 1.0\n"
     ]
    }
   ],
   "source": [
    "decision_tree.pretty_print()"
   ]
  },
  {
   "cell_type": "markdown",
   "id": "partial-opposition",
   "metadata": {},
   "source": [
    "## * Test"
   ]
  },
  {
   "cell_type": "code",
   "execution_count": 27,
   "id": "material-archive",
   "metadata": {},
   "outputs": [
    {
     "name": "stdout",
     "output_type": "stream",
     "text": [
      "accuracy ==> 0.9200172006020211\n"
     ]
    },
    {
     "data": {
      "image/png": "[encoded data removed]",
      "text/plain": [
       "<Figure size 432x288 with 2 Axes>"
      ]
     },
     "metadata": {
      "needs_background": "light"
     },
     "output_type": "display_data"
    },
    {
     "name": "stdout",
     "output_type": "stream",
     "text": [
      "sensitivity : 0.2894168466522678, specificity : 0.9897325692454633, PPV : 0.7570621468926554, NPV : 0.9264640143048726\n"
     ]
    }
   ],
   "source": [
    "prediction_analyse(X_test, Y_test)"
   ]
  },
  {
   "cell_type": "code",
   "execution_count": null,
   "id": "tested-hungary",
   "metadata": {},
   "outputs": [],
   "source": []
  },
  {
   "cell_type": "markdown",
   "id": "linear-evolution",
   "metadata": {},
   "source": [
    "# HOSPMI"
   ]
  },
  {
   "cell_type": "markdown",
   "id": "military-dealing",
   "metadata": {},
   "source": [
    "## * Train"
   ]
  },
  {
   "cell_type": "code",
   "execution_count": 28,
   "id": "after-catch",
   "metadata": {},
   "outputs": [
    {
     "name": "stdout",
     "output_type": "stream",
     "text": [
      "[[1.]\n",
      " [1.]\n",
      " [0.]\n",
      " ...\n",
      " [0.]\n",
      " [0.]\n",
      " [0.]]\n",
      "(6976, 22)\n"
     ]
    }
   ],
   "source": [
    "Y = data[:, 26:27]\n",
    "\n",
    "X_train, X_test, Y_train, Y_test = train_test_split(X, Y, test_size=.4, random_state=42)\n",
    "print(Y)\n",
    "print(X_train.shape)"
   ]
  },
  {
   "cell_type": "code",
   "execution_count": 29,
   "id": "crucial-increase",
   "metadata": {
    "scrolled": true
   },
   "outputs": [],
   "source": [
    "decision_tree = DecisionTree(max_depth=DEPTH)\n",
    "decision_tree.fit(X_train, Y_train, x_col_names=x_col_names)"
   ]
  },
  {
   "cell_type": "code",
   "execution_count": 30,
   "id": "hollow-stylus",
   "metadata": {
    "scrolled": true
   },
   "outputs": [
    {
     "name": "stdout",
     "output_type": "stream",
     "text": [
      "|--- PREVCHD = 0.0 \n",
      "|---|--- SEX = 1.0 \n",
      "|---|---|--- SYSBP <= 144.0 \n",
      "|---|---|---|--- TOTCHOL <= 210.0 \n",
      "|---|---|---|---|--- GLUCOSE <= 175.0 value 0.0 else 1.0\n",
      "|---|---|---|---|--- TIME <= 2219.0 else  0.0\n",
      "|---|---|---|---|---|--- GLUCOSE <= 123.0 value 0.0 else 1.0\n",
      "|---|---|---|--- LDLC <= 124.0 else  0.0\n",
      "|---|---|---|---|--- TIME <= 4403.0 value 0.0\n",
      "|---|---|---|---|---|--- TIME <= 4460.0 value 1.0 else 0.0\n",
      "|---|---|--- SYSBP <= 143.0 \n",
      "|---|---|---|--- TOTCHOL <= 253.0 value 0.0\n",
      "|---|---|---|---|--- TOTCHOL <= 341.0 value 0.0\n",
      "|---|---|---|---|---|--- LDLC <= 170.0 value 1.0 else 0.0\n",
      "|---|---|---|--- SYSBP <= 172.0 else  0.0\n",
      "|---|---|---|---|--- TOTCHOL <= 290.0 value 0.0\n",
      "|---|---|---|---|---|--- DIABP <= 70.0 value 1.0 else 0.0\n",
      "|---|--- PREVMI = 0.0 \n",
      "|---|---|--- SEX = 1.0 \n",
      "|---|---|---|--- HDLC <= 57.0 else  0.0\n",
      "|---|---|---|---|--- DIABP <= 90.0 else  1.0\n",
      "|---|---|---|---|---|--- GLUCOSE <= 84.0 value 0.0 else 1.0\n",
      "|---|---|---|--- DIABP <= 88.0 value 0.0\n",
      "|---|---|---|---|--- educ <= 2.0 else  0.0\n",
      "|---|---|---|---|---|--- educ = 1.0 value 1.0 else 0.0\n",
      "|---|---|--- PREVAP = 0.0 \n",
      "|---|---|---|--- SYSBP <= 118.0 value 1.0\n",
      "|---|---|---|---|--- SEX = 1.0 \n",
      "|---|---|---|---|---|--- BMI <= 19.51 value 0.0 else 1.0\n",
      "|---|---|---|---|---|--- CURSMOKE = 0.0 value 1.0 else 0.0\n",
      "|---|---|---|--- DIABP <= 95.0 \n",
      "|---|---|---|---|--- BMI <= 16.94 else  1.0\n",
      "|---|---|---|---|---|--- SEX = 1.0 value 1.0 else 0.0\n",
      "|---|---|---|---|--- BMI <= 26.97 value 1.0\n",
      "|---|---|---|---|---|--- GLUCOSE <= 80.0 value 0.0 else 1.0\n"
     ]
    }
   ],
   "source": [
    "decision_tree.pretty_print()"
   ]
  },
  {
   "cell_type": "markdown",
   "id": "extended-partnership",
   "metadata": {},
   "source": [
    "## * Test"
   ]
  },
  {
   "cell_type": "code",
   "execution_count": 31,
   "id": "abroad-supply",
   "metadata": {},
   "outputs": [
    {
     "name": "stdout",
     "output_type": "stream",
     "text": [
      "accuracy ==> 0.8615351537303806\n"
     ]
    },
    {
     "data": {
      "image/png": "[encoded data removed]",
      "text/plain": [
       "<Figure size 432x288 with 2 Axes>"
      ]
     },
     "metadata": {
      "needs_background": "light"
     },
     "output_type": "display_data"
    },
    {
     "name": "stdout",
     "output_type": "stream",
     "text": [
      "sensitivity : 0.24295302013422818, specificity : 0.9795186891961085, PPV : 0.6934865900383141, NPV : 0.8715261958997722\n"
     ]
    }
   ],
   "source": [
    "prediction_analyse(X_test, Y_test)"
   ]
  },
  {
   "cell_type": "code",
   "execution_count": null,
   "id": "simplified-japan",
   "metadata": {},
   "outputs": [],
   "source": []
  },
  {
   "cell_type": "markdown",
   "id": "constitutional-native",
   "metadata": {},
   "source": [
    "# MI_FCHD"
   ]
  },
  {
   "cell_type": "markdown",
   "id": "impossible-financing",
   "metadata": {},
   "source": [
    "## * Train"
   ]
  },
  {
   "cell_type": "code",
   "execution_count": 32,
   "id": "empirical-burke",
   "metadata": {},
   "outputs": [
    {
     "name": "stdout",
     "output_type": "stream",
     "text": [
      "[[1.]\n",
      " [1.]\n",
      " [0.]\n",
      " ...\n",
      " [0.]\n",
      " [0.]\n",
      " [0.]]\n",
      "(6976, 22)\n"
     ]
    }
   ],
   "source": [
    "Y = data[:, 27:28]\n",
    "\n",
    "X_train, X_test, Y_train, Y_test = train_test_split(X, Y, test_size=.4, random_state=42)\n",
    "print(Y)\n",
    "print(X_train.shape)"
   ]
  },
  {
   "cell_type": "code",
   "execution_count": 33,
   "id": "covered-joint",
   "metadata": {
    "scrolled": true
   },
   "outputs": [],
   "source": [
    "decision_tree = DecisionTree(max_depth=DEPTH)\n",
    "decision_tree.fit(X_train, Y_train, x_col_names=x_col_names)"
   ]
  },
  {
   "cell_type": "code",
   "execution_count": 34,
   "id": "beginning-backing",
   "metadata": {
    "scrolled": true
   },
   "outputs": [
    {
     "name": "stdout",
     "output_type": "stream",
     "text": [
      "|--- PREVCHD = 0.0 else  1.0\n",
      "|---|--- SEX = 1.0 \n",
      "|---|---|--- SYSBP <= 134.0 \n",
      "|---|---|---|--- TOTCHOL <= 224.0 \n",
      "|---|---|---|---|--- DIABETES = 0.0 value 0.0\n",
      "|---|---|---|---|---|--- TOTCHOL <= 213.0 value 1.0 else 0.0\n",
      "|---|---|---|---|--- TIME <= 4263.0 else  0.0\n",
      "|---|---|---|---|---|--- GLUCOSE <= 105.0 value 0.0 else 1.0\n",
      "|---|---|---|--- BMI <= 26.08 value 0.0\n",
      "|---|---|---|---|--- TIME <= 2171.0 else  0.0\n",
      "|---|---|---|---|---|--- TOTCHOL <= 283.0 value 0.0 else 1.0\n",
      "|---|---|--- SYSBP <= 143.0 \n",
      "|---|---|---|--- TOTCHOL <= 226.0 value 0.0\n",
      "|---|---|---|---|--- HDLC <= 41.0 else  0.0\n",
      "|---|---|---|---|---|--- BMI <= 32.6 value 0.0 else 1.0\n",
      "|---|---|---|--- SYSBP <= 171.0 value 0.0\n",
      "|---|---|---|---|--- BMI <= 44.71 value 0.0 else 1.0\n"
     ]
    }
   ],
   "source": [
    "decision_tree.pretty_print()"
   ]
  },
  {
   "cell_type": "markdown",
   "id": "geographic-dialogue",
   "metadata": {},
   "source": [
    "## * Test"
   ]
  },
  {
   "cell_type": "code",
   "execution_count": 35,
   "id": "proud-sheriff",
   "metadata": {},
   "outputs": [
    {
     "name": "stdout",
     "output_type": "stream",
     "text": [
      "accuracy ==> 0.8000430015050527\n"
     ]
    },
    {
     "data": {
      "image/png": "[encoded data removed]",
      "text/plain": [
       "<Figure size 432x288 with 2 Axes>"
      ]
     },
     "metadata": {
      "needs_background": "light"
     },
     "output_type": "display_data"
    },
    {
     "name": "stdout",
     "output_type": "stream",
     "text": [
      "sensitivity : 0.3059467918622848, specificity : 0.9872517047139046, PPV : 0.9009216589861752, NPV : 0.7896608963718283\n"
     ]
    }
   ],
   "source": [
    "prediction_analyse(X_test, Y_test)"
   ]
  },
  {
   "cell_type": "code",
   "execution_count": null,
   "id": "third-guest",
   "metadata": {},
   "outputs": [],
   "source": []
  },
  {
   "cell_type": "markdown",
   "id": "approximate-second",
   "metadata": {},
   "source": [
    "# ANY_CHD"
   ]
  },
  {
   "cell_type": "markdown",
   "id": "utility-session",
   "metadata": {},
   "source": [
    "## * Train"
   ]
  },
  {
   "cell_type": "code",
   "execution_count": 36,
   "id": "naval-cookie",
   "metadata": {},
   "outputs": [
    {
     "name": "stdout",
     "output_type": "stream",
     "text": [
      "[[0.]\n",
      " [0.]\n",
      " [0.]\n",
      " ...\n",
      " [0.]\n",
      " [0.]\n",
      " [0.]]\n",
      "(6976, 22)\n"
     ]
    }
   ],
   "source": [
    "Y = data[:, 28:29]\n",
    "\n",
    "X_train, X_test, Y_train, Y_test = train_test_split(X, Y, test_size=.4, random_state=42)\n",
    "print(Y)\n",
    "print(X_train.shape)"
   ]
  },
  {
   "cell_type": "code",
   "execution_count": 37,
   "id": "devoted-march",
   "metadata": {
    "scrolled": true
   },
   "outputs": [],
   "source": [
    "decision_tree = DecisionTree(max_depth=DEPTH)\n",
    "decision_tree.fit(X_train, Y_train, x_col_names=x_col_names)"
   ]
  },
  {
   "cell_type": "code",
   "execution_count": 38,
   "id": "promising-monkey",
   "metadata": {
    "scrolled": true
   },
   "outputs": [
    {
     "name": "stdout",
     "output_type": "stream",
     "text": [
      "|--- PREVSTRK = 0.0 else  1.0\n",
      "|---|--- AGE <= 55.0 \n",
      "|---|---|--- SYSBP <= 136.0 \n",
      "|---|---|---|--- CIGPDAY <= 2.0 else  0.0\n",
      "|---|---|---|---|--- BMI <= 26.43 value 0.0\n",
      "|---|---|---|---|---|--- DIABP <= 100.0 value 0.0 else 1.0\n",
      "|---|---|---|--- TIME <= 2176.0 else  0.0\n",
      "|---|---|---|---|--- HDLC <= 72.0 value 0.0\n",
      "|---|---|---|---|---|--- SEX = 1.0 value 0.0 else 1.0\n",
      "|---|---|--- SYSBP <= 164.0 value 0.0\n",
      "|---|---|---|--- TIME <= 2165.0 \n",
      "|---|---|---|---|--- DIABP <= 105.0 \n",
      "|---|---|---|---|---|--- TIME <= 2157.0 value 0.0 else 1.0\n",
      "|---|---|---|---|---|--- BMI <= 35.22 value 0.0 else 1.0\n",
      "|---|---|---|---|--- SYSBP <= 207.0 \n",
      "|---|---|---|---|---|--- HDLC <= 27.0 value 1.0 else 0.0\n",
      "|---|---|---|---|---|--- TIME <= 4387.0 value 0.0 else 1.0\n"
     ]
    }
   ],
   "source": [
    "decision_tree.pretty_print()"
   ]
  },
  {
   "cell_type": "markdown",
   "id": "mysterious-stopping",
   "metadata": {},
   "source": [
    "## * Test"
   ]
  },
  {
   "cell_type": "code",
   "execution_count": 39,
   "id": "verified-allowance",
   "metadata": {},
   "outputs": [
    {
     "name": "stdout",
     "output_type": "stream",
     "text": [
      "accuracy ==> 0.9213072457536013\n"
     ]
    },
    {
     "data": {
      "image/png": "[encoded data removed]",
      "text/plain": [
       "<Figure size 432x288 with 2 Axes>"
      ]
     },
     "metadata": {
      "needs_background": "light"
     },
     "output_type": "display_data"
    },
    {
     "name": "stdout",
     "output_type": "stream",
     "text": [
      "sensitivity : 0.13691931540342298, specificity : 0.9969354078264969, PPV : 0.8115942028985508, NPV : 0.922959406372763\n"
     ]
    }
   ],
   "source": [
    "prediction_analyse(X_test, Y_test)"
   ]
  },
  {
   "cell_type": "code",
   "execution_count": null,
   "id": "brown-bidding",
   "metadata": {},
   "outputs": [],
   "source": []
  },
  {
   "cell_type": "markdown",
   "id": "bound-incentive",
   "metadata": {},
   "source": [
    "# STROKE"
   ]
  },
  {
   "cell_type": "markdown",
   "id": "concrete-requirement",
   "metadata": {},
   "source": [
    "## * Train"
   ]
  },
  {
   "cell_type": "code",
   "execution_count": 40,
   "id": "retired-ireland",
   "metadata": {},
   "outputs": [
    {
     "name": "stdout",
     "output_type": "stream",
     "text": [
      "[[1.]\n",
      " [1.]\n",
      " [0.]\n",
      " ...\n",
      " [0.]\n",
      " [0.]\n",
      " [0.]]\n",
      "(6976, 22)\n"
     ]
    }
   ],
   "source": [
    "Y = data[:, 29:30]\n",
    "\n",
    "X_train, X_test, Y_train, Y_test = train_test_split(X, Y, test_size=.4, random_state=42)\n",
    "print(Y)\n",
    "print(X_train.shape)"
   ]
  },
  {
   "cell_type": "code",
   "execution_count": 41,
   "id": "pediatric-sweet",
   "metadata": {
    "scrolled": true
   },
   "outputs": [],
   "source": [
    "decision_tree = DecisionTree(max_depth=DEPTH)\n",
    "decision_tree.fit(X_train, Y_train, x_col_names=x_col_names)"
   ]
  },
  {
   "cell_type": "code",
   "execution_count": 42,
   "id": "relative-channels",
   "metadata": {
    "scrolled": true
   },
   "outputs": [
    {
     "name": "stdout",
     "output_type": "stream",
     "text": [
      "|--- PREVMI = 0.0 \n",
      "|---|--- SYSBP <= 135.0 \n",
      "|---|---|--- SEX = 1.0 \n",
      "|---|---|---|--- AGE <= 54.0 \n",
      "|---|---|---|---|--- TOTCHOL <= 208.0 else  0.0\n",
      "|---|---|---|---|---|--- GLUCOSE <= 143.0 value 0.0 else 1.0\n",
      "|---|---|---|---|--- TIME <= 2267.0 value 0.0\n",
      "|---|---|---|---|---|--- PREVAP = 0.0 value 0.0 else 1.0\n",
      "|---|---|---|--- PREVSTRK = 0.0 value 0.0 else 1.0\n",
      "|---|---|--- PREVSTRK = 0.0 else  1.0\n",
      "|---|---|---|--- SEX = 1.0 else  0.0\n",
      "|---|---|---|---|--- AGE <= 53.0 value 0.0\n",
      "|---|---|---|---|---|--- TIME <= 4157.0 value 1.0 else 0.0\n",
      "|---|--- LDLC <= 196.0 value 1.0\n",
      "|---|---|--- BMI <= 23.34 \n",
      "|---|---|---|--- AGE <= 60.0 value 0.0\n",
      "|---|---|---|---|--- SYSBP <= 167.0 value 1.0 else 0.0\n",
      "|---|---|---|--- TIME <= 2083.0 else  1.0\n",
      "|---|---|---|---|--- TOTCHOL = 226.0 value 0.0 else 1.0\n"
     ]
    }
   ],
   "source": [
    "decision_tree.pretty_print()"
   ]
  },
  {
   "cell_type": "markdown",
   "id": "floppy-moses",
   "metadata": {},
   "source": [
    "## * Test"
   ]
  },
  {
   "cell_type": "code",
   "execution_count": 43,
   "id": "atmospheric-source",
   "metadata": {},
   "outputs": [
    {
     "name": "stdout",
     "output_type": "stream",
     "text": [
      "accuracy ==> 0.7841324446355622\n"
     ]
    },
    {
     "data": {
      "image/png": "[encoded data removed]",
      "text/plain": [
       "<Figure size 432x288 with 2 Axes>"
      ]
     },
     "metadata": {
      "needs_background": "light"
     },
     "output_type": "display_data"
    },
    {
     "name": "stdout",
     "output_type": "stream",
     "text": [
      "sensitivity : 0.27934875749785776, specificity : 0.9532146957520092, PPV : 0.6666666666666666, NPV : 0.7979336857280154\n"
     ]
    }
   ],
   "source": [
    "prediction_analyse(X_test, Y_test)"
   ]
  },
  {
   "cell_type": "code",
   "execution_count": null,
   "id": "polish-express",
   "metadata": {},
   "outputs": [],
   "source": []
  },
  {
   "cell_type": "markdown",
   "id": "nuclear-parade",
   "metadata": {},
   "source": [
    "# CVD"
   ]
  },
  {
   "cell_type": "markdown",
   "id": "cultural-voltage",
   "metadata": {},
   "source": [
    "## * Train"
   ]
  },
  {
   "cell_type": "code",
   "execution_count": 44,
   "id": "champion-insert",
   "metadata": {},
   "outputs": [
    {
     "name": "stdout",
     "output_type": "stream",
     "text": [
      "[[0.]\n",
      " [0.]\n",
      " [0.]\n",
      " ...\n",
      " [1.]\n",
      " [1.]\n",
      " [1.]]\n",
      "(6976, 22)\n"
     ]
    }
   ],
   "source": [
    "Y = data[:, 30:31]\n",
    "\n",
    "X_train, X_test, Y_train, Y_test = train_test_split(X, Y, test_size=.4, random_state=42)\n",
    "print(Y)\n",
    "print(X_train.shape)"
   ]
  },
  {
   "cell_type": "code",
   "execution_count": 45,
   "id": "metropolitan-dressing",
   "metadata": {
    "scrolled": true
   },
   "outputs": [],
   "source": [
    "decision_tree = DecisionTree(max_depth=DEPTH)\n",
    "decision_tree.fit(X_train, Y_train, x_col_names=x_col_names)"
   ]
  },
  {
   "cell_type": "code",
   "execution_count": 46,
   "id": "nasty-frost",
   "metadata": {
    "scrolled": true
   },
   "outputs": [
    {
     "name": "stdout",
     "output_type": "stream",
     "text": [
      "|--- PREVHYP = 0.0 else  1.0\n",
      "|---|--- SYSBP <= 121.0 \n",
      "|---|---|--- SYSBP <= 113.0 \n",
      "|---|---|---|--- TIME <= 1914.0 \n",
      "|---|---|---|---|--- BMI <= 24.85 \n",
      "|---|---|---|---|---|--- HDLC <= 69.0 value 0.0 else 1.0\n",
      "|---|---|---|---|---|--- AGE <= 62.0 value 0.0 else 1.0\n",
      "|---|---|---|---|--- GLUCOSE <= 128.0 value 0.0 else 1.0\n",
      "|---|---|---|--- TIME <= 2238.0 \n",
      "|---|---|---|---|--- SEX = 1.0 value 0.0\n",
      "|---|---|---|---|---|--- LDLC <= 227.0 value 1.0 else 0.0\n",
      "|---|---|---|---|--- SEX = 1.0 else  0.0\n",
      "|---|---|---|---|---|--- HEARTRTE <= 90.0 value 0.0 else 1.0\n",
      "|---|---|--- SYSBP <= 131.0 \n",
      "|---|---|---|--- TIME <= 2309.0 value 1.0\n",
      "|---|---|---|---|--- DIABP <= 87.0 else  1.0\n",
      "|---|---|---|---|---|--- BMI <= 26.89 value 0.0 else 1.0\n",
      "|---|---|---|--- TIME <= 4201.0 \n",
      "|---|---|---|---|--- SYSBP <= 144.0 value 1.0\n",
      "|---|---|---|---|---|--- DIABP <= 69.0 value 0.0 else 1.0\n",
      "|---|---|---|---|--- SYSBP <= 138.0 value 1.0\n",
      "|---|---|---|---|---|--- TIME <= 4469.0 value 1.0 else 0.0\n"
     ]
    }
   ],
   "source": [
    "decision_tree.pretty_print()"
   ]
  },
  {
   "cell_type": "markdown",
   "id": "diverse-conservative",
   "metadata": {},
   "source": [
    "## * Test"
   ]
  },
  {
   "cell_type": "code",
   "execution_count": 47,
   "id": "potential-excuse",
   "metadata": {},
   "outputs": [
    {
     "name": "stdout",
     "output_type": "stream",
     "text": [
      "accuracy ==> 0.8241238443345517\n"
     ]
    },
    {
     "data": {
      "image/png": "[encoded data removed]",
      "text/plain": [
       "<Figure size 432x288 with 2 Axes>"
      ]
     },
     "metadata": {
      "needs_background": "light"
     },
     "output_type": "display_data"
    },
    {
     "name": "stdout",
     "output_type": "stream",
     "text": [
      "sensitivity : 0.8936723490320716, specificity : 0.6218487394957983, PPV : 0.8729889923793396, NPV : 0.6678700361010831\n"
     ]
    }
   ],
   "source": [
    "prediction_analyse(X_test, Y_test)"
   ]
  },
  {
   "cell_type": "code",
   "execution_count": null,
   "id": "right-account",
   "metadata": {},
   "outputs": [],
   "source": []
  },
  {
   "cell_type": "markdown",
   "id": "yellow-shore",
   "metadata": {},
   "source": [
    "# HYPERTEN"
   ]
  },
  {
   "cell_type": "markdown",
   "id": "primary-offset",
   "metadata": {},
   "source": [
    "## * Train"
   ]
  },
  {
   "cell_type": "code",
   "execution_count": 48,
   "id": "perceived-courage",
   "metadata": {},
   "outputs": [
    {
     "name": "stdout",
     "output_type": "stream",
     "text": [
      "[[8766.]\n",
      " [8766.]\n",
      " [8766.]\n",
      " ...\n",
      " [8766.]\n",
      " [8766.]\n",
      " [8766.]]\n",
      "(6976, 22)\n"
     ]
    }
   ],
   "source": [
    "Y = data[:, 31:32]\n",
    "\n",
    "X_train, X_test, Y_train, Y_test = train_test_split(X, Y, test_size=.4, random_state=42)\n",
    "print(Y)\n",
    "print(X_train.shape)"
   ]
  },
  {
   "cell_type": "code",
   "execution_count": 49,
   "id": "incredible-cholesterol",
   "metadata": {
    "scrolled": true
   },
   "outputs": [],
   "source": [
    "decision_tree = DecisionTree(max_depth=DEPTH)\n",
    "decision_tree.fit(X_train, Y_train, x_col_names=x_col_names)"
   ]
  },
  {
   "cell_type": "code",
   "execution_count": 50,
   "id": "earned-narrow",
   "metadata": {
    "scrolled": true
   },
   "outputs": [
    {
     "name": "stdout",
     "output_type": "stream",
     "text": [
      "|--- PREVAP = 0.0 value 8766.0\n",
      "|---|--- TIME <= 1972.0 value 0.0\n",
      "|---|---|--- TIME <= 4367.0 \n",
      "|---|---|---|--- AGE <= 56.0 else  0.0\n",
      "|---|---|---|---|--- HEARTRTE <= 77.0 else  294.0\n",
      "|---|---|---|---|---|--- TOTCHOL <= 244.0 value 1811.0 else 0.0\n",
      "|---|---|---|--- GLUCOSE <= 77.0 \n",
      "|---|---|---|---|--- HDLC <= 48.0 else  1096.0\n",
      "|---|---|---|---|---|--- PREVMI = 0.0 value 0.0 else 391.0\n",
      "|---|---|---|---|--- HEARTRTE <= 62.0 \n",
      "|---|---|---|---|---|--- AGE <= 65.0 value 1800.0 else 0.0\n",
      "|---|---|---|---|---|--- TIME <= 4384.0 value 0.0 else 4025.0\n"
     ]
    }
   ],
   "source": [
    "decision_tree.pretty_print()"
   ]
  },
  {
   "cell_type": "markdown",
   "id": "endangered-scoop",
   "metadata": {},
   "source": [
    "## * Test"
   ]
  },
  {
   "cell_type": "code",
   "execution_count": 51,
   "id": "attached-wrist",
   "metadata": {},
   "outputs": [
    {
     "name": "stdout",
     "output_type": "stream",
     "text": [
      "accuracy ==> 0.6164265749301225\n"
     ]
    },
    {
     "ename": "ValueError",
     "evalue": "`data` and `annot` must have same shape.",
     "output_type": "error",
     "traceback": [
      "\u001b[0;31m---------------------------------------------------------------------------\u001b[0m",
      "\u001b[0;31mValueError\u001b[0m                                Traceback (most recent call last)",
      "\u001b[0;32m<ipython-input-51-29eff25d4e16>\u001b[0m in \u001b[0;36m<module>\u001b[0;34m\u001b[0m\n\u001b[0;32m----> 1\u001b[0;31m \u001b[0mprediction_analyse\u001b[0m\u001b[0;34m(\u001b[0m\u001b[0mX_test\u001b[0m\u001b[0;34m,\u001b[0m \u001b[0mY_test\u001b[0m\u001b[0;34m)\u001b[0m\u001b[0;34m\u001b[0m\u001b[0;34m\u001b[0m\u001b[0m\n\u001b[0m",
      "\u001b[0;32m<ipython-input-16-10ce342bcf81>\u001b[0m in \u001b[0;36mprediction_analyse\u001b[0;34m(X_test, Y_test)\u001b[0m\n\u001b[1;32m     19\u001b[0m               zip(group_names,group_counts,group_percentages)]\n\u001b[1;32m     20\u001b[0m     \u001b[0mlabels\u001b[0m \u001b[0;34m=\u001b[0m \u001b[0mnp\u001b[0m\u001b[0;34m.\u001b[0m\u001b[0masarray\u001b[0m\u001b[0;34m(\u001b[0m\u001b[0mlabels\u001b[0m\u001b[0;34m)\u001b[0m\u001b[0;34m.\u001b[0m\u001b[0mreshape\u001b[0m\u001b[0;34m(\u001b[0m\u001b[0;36m2\u001b[0m\u001b[0;34m,\u001b[0m\u001b[0;36m2\u001b[0m\u001b[0;34m)\u001b[0m\u001b[0;34m\u001b[0m\u001b[0;34m\u001b[0m\u001b[0m\n\u001b[0;32m---> 21\u001b[0;31m     \u001b[0msns\u001b[0m\u001b[0;34m.\u001b[0m\u001b[0mheatmap\u001b[0m\u001b[0;34m(\u001b[0m\u001b[0mcm\u001b[0m\u001b[0;34m,\u001b[0m \u001b[0mannot\u001b[0m\u001b[0;34m=\u001b[0m\u001b[0mlabels\u001b[0m\u001b[0;34m,\u001b[0m \u001b[0mfmt\u001b[0m\u001b[0;34m=\u001b[0m\u001b[0;34m''\u001b[0m\u001b[0;34m,\u001b[0m \u001b[0mcmap\u001b[0m\u001b[0;34m=\u001b[0m\u001b[0;34m'Blues'\u001b[0m\u001b[0;34m)\u001b[0m\u001b[0;34m\u001b[0m\u001b[0;34m\u001b[0m\u001b[0m\n\u001b[0m\u001b[1;32m     22\u001b[0m     \u001b[0mplt\u001b[0m\u001b[0;34m.\u001b[0m\u001b[0mshow\u001b[0m\u001b[0;34m(\u001b[0m\u001b[0;34m)\u001b[0m\u001b[0;34m\u001b[0m\u001b[0;34m\u001b[0m\u001b[0m\n\u001b[1;32m     23\u001b[0m \u001b[0;34m\u001b[0m\u001b[0m\n",
      "\u001b[0;32m~/.local/lib/python3.9/site-packages/seaborn/_decorators.py\u001b[0m in \u001b[0;36minner_f\u001b[0;34m(*args, **kwargs)\u001b[0m\n\u001b[1;32m     44\u001b[0m             )\n\u001b[1;32m     45\u001b[0m         \u001b[0mkwargs\u001b[0m\u001b[0;34m.\u001b[0m\u001b[0mupdate\u001b[0m\u001b[0;34m(\u001b[0m\u001b[0;34m{\u001b[0m\u001b[0mk\u001b[0m\u001b[0;34m:\u001b[0m \u001b[0marg\u001b[0m \u001b[0;32mfor\u001b[0m \u001b[0mk\u001b[0m\u001b[0;34m,\u001b[0m \u001b[0marg\u001b[0m \u001b[0;32min\u001b[0m \u001b[0mzip\u001b[0m\u001b[0;34m(\u001b[0m\u001b[0msig\u001b[0m\u001b[0;34m.\u001b[0m\u001b[0mparameters\u001b[0m\u001b[0;34m,\u001b[0m \u001b[0margs\u001b[0m\u001b[0;34m)\u001b[0m\u001b[0;34m}\u001b[0m\u001b[0;34m)\u001b[0m\u001b[0;34m\u001b[0m\u001b[0;34m\u001b[0m\u001b[0m\n\u001b[0;32m---> 46\u001b[0;31m         \u001b[0;32mreturn\u001b[0m \u001b[0mf\u001b[0m\u001b[0;34m(\u001b[0m\u001b[0;34m**\u001b[0m\u001b[0mkwargs\u001b[0m\u001b[0;34m)\u001b[0m\u001b[0;34m\u001b[0m\u001b[0;34m\u001b[0m\u001b[0m\n\u001b[0m\u001b[1;32m     47\u001b[0m     \u001b[0;32mreturn\u001b[0m \u001b[0minner_f\u001b[0m\u001b[0;34m\u001b[0m\u001b[0;34m\u001b[0m\u001b[0m\n\u001b[1;32m     48\u001b[0m \u001b[0;34m\u001b[0m\u001b[0m\n",
      "\u001b[0;32m~/.local/lib/python3.9/site-packages/seaborn/matrix.py\u001b[0m in \u001b[0;36mheatmap\u001b[0;34m(data, vmin, vmax, cmap, center, robust, annot, fmt, annot_kws, linewidths, linecolor, cbar, cbar_kws, cbar_ax, square, xticklabels, yticklabels, mask, ax, **kwargs)\u001b[0m\n\u001b[1;32m    538\u001b[0m     \"\"\"\n\u001b[1;32m    539\u001b[0m     \u001b[0;31m# Initialize the plotter object\u001b[0m\u001b[0;34m\u001b[0m\u001b[0;34m\u001b[0m\u001b[0;34m\u001b[0m\u001b[0m\n\u001b[0;32m--> 540\u001b[0;31m     plotter = _HeatMapper(data, vmin, vmax, cmap, center, robust, annot, fmt,\n\u001b[0m\u001b[1;32m    541\u001b[0m                           \u001b[0mannot_kws\u001b[0m\u001b[0;34m,\u001b[0m \u001b[0mcbar\u001b[0m\u001b[0;34m,\u001b[0m \u001b[0mcbar_kws\u001b[0m\u001b[0;34m,\u001b[0m \u001b[0mxticklabels\u001b[0m\u001b[0;34m,\u001b[0m\u001b[0;34m\u001b[0m\u001b[0;34m\u001b[0m\u001b[0m\n\u001b[1;32m    542\u001b[0m                           yticklabels, mask)\n",
      "\u001b[0;32m~/.local/lib/python3.9/site-packages/seaborn/matrix.py\u001b[0m in \u001b[0;36m__init__\u001b[0;34m(self, data, vmin, vmax, cmap, center, robust, annot, fmt, annot_kws, cbar, cbar_kws, xticklabels, yticklabels, mask)\u001b[0m\n\u001b[1;32m    171\u001b[0m                 \u001b[0;32mif\u001b[0m \u001b[0mannot_data\u001b[0m\u001b[0;34m.\u001b[0m\u001b[0mshape\u001b[0m \u001b[0;34m!=\u001b[0m \u001b[0mplot_data\u001b[0m\u001b[0;34m.\u001b[0m\u001b[0mshape\u001b[0m\u001b[0;34m:\u001b[0m\u001b[0;34m\u001b[0m\u001b[0;34m\u001b[0m\u001b[0m\n\u001b[1;32m    172\u001b[0m                     \u001b[0merr\u001b[0m \u001b[0;34m=\u001b[0m \u001b[0;34m\"`data` and `annot` must have same shape.\"\u001b[0m\u001b[0;34m\u001b[0m\u001b[0;34m\u001b[0m\u001b[0m\n\u001b[0;32m--> 173\u001b[0;31m                     \u001b[0;32mraise\u001b[0m \u001b[0mValueError\u001b[0m\u001b[0;34m(\u001b[0m\u001b[0merr\u001b[0m\u001b[0;34m)\u001b[0m\u001b[0;34m\u001b[0m\u001b[0;34m\u001b[0m\u001b[0m\n\u001b[0m\u001b[1;32m    174\u001b[0m             \u001b[0mannot\u001b[0m \u001b[0;34m=\u001b[0m \u001b[0;32mTrue\u001b[0m\u001b[0;34m\u001b[0m\u001b[0;34m\u001b[0m\u001b[0m\n\u001b[1;32m    175\u001b[0m \u001b[0;34m\u001b[0m\u001b[0m\n",
      "\u001b[0;31mValueError\u001b[0m: `data` and `annot` must have same shape."
     ]
    }
   ],
   "source": [
    "prediction_analyse(X_test, Y_test)"
   ]
  },
  {
   "cell_type": "code",
   "execution_count": null,
   "id": "quarterly-yield",
   "metadata": {},
   "outputs": [],
   "source": []
  }
 ],
 "metadata": {
  "kernelspec": {
   "display_name": "Python 3",
   "language": "python",
   "name": "python3"
  },
  "language_info": {
   "codemirror_mode": {
    "name": "ipython",
    "version": 3
   },
   "file_extension": ".py",
   "mimetype": "text/x-python",
   "name": "python",
   "nbconvert_exporter": "python",
   "pygments_lexer": "ipython3",
   "version": "3.9.6"
  }
 },
 "nbformat": 4,
 "nbformat_minor": 5
}
