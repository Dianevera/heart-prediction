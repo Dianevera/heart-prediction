{
 "cells": [
  {
   "cell_type": "code",
   "execution_count": 1,
   "id": "judicial-enclosure",
   "metadata": {},
   "outputs": [],
   "source": [
    "import pandas as pd\n",
    "import numpy as np\n",
    "import os\n",
    "import pickle"
   ]
  },
  {
   "cell_type": "code",
   "execution_count": 2,
   "id": "synthetic-patent",
   "metadata": {
    "scrolled": true
   },
   "outputs": [],
   "source": [
    "import torch\n",
    "from torch import nn\n",
    "from torch.utils.data import Dataset, DataLoader\n",
    "from torch.autograd import Variable\n",
    "import torch.nn.functional as func"
   ]
  },
  {
   "cell_type": "code",
   "execution_count": 3,
   "id": "lined-statement",
   "metadata": {},
   "outputs": [
    {
     "name": "stdout",
     "output_type": "stream",
     "text": [
      "INFO:tensorflow:Enabling eager execution\n",
      "INFO:tensorflow:Enabling v2 tensorshape\n",
      "INFO:tensorflow:Enabling resource variables\n",
      "INFO:tensorflow:Enabling tensor equality\n",
      "INFO:tensorflow:Enabling control flow v2\n"
     ]
    }
   ],
   "source": [
    "import tensorflow as tf"
   ]
  },
  {
   "cell_type": "code",
   "execution_count": 4,
   "id": "coral-sympathy",
   "metadata": {},
   "outputs": [],
   "source": [
    "from sklearn.model_selection import train_test_split\n",
    "from sklearn.utils import class_weight\n",
    "from sklearn.metrics import accuracy_score, ConfusionMatrixDisplay, confusion_matrix"
   ]
  },
  {
   "cell_type": "code",
   "execution_count": 5,
   "id": "cleared-trance",
   "metadata": {},
   "outputs": [],
   "source": [
    "import matplotlib.pyplot as plt"
   ]
  },
  {
   "cell_type": "markdown",
   "id": "ongoing-sessions",
   "metadata": {},
   "source": [
    "# Data location"
   ]
  },
  {
   "cell_type": "code",
   "execution_count": 6,
   "id": "dutch-comparison",
   "metadata": {},
   "outputs": [],
   "source": [
    "data_path = \"data/clean_data.csv\"\n",
    "save_directory = \"weights/logistic_regression_weights\"\n",
    "accuracies_file_path = \"tests/tests_pkl/logistic_regression/LogisticRegression_accuracies.pkl\"\n",
    "\n",
    "if not os.path.isdir(save_directory):\n",
    "    os.mkdir(save_directory)"
   ]
  },
  {
   "cell_type": "markdown",
   "id": "martial-spanking",
   "metadata": {},
   "source": [
    "# Set seed"
   ]
  },
  {
   "cell_type": "code",
   "execution_count": 7,
   "id": "false-creature",
   "metadata": {},
   "outputs": [],
   "source": [
    "SEED = 42"
   ]
  },
  {
   "cell_type": "markdown",
   "id": "atmospheric-berry",
   "metadata": {},
   "source": [
    "# Load data"
   ]
  },
  {
   "cell_type": "code",
   "execution_count": 8,
   "id": "awful-suite",
   "metadata": {},
   "outputs": [],
   "source": [
    "df = pd.read_csv(data_path)"
   ]
  },
  {
   "cell_type": "code",
   "execution_count": 9,
   "id": "stuffed-congo",
   "metadata": {
    "scrolled": true
   },
   "outputs": [
    {
     "data": {
      "text/plain": [
       "(11627, 39)"
      ]
     },
     "execution_count": 9,
     "metadata": {},
     "output_type": "execute_result"
    }
   ],
   "source": [
    "df.shape"
   ]
  },
  {
   "cell_type": "code",
   "execution_count": 10,
   "id": "abroad-colonial",
   "metadata": {},
   "outputs": [
    {
     "data": {
      "text/plain": [
       "Index(['RANDID', 'SEX', 'TOTCHOL', 'AGE', 'SYSBP', 'DIABP', 'CURSMOKE',\n",
       "       'CIGPDAY', 'BMI', 'DIABETES', 'BPMEDS', 'HEARTRTE', 'GLUCOSE', 'educ',\n",
       "       'PREVCHD', 'PREVAP', 'PREVMI', 'PREVSTRK', 'PREVHYP', 'TIME', 'PERIOD',\n",
       "       'HDLC', 'LDLC', 'DEATH', 'ANGINA', 'HOSPMI', 'MI_FCHD', 'ANYCHD',\n",
       "       'STROKE', 'CVD', 'HYPERTEN', 'TIMEAP', 'TIMEMI', 'TIMEMIFC', 'TIMECHD',\n",
       "       'TIMESTRK', 'TIMECVD', 'TIMEDTH', 'TIMEHYP'],\n",
       "      dtype='object')"
      ]
     },
     "execution_count": 10,
     "metadata": {},
     "output_type": "execute_result"
    }
   ],
   "source": [
    "df.columns"
   ]
  },
  {
   "cell_type": "code",
   "execution_count": 11,
   "id": "hearing-airfare",
   "metadata": {
    "scrolled": false
   },
   "outputs": [
    {
     "data": {
      "text/plain": [
       "Index(['SEX', 'TOTCHOL', 'AGE', 'SYSBP', 'DIABP', 'CURSMOKE', 'CIGPDAY', 'BMI',\n",
       "       'DIABETES', 'BPMEDS', 'HEARTRTE', 'GLUCOSE', 'educ', 'PREVCHD',\n",
       "       'PREVAP', 'PREVMI', 'PREVSTRK', 'PREVHYP', 'TIME', 'PERIOD', 'HDLC',\n",
       "       'LDLC'],\n",
       "      dtype='object')"
      ]
     },
     "execution_count": 11,
     "metadata": {},
     "output_type": "execute_result"
    }
   ],
   "source": [
    "df.iloc[:, 1: 23].columns"
   ]
  },
  {
   "cell_type": "code",
   "execution_count": 12,
   "id": "sunrise-sunday",
   "metadata": {},
   "outputs": [
    {
     "data": {
      "text/plain": [
       "Index(['DEATH', 'ANGINA', 'HOSPMI', 'MI_FCHD', 'ANYCHD', 'STROKE', 'CVD',\n",
       "       'HYPERTEN'],\n",
       "      dtype='object')"
      ]
     },
     "execution_count": 12,
     "metadata": {},
     "output_type": "execute_result"
    }
   ],
   "source": [
    "df.iloc[:, 23: 31].columns"
   ]
  },
  {
   "cell_type": "code",
   "execution_count": 13,
   "id": "related-kelly",
   "metadata": {
    "scrolled": true
   },
   "outputs": [
    {
     "name": "stdout",
     "output_type": "stream",
     "text": [
      "22 8\n"
     ]
    }
   ],
   "source": [
    "print(df.iloc[:, 1: 23].shape[1], df.iloc[:, 23: 31].shape[1])"
   ]
  },
  {
   "cell_type": "code",
   "execution_count": 14,
   "id": "patient-trance",
   "metadata": {
    "scrolled": false
   },
   "outputs": [
    {
     "data": {
      "image/png": "[encoded data removed]",
      "text/plain": [
       "<Figure size 432x288 with 1 Axes>"
      ]
     },
     "metadata": {
      "needs_background": "light"
     },
     "output_type": "display_data"
    }
   ],
   "source": [
    "data = np.loadtxt(data_path, delimiter=\",\", dtype=np.float32, skiprows=1)\n",
    "amax_label = np.amax(data[:, 23:31], axis=1)\n",
    "hist,bins = np.histogram(amax_label) \n",
    "\n",
    "plt.hist(amax_label, bins = bins) \n",
    "plt.title(\"any disease\") \n",
    "plt.show()"
   ]
  },
  {
   "cell_type": "code",
   "execution_count": 15,
   "id": "conservative-excess",
   "metadata": {
    "scrolled": false
   },
   "outputs": [
    {
     "data": {
      "text/html": [
       "<div>\n",
       "<style scoped>\n",
       "    .dataframe tbody tr th:only-of-type {\n",
       "        vertical-align: middle;\n",
       "    }\n",
       "\n",
       "    .dataframe tbody tr th {\n",
       "        vertical-align: top;\n",
       "    }\n",
       "\n",
       "    .dataframe thead th {\n",
       "        text-align: right;\n",
       "    }\n",
       "</style>\n",
       "<table border=\"1\" class=\"dataframe\">\n",
       "  <thead>\n",
       "    <tr style=\"text-align: right;\">\n",
       "      <th></th>\n",
       "      <th>RANDID</th>\n",
       "      <th>SEX</th>\n",
       "      <th>TOTCHOL</th>\n",
       "      <th>AGE</th>\n",
       "      <th>SYSBP</th>\n",
       "      <th>DIABP</th>\n",
       "      <th>CURSMOKE</th>\n",
       "      <th>CIGPDAY</th>\n",
       "      <th>BMI</th>\n",
       "      <th>DIABETES</th>\n",
       "      <th>...</th>\n",
       "      <th>CVD</th>\n",
       "      <th>HYPERTEN</th>\n",
       "      <th>TIMEAP</th>\n",
       "      <th>TIMEMI</th>\n",
       "      <th>TIMEMIFC</th>\n",
       "      <th>TIMECHD</th>\n",
       "      <th>TIMESTRK</th>\n",
       "      <th>TIMECVD</th>\n",
       "      <th>TIMEDTH</th>\n",
       "      <th>TIMEHYP</th>\n",
       "    </tr>\n",
       "  </thead>\n",
       "  <tbody>\n",
       "    <tr>\n",
       "      <th>0</th>\n",
       "      <td>2448.0</td>\n",
       "      <td>1.0</td>\n",
       "      <td>195.0</td>\n",
       "      <td>39.0</td>\n",
       "      <td>106.0</td>\n",
       "      <td>70.0</td>\n",
       "      <td>0.0</td>\n",
       "      <td>0.0</td>\n",
       "      <td>26.970</td>\n",
       "      <td>0.0</td>\n",
       "      <td>...</td>\n",
       "      <td>1.0</td>\n",
       "      <td>0.0</td>\n",
       "      <td>8766.0</td>\n",
       "      <td>6438.0</td>\n",
       "      <td>6438.0</td>\n",
       "      <td>6438.0</td>\n",
       "      <td>8766.0</td>\n",
       "      <td>6438.0</td>\n",
       "      <td>8766.0</td>\n",
       "      <td>8766.0</td>\n",
       "    </tr>\n",
       "    <tr>\n",
       "      <th>1</th>\n",
       "      <td>2448.0</td>\n",
       "      <td>1.0</td>\n",
       "      <td>209.0</td>\n",
       "      <td>52.0</td>\n",
       "      <td>121.0</td>\n",
       "      <td>66.0</td>\n",
       "      <td>0.0</td>\n",
       "      <td>0.0</td>\n",
       "      <td>27.794</td>\n",
       "      <td>0.0</td>\n",
       "      <td>...</td>\n",
       "      <td>1.0</td>\n",
       "      <td>0.0</td>\n",
       "      <td>8766.0</td>\n",
       "      <td>6438.0</td>\n",
       "      <td>6438.0</td>\n",
       "      <td>6438.0</td>\n",
       "      <td>8766.0</td>\n",
       "      <td>6438.0</td>\n",
       "      <td>8766.0</td>\n",
       "      <td>8766.0</td>\n",
       "    </tr>\n",
       "    <tr>\n",
       "      <th>2</th>\n",
       "      <td>6238.0</td>\n",
       "      <td>0.0</td>\n",
       "      <td>250.0</td>\n",
       "      <td>46.0</td>\n",
       "      <td>121.0</td>\n",
       "      <td>81.0</td>\n",
       "      <td>0.0</td>\n",
       "      <td>0.0</td>\n",
       "      <td>28.730</td>\n",
       "      <td>0.0</td>\n",
       "      <td>...</td>\n",
       "      <td>0.0</td>\n",
       "      <td>0.0</td>\n",
       "      <td>8766.0</td>\n",
       "      <td>8766.0</td>\n",
       "      <td>8766.0</td>\n",
       "      <td>8766.0</td>\n",
       "      <td>8766.0</td>\n",
       "      <td>8766.0</td>\n",
       "      <td>8766.0</td>\n",
       "      <td>8766.0</td>\n",
       "    </tr>\n",
       "    <tr>\n",
       "      <th>3</th>\n",
       "      <td>6238.0</td>\n",
       "      <td>0.0</td>\n",
       "      <td>260.0</td>\n",
       "      <td>52.0</td>\n",
       "      <td>105.0</td>\n",
       "      <td>70.0</td>\n",
       "      <td>0.0</td>\n",
       "      <td>0.0</td>\n",
       "      <td>29.430</td>\n",
       "      <td>0.0</td>\n",
       "      <td>...</td>\n",
       "      <td>0.0</td>\n",
       "      <td>0.0</td>\n",
       "      <td>8766.0</td>\n",
       "      <td>8766.0</td>\n",
       "      <td>8766.0</td>\n",
       "      <td>8766.0</td>\n",
       "      <td>8766.0</td>\n",
       "      <td>8766.0</td>\n",
       "      <td>8766.0</td>\n",
       "      <td>8766.0</td>\n",
       "    </tr>\n",
       "    <tr>\n",
       "      <th>4</th>\n",
       "      <td>6238.0</td>\n",
       "      <td>0.0</td>\n",
       "      <td>237.0</td>\n",
       "      <td>58.0</td>\n",
       "      <td>108.0</td>\n",
       "      <td>66.0</td>\n",
       "      <td>0.0</td>\n",
       "      <td>0.0</td>\n",
       "      <td>28.500</td>\n",
       "      <td>0.0</td>\n",
       "      <td>...</td>\n",
       "      <td>0.0</td>\n",
       "      <td>0.0</td>\n",
       "      <td>8766.0</td>\n",
       "      <td>8766.0</td>\n",
       "      <td>8766.0</td>\n",
       "      <td>8766.0</td>\n",
       "      <td>8766.0</td>\n",
       "      <td>8766.0</td>\n",
       "      <td>8766.0</td>\n",
       "      <td>8766.0</td>\n",
       "    </tr>\n",
       "    <tr>\n",
       "      <th>...</th>\n",
       "      <td>...</td>\n",
       "      <td>...</td>\n",
       "      <td>...</td>\n",
       "      <td>...</td>\n",
       "      <td>...</td>\n",
       "      <td>...</td>\n",
       "      <td>...</td>\n",
       "      <td>...</td>\n",
       "      <td>...</td>\n",
       "      <td>...</td>\n",
       "      <td>...</td>\n",
       "      <td>...</td>\n",
       "      <td>...</td>\n",
       "      <td>...</td>\n",
       "      <td>...</td>\n",
       "      <td>...</td>\n",
       "      <td>...</td>\n",
       "      <td>...</td>\n",
       "      <td>...</td>\n",
       "      <td>...</td>\n",
       "      <td>...</td>\n",
       "    </tr>\n",
       "    <tr>\n",
       "      <th>11622</th>\n",
       "      <td>9998212.0</td>\n",
       "      <td>1.0</td>\n",
       "      <td>173.0</td>\n",
       "      <td>46.0</td>\n",
       "      <td>126.0</td>\n",
       "      <td>82.0</td>\n",
       "      <td>0.0</td>\n",
       "      <td>0.0</td>\n",
       "      <td>19.170</td>\n",
       "      <td>0.0</td>\n",
       "      <td>...</td>\n",
       "      <td>0.0</td>\n",
       "      <td>1.0</td>\n",
       "      <td>8766.0</td>\n",
       "      <td>8766.0</td>\n",
       "      <td>8766.0</td>\n",
       "      <td>8766.0</td>\n",
       "      <td>8766.0</td>\n",
       "      <td>8766.0</td>\n",
       "      <td>8766.0</td>\n",
       "      <td>0.0</td>\n",
       "    </tr>\n",
       "    <tr>\n",
       "      <th>11623</th>\n",
       "      <td>9998212.0</td>\n",
       "      <td>1.0</td>\n",
       "      <td>153.0</td>\n",
       "      <td>52.0</td>\n",
       "      <td>143.0</td>\n",
       "      <td>89.0</td>\n",
       "      <td>0.0</td>\n",
       "      <td>0.0</td>\n",
       "      <td>25.740</td>\n",
       "      <td>0.0</td>\n",
       "      <td>...</td>\n",
       "      <td>0.0</td>\n",
       "      <td>1.0</td>\n",
       "      <td>8766.0</td>\n",
       "      <td>8766.0</td>\n",
       "      <td>8766.0</td>\n",
       "      <td>8766.0</td>\n",
       "      <td>8766.0</td>\n",
       "      <td>8766.0</td>\n",
       "      <td>8766.0</td>\n",
       "      <td>0.0</td>\n",
       "    </tr>\n",
       "    <tr>\n",
       "      <th>11624</th>\n",
       "      <td>9999312.0</td>\n",
       "      <td>0.0</td>\n",
       "      <td>196.0</td>\n",
       "      <td>39.0</td>\n",
       "      <td>133.0</td>\n",
       "      <td>86.0</td>\n",
       "      <td>1.0</td>\n",
       "      <td>30.0</td>\n",
       "      <td>20.910</td>\n",
       "      <td>0.0</td>\n",
       "      <td>...</td>\n",
       "      <td>0.0</td>\n",
       "      <td>1.0</td>\n",
       "      <td>8766.0</td>\n",
       "      <td>8766.0</td>\n",
       "      <td>8766.0</td>\n",
       "      <td>8766.0</td>\n",
       "      <td>8766.0</td>\n",
       "      <td>8766.0</td>\n",
       "      <td>8766.0</td>\n",
       "      <td>4201.0</td>\n",
       "    </tr>\n",
       "    <tr>\n",
       "      <th>11625</th>\n",
       "      <td>9999312.0</td>\n",
       "      <td>0.0</td>\n",
       "      <td>240.0</td>\n",
       "      <td>46.0</td>\n",
       "      <td>138.0</td>\n",
       "      <td>79.0</td>\n",
       "      <td>1.0</td>\n",
       "      <td>20.0</td>\n",
       "      <td>26.390</td>\n",
       "      <td>0.0</td>\n",
       "      <td>...</td>\n",
       "      <td>0.0</td>\n",
       "      <td>1.0</td>\n",
       "      <td>8766.0</td>\n",
       "      <td>8766.0</td>\n",
       "      <td>8766.0</td>\n",
       "      <td>8766.0</td>\n",
       "      <td>8766.0</td>\n",
       "      <td>8766.0</td>\n",
       "      <td>8766.0</td>\n",
       "      <td>4201.0</td>\n",
       "    </tr>\n",
       "    <tr>\n",
       "      <th>11626</th>\n",
       "      <td>9999312.0</td>\n",
       "      <td>0.0</td>\n",
       "      <td>189.0</td>\n",
       "      <td>50.0</td>\n",
       "      <td>147.0</td>\n",
       "      <td>96.0</td>\n",
       "      <td>1.0</td>\n",
       "      <td>10.0</td>\n",
       "      <td>24.190</td>\n",
       "      <td>0.0</td>\n",
       "      <td>...</td>\n",
       "      <td>0.0</td>\n",
       "      <td>1.0</td>\n",
       "      <td>8766.0</td>\n",
       "      <td>8766.0</td>\n",
       "      <td>8766.0</td>\n",
       "      <td>8766.0</td>\n",
       "      <td>8766.0</td>\n",
       "      <td>8766.0</td>\n",
       "      <td>8766.0</td>\n",
       "      <td>4201.0</td>\n",
       "    </tr>\n",
       "  </tbody>\n",
       "</table>\n",
       "<p>11627 rows × 39 columns</p>\n",
       "</div>"
      ],
      "text/plain": [
       "          RANDID  SEX  TOTCHOL   AGE  SYSBP  DIABP  CURSMOKE  CIGPDAY     BMI  \\\n",
       "0         2448.0  1.0    195.0  39.0  106.0   70.0       0.0      0.0  26.970   \n",
       "1         2448.0  1.0    209.0  52.0  121.0   66.0       0.0      0.0  27.794   \n",
       "2         6238.0  0.0    250.0  46.0  121.0   81.0       0.0      0.0  28.730   \n",
       "3         6238.0  0.0    260.0  52.0  105.0   70.0       0.0      0.0  29.430   \n",
       "4         6238.0  0.0    237.0  58.0  108.0   66.0       0.0      0.0  28.500   \n",
       "...          ...  ...      ...   ...    ...    ...       ...      ...     ...   \n",
       "11622  9998212.0  1.0    173.0  46.0  126.0   82.0       0.0      0.0  19.170   \n",
       "11623  9998212.0  1.0    153.0  52.0  143.0   89.0       0.0      0.0  25.740   \n",
       "11624  9999312.0  0.0    196.0  39.0  133.0   86.0       1.0     30.0  20.910   \n",
       "11625  9999312.0  0.0    240.0  46.0  138.0   79.0       1.0     20.0  26.390   \n",
       "11626  9999312.0  0.0    189.0  50.0  147.0   96.0       1.0     10.0  24.190   \n",
       "\n",
       "       DIABETES  ...  CVD  HYPERTEN  TIMEAP  TIMEMI  TIMEMIFC  TIMECHD  \\\n",
       "0           0.0  ...  1.0       0.0  8766.0  6438.0    6438.0   6438.0   \n",
       "1           0.0  ...  1.0       0.0  8766.0  6438.0    6438.0   6438.0   \n",
       "2           0.0  ...  0.0       0.0  8766.0  8766.0    8766.0   8766.0   \n",
       "3           0.0  ...  0.0       0.0  8766.0  8766.0    8766.0   8766.0   \n",
       "4           0.0  ...  0.0       0.0  8766.0  8766.0    8766.0   8766.0   \n",
       "...         ...  ...  ...       ...     ...     ...       ...      ...   \n",
       "11622       0.0  ...  0.0       1.0  8766.0  8766.0    8766.0   8766.0   \n",
       "11623       0.0  ...  0.0       1.0  8766.0  8766.0    8766.0   8766.0   \n",
       "11624       0.0  ...  0.0       1.0  8766.0  8766.0    8766.0   8766.0   \n",
       "11625       0.0  ...  0.0       1.0  8766.0  8766.0    8766.0   8766.0   \n",
       "11626       0.0  ...  0.0       1.0  8766.0  8766.0    8766.0   8766.0   \n",
       "\n",
       "       TIMESTRK  TIMECVD  TIMEDTH  TIMEHYP  \n",
       "0        8766.0   6438.0   8766.0   8766.0  \n",
       "1        8766.0   6438.0   8766.0   8766.0  \n",
       "2        8766.0   8766.0   8766.0   8766.0  \n",
       "3        8766.0   8766.0   8766.0   8766.0  \n",
       "4        8766.0   8766.0   8766.0   8766.0  \n",
       "...         ...      ...      ...      ...  \n",
       "11622    8766.0   8766.0   8766.0      0.0  \n",
       "11623    8766.0   8766.0   8766.0      0.0  \n",
       "11624    8766.0   8766.0   8766.0   4201.0  \n",
       "11625    8766.0   8766.0   8766.0   4201.0  \n",
       "11626    8766.0   8766.0   8766.0   4201.0  \n",
       "\n",
       "[11627 rows x 39 columns]"
      ]
     },
     "execution_count": 15,
     "metadata": {},
     "output_type": "execute_result"
    }
   ],
   "source": [
    "df"
   ]
  },
  {
   "cell_type": "markdown",
   "id": "instant-process",
   "metadata": {},
   "source": [
    "# DataSet"
   ]
  },
  {
   "cell_type": "code",
   "execution_count": 16,
   "id": "rotary-classic",
   "metadata": {},
   "outputs": [],
   "source": [
    "class HeartDeseaseDataset(Dataset): \n",
    "    \n",
    "    def __init__(self, path, any_disease=False, label_indexes=[30, 31], split_indexes=[1, 23, 23, 31]):        \n",
    "        self.data = np.loadtxt(path, delimiter=\",\", dtype=np.float32, skiprows=1)\n",
    "        self.x = torch.from_numpy(self.data[:, split_indexes[0]:split_indexes[1]])\n",
    "        \n",
    "        if any_disease:\n",
    "            self.y = torch.from_numpy(np.amax(self.data[:, split_indexes[2]:split_indexes[3]], axis=1))\n",
    "        else:\n",
    "            self.y = torch.from_numpy(pd.get_dummies(self.data[:, label_indexes[0]:label_indexes[1]].flatten()).to_numpy(dtype=np.float32))\n",
    "        \n",
    "        self.minMax = torch.from_numpy(compute_min_max(data_path, split_indexes[0], split_indexes[1]))\n",
    "        self.len = len(self.data)\n",
    "        self.class_weights = compute_weight_class(self.y)\n",
    "\n",
    "    def __len__(self):\n",
    "        return self.len\n",
    "    \n",
    "    def __getitem__(self, idx):\n",
    "        inputs = torch.sub(self.x[idx], self.minMax[0])/ torch.sub(self.minMax[1],self.minMax[0])\n",
    "        return inputs, self.y[idx]"
   ]
  },
  {
   "cell_type": "markdown",
   "id": "boring-picture",
   "metadata": {},
   "source": [
    "# DataLoader"
   ]
  },
  {
   "cell_type": "code",
   "execution_count": 17,
   "id": "representative-japan",
   "metadata": {},
   "outputs": [],
   "source": [
    "def create_dataloaders(dataset, batch_size, display_proportions=False):\n",
    "    lengths = [round(len(dataset) * split) for split in [TRAIN_SPLIT, VALIDATION_SPLIT, TEST_SPLIT]]\n",
    "    \n",
    "    train_dataset, val_dataset, test_dataset = torch.utils.data.random_split(dataset, lengths=lengths, generator=torch.Generator().manual_seed(SEED))\n",
    "    \n",
    "    train_dataloader = torch.utils.data.DataLoader(\n",
    "        train_dataset,\n",
    "        batch_size=batch_size,\n",
    "        shuffle=True,\n",
    "        num_workers=1,\n",
    "        prefetch_factor=1,\n",
    "        persistent_workers=False,\n",
    "        pin_memory=True\n",
    "    )\n",
    "\n",
    "    val_dataloader = torch.utils.data.DataLoader(\n",
    "        val_dataset,\n",
    "        batch_size=batch_size,\n",
    "        shuffle=True,\n",
    "        num_workers=4,\n",
    "        prefetch_factor=2,\n",
    "        persistent_workers=False,\n",
    "        pin_memory=True\n",
    "    )\n",
    "\n",
    "    test_dataloader = torch.utils.data.DataLoader(\n",
    "        test_dataset,\n",
    "        batch_size=1,\n",
    "        shuffle=True,\n",
    "        num_workers=4,\n",
    "        prefetch_factor=2,\n",
    "        persistent_workers=False,\n",
    "        pin_memory=True\n",
    "    )\n",
    "    \n",
    "    if display_proportions:\n",
    "        print(f'Total dataset: {len(train_dataloader) + len(val_dataloader) + len(test_dataloader)}, '\n",
    "                f'train dataset: {len(train_dataloader)}, val dataset: {len(val_dataloader)}, test_dataset: {len(test_dataloader)}')\n",
    "    return train_dataloader, val_dataloader, test_dataloader"
   ]
  },
  {
   "cell_type": "markdown",
   "id": "sized-bachelor",
   "metadata": {},
   "source": [
    "# Trainer"
   ]
  },
  {
   "cell_type": "code",
   "execution_count": 18,
   "id": "descending-float",
   "metadata": {},
   "outputs": [],
   "source": [
    "class Trainer:\n",
    "    def __init__(self, model, class_weights, loss='dl', lr=0.5, save_directory= \"regression_logistic_weights\", label_name = \"\"):\n",
    "    \n",
    "        possible_loss = {'dl' : DiceLoss(), 'nllloss' : nn.NLLLoss(weight=class_weights, reduction='mean'),\n",
    "                         'cross' : nn.CrossEntropyLoss(weight=class_weights), 'mse' : nn.MSELoss(reduction='mean'),\n",
    "                         'BCEloss' : nn.BCELoss(), 'BCElogits' : nn.BCEWithLogitsLoss(weight=class_weights)}\n",
    "        \n",
    "        self.model = model\n",
    "        \n",
    "        self.criterion = possible_loss[loss]\n",
    "        self.optimizer = torch.optim.SGD(model.parameters(), lr=lr)\n",
    "        self.scheduler = torch.optim.lr_scheduler.ReduceLROnPlateau(self.optimizer, mode='max', factor=0.6, patience=2, cooldown=2)\n",
    "        \n",
    "        self.history = {'lr': [], 'loss': [], 'acc':[], 'val_loss': [], 'val_acc':[]}\n",
    "        self.max_val_acc = float('-inf')\n",
    "        self.save_dir = save_directory\n",
    "        self.label_name = label_name\n",
    "        \n",
    "    def fit(self, train_dataloader, val_dataloader, nb_epochs):\n",
    "        print(f'==== Training {self.label_name} ====\\n')\n",
    "        \n",
    "        for epoch in range(nb_epochs):\n",
    "            print(f'Epoch {epoch + 1} / {nb_epochs}')\n",
    "            train_loss = val_loss = train_acc = val_acc = 0.0\n",
    "            \n",
    "            self.model.train()\n",
    "            pbar = tf.keras.utils.Progbar(target=len(train_dataloader))\n",
    "            \n",
    "            for i, batch in enumerate(train_dataloader):\n",
    "                inputs, labels = batch\n",
    "\n",
    "                # Clear gradients w.r.t. parameters\n",
    "                self.optimizer.zero_grad()\n",
    "                \n",
    "                # Forward pass to get output/logits\n",
    "                output = self.model(inputs)\n",
    "\n",
    "                # Calculate Loss: softmax --> cross entropy loss\n",
    "                loss = self.criterion(output, labels)\n",
    "                train_loss += loss\n",
    "                train_acc += 1 if np.argmax(labels.detach().numpy()[0]) == np.argmax(output.detach().numpy()[0]) else 0\n",
    "\n",
    "                # Getting gradients w.r.t. parameters\n",
    "                loss.backward()\n",
    "\n",
    "                pbar.update(i + 1, values=\n",
    "                            [\n",
    "                                (\"loss\", train_loss.item()/(i + 1)),\n",
    "                                (\"acc\", train_acc/(i + 1)),\n",
    "                                (\"lr\", self.scheduler.optimizer.param_groups[0]['lr'])\n",
    "                            ])\n",
    "                \n",
    "                # Updating parameters\n",
    "                self.optimizer.step()\n",
    "                \n",
    "            \n",
    "            print('Validation')\n",
    "            \n",
    "            self.model.eval()\n",
    "            pbar = tf.keras.utils.Progbar(target=len(val_dataloader))\n",
    "            \n",
    "            with torch.no_grad():\n",
    "                for i, batch in enumerate(val_dataloader):\n",
    "                    inputs, labels = batch\n",
    "                    output = self.model(inputs)\n",
    "                    \n",
    "                    val_loss += loss\n",
    "                    val_acc += 1 if np.argmax(labels.detach().numpy()[0]) == np.argmax(output.detach().numpy()[0]) else 0\n",
    "                    \n",
    "                    pbar.update(i + 1, values=\n",
    "                            [\n",
    "                                (\"loss\", val_loss.item()/(i + 1)),\n",
    "                                (\"acc\", val_acc/(i + 1)),\n",
    "                                (\"lr\", self.scheduler.optimizer.param_groups[0]['lr'])\n",
    "                            ])\n",
    "                    \n",
    "            train_loss = train_loss / len(train_dataloader)\n",
    "            train_acc = train_acc / len(train_dataloader)\n",
    "            \n",
    "            val_loss = val_loss / len(val_dataloader)\n",
    "            val_acc = val_acc / len(val_dataloader)\n",
    "            \n",
    "            lr = self.scheduler.optimizer.param_groups[0]['lr']\n",
    "            self.scheduler.step(val_loss)\n",
    "            \n",
    "            self.history['lr'].append(lr)\n",
    "            self.history['loss'].append(train_loss)\n",
    "            self.history['val_loss'].append(val_loss)\n",
    "            self.history['acc'].append(train_acc)\n",
    "            self.history['val_acc'].append(val_acc)\n",
    "            \n",
    "            if val_acc > self.max_val_acc:\n",
    "                print(f'Model saved. Acc updated: {self.max_val_acc:.3f} -> {val_acc:.3f}')\n",
    "                self.max_val_acc = val_acc\n",
    "                torch.save(self.model.state_dict(), f'{self.save_dir}/regression_logistice_{self.label_name}.pt')\n",
    "            \n",
    "    def evaluate(self, test_dataloader, display=True):\n",
    "        print(f'==== Evaluate {self.label_name} ====\\n')\n",
    "        correct = total_loss = total = 0.0\n",
    "        #iterator = 0\n",
    "        self.model.eval()\n",
    "        with torch.no_grad():       \n",
    "            # Iterate through test dataset\n",
    "            for i, (inputs, labels) in enumerate(test_dataloader):\n",
    "\n",
    "                pred = self.model(inputs)\n",
    "\n",
    "                loss = self.criterion(pred, labels)\n",
    "                total_loss += loss\n",
    "                    \n",
    "                # Total correct predictions\n",
    "                correct += 1 if np.argmax(labels.detach().numpy()[0]) == np.argmax(pred.detach().numpy()[0]) else 0\n",
    "                #iterator += 1\n",
    "\n",
    "            total_accuracy = 100 * correct / len(test_dataloader)\n",
    "            \n",
    "            if display: \n",
    "                print('Iteration: {}. Loss: {}. Accuracy: {}. total loss: {}.'.format(len(test_dataloader), loss.item(), total_accuracy, total_loss))\n",
    "            \n",
    "            return total_accuracy\n",
    "        \n",
    "    def display_history(self, accuracy=True, loss=False):\n",
    "        if loss:\n",
    "            plt.figure(figsize=(6,6))\n",
    "            plt.plot(self.history['loss'], label=\"Loss\")\n",
    "            plt.plot(self.history['val_loss'], label=\"Validation loss\")\n",
    "            plt.ylabel('Loss', fontsize=10)\n",
    "            plt.xlabel('Epochs', fontsize=10)\n",
    "            plt.legend()\n",
    "            plt.show()\n",
    "\n",
    "        if accuracy:\n",
    "            plt.figure(figsize=(6,6))\n",
    "            plt.plot(self.history['acc'], label=\"Accuracy\")\n",
    "            plt.plot(self.history['val_acc'], label=\"Validation accuracy\")\n",
    "            plt.ylabel('Accuracy', fontsize=10)\n",
    "            plt.xlabel('Epochs', fontsize=10)\n",
    "            plt.legend()\n",
    "            plt.show()\n",
    "     "
   ]
  },
  {
   "cell_type": "markdown",
   "id": "sharp-policy",
   "metadata": {},
   "source": [
    "# Loss"
   ]
  },
  {
   "cell_type": "code",
   "execution_count": 19,
   "id": "casual-blowing",
   "metadata": {},
   "outputs": [],
   "source": [
    "class DiceLoss(nn.Module):\n",
    "    def __init__(self, weight=None, size_average=True):\n",
    "        super(DiceLoss, self).__init__()\n",
    "\n",
    "    def forward(self, inputs, targets, smooth=1):\n",
    "        \n",
    "        #comment out if your model contains a sigmoid or equivalent activation layer\n",
    "        inputs = torch.sigmoid(inputs)       \n",
    "        \n",
    "        #flatten label and prediction tensors\n",
    "        inputs = inputs.view(-1)\n",
    "        targets = targets.view(-1)\n",
    "        \n",
    "        intersection = (inputs * targets).sum()                            \n",
    "        dice = (2.*intersection + smooth)/(inputs.sum() + targets.sum() + smooth)  \n",
    "        \n",
    "        return 1 - dice"
   ]
  },
  {
   "cell_type": "markdown",
   "id": "israeli-jerusalem",
   "metadata": {},
   "source": [
    "# The logistic regession function"
   ]
  },
  {
   "cell_type": "code",
   "execution_count": 20,
   "id": "subsequent-inclusion",
   "metadata": {},
   "outputs": [],
   "source": [
    "class LogisticRegression(nn.Module):\n",
    "    def __init__(self, input_dim, output_dim):\n",
    "        super(LogisticRegression, self).__init__()\n",
    "        self.linear = nn.Linear(input_dim, output_dim)\n",
    "        self.final_activation = nn.Sigmoid()\n",
    "\n",
    "    def forward(self, x):\n",
    "        out = self.linear(x)\n",
    "        #out = self.final_activation(out)\n",
    "        return out"
   ]
  },
  {
   "cell_type": "markdown",
   "id": "solved-caribbean",
   "metadata": {},
   "source": [
    "# Unbalanced classes"
   ]
  },
  {
   "cell_type": "code",
   "execution_count": 21,
   "id": "advisory-accuracy",
   "metadata": {},
   "outputs": [],
   "source": [
    "def compute_weight_class(labels):\n",
    "    unique, counts = np.unique(np.argmax(labels.numpy(), axis=1), return_counts=True)\n",
    "    class_weights = torch.tensor([(class_counts / labels.shape[0]) for class_counts in counts],dtype=torch.float32)\n",
    "    return class_weights"
   ]
  },
  {
   "cell_type": "markdown",
   "id": "smooth-appearance",
   "metadata": {},
   "source": [
    "# Min max compute"
   ]
  },
  {
   "cell_type": "code",
   "execution_count": 22,
   "id": "regular-decision",
   "metadata": {},
   "outputs": [],
   "source": [
    "def compute_min_max(data_path, first_col_index=1, last_col_index=23):\n",
    "    data = np.loadtxt(data_path, delimiter=\",\", dtype=np.float32, skiprows=1)[:, first_col_index:last_col_index]\n",
    "    return np.stack((data.min(axis=0), data.max(axis=0)))"
   ]
  },
  {
   "cell_type": "markdown",
   "id": "fatty-academy",
   "metadata": {},
   "source": [
    "# Prepare the data"
   ]
  },
  {
   "cell_type": "code",
   "execution_count": 23,
   "id": "musical-maple",
   "metadata": {},
   "outputs": [],
   "source": [
    "TEST_SPLIT = 0.2\n",
    "VALIDATION_SPLIT = 0.21\n",
    "TRAIN_SPLIT = 1 - TEST_SPLIT - VALIDATION_SPLIT"
   ]
  },
  {
   "cell_type": "markdown",
   "id": "confident-raleigh",
   "metadata": {},
   "source": [
    "# Data verification"
   ]
  },
  {
   "cell_type": "code",
   "execution_count": 24,
   "id": "patient-greenhouse",
   "metadata": {},
   "outputs": [],
   "source": [
    "heart_dataset = HeartDeseaseDataset(data_path, any_disease=False)\n",
    "train_dataloader_verif, val_dataloader_verif, test_dataloader_verif = create_dataloaders(heart_dataset, batch_size=1)"
   ]
  },
  {
   "cell_type": "code",
   "execution_count": 25,
   "id": "young-appliance",
   "metadata": {},
   "outputs": [
    {
     "name": "stdout",
     "output_type": "stream",
     "text": [
      "input ==>\n",
      " tensor([[1.0000, 0.1935, 0.6531, 0.2749, 0.4583, 0.0000, 0.0000, 0.2178, 0.0000,\n",
      "         0.0000, 0.1366, 0.0820, 1.0000, 0.0000, 0.0000, 0.0000, 0.0000, 1.0000,\n",
      "         0.8896, 1.0000, 0.1229, 0.2532]])\n",
      "label ==>\n",
      " tensor([[0., 1.]])\n"
     ]
    }
   ],
   "source": [
    "participant = next(iter(train_dataloader_verif))\n",
    "print('input ==>\\n', participant[0])\n",
    "print('label ==>\\n', participant[1])"
   ]
  },
  {
   "cell_type": "markdown",
   "id": "alive-composite",
   "metadata": {},
   "source": [
    "# function a ranger"
   ]
  },
  {
   "cell_type": "code",
   "execution_count": 26,
   "id": "possible-lexington",
   "metadata": {},
   "outputs": [],
   "source": [
    "def prediction_analyse(dataloader, trainer):\n",
    "    accuracy = trainer.evaluate(dataloader, display=False)\n",
    "    print(\"accuracy\", accuracy)\n",
    "    \n",
    "    all_predictions = np.array([])\n",
    "    all_labels = np.array([])\n",
    "    \n",
    "    for i, (inputs, labels) in enumerate(dataloader):\n",
    "        pred = trainer.model(inputs)\n",
    "        pred = np.where(pred[0].detach().numpy() < 0., 0, 1)\n",
    "        pred = np.argmax(pred)\n",
    "        \n",
    "        label = np.argmax(labels[0].detach().numpy())\n",
    "\n",
    "        all_predictions = np.append(all_predictions, pred)\n",
    "        all_labels = np.append(all_labels, label)\n",
    "\n",
    "    cm = confusion_matrix(all_labels, all_predictions)\n",
    "\n",
    "\n",
    "    display = ConfusionMatrixDisplay(confusion_matrix=cm)\n",
    "    display.plot()\n",
    "    plt.show()\n",
    "\n",
    "    TP = cm[1,1] # true positive \n",
    "    TN = cm[0,0] # true negatives\n",
    "    FP = cm[0,1] # false positives\n",
    "    FN = cm[1,0] # false negatif\n",
    "\n",
    "    sensitivity = TP / (TP + FN)\n",
    "    specificity = TN / (TN + FP)\n",
    "    #positive predictive value\n",
    "    PPV = TP / (TP + FP)\n",
    "    #negative predictive value\n",
    "    NPV = TN / (TN + FN)\n",
    "\n",
    "\n",
    "    print(f'sensitivity : {sensitivity}, specificity : {specificity}, PPV : {PPV}, NPV : {NPV}')\n",
    "    return accuracy"
   ]
  },
  {
   "cell_type": "code",
   "execution_count": 27,
   "id": "minus-protest",
   "metadata": {},
   "outputs": [],
   "source": [
    "def prediction_analyse_labels(columns_names, trainers, batch_size=1):\n",
    "    accuracies = {}\n",
    "    \n",
    "    for i, column in enumerate(df.iloc[:, 23: 31].columns):\n",
    "        \n",
    "        if not column in columns_names:\n",
    "            continue\n",
    "            \n",
    "        for trainer in trainers:\n",
    "            if column == trainer.label_name:\n",
    "                dataset = HeartDeseaseDataset(data_path, any_disease=False, label_indexes=[23 + i, 24 + i])\n",
    "                _, _, test_dataloader = create_dataloaders(dataset, batch_size=batch_size)\n",
    "            \n",
    "                accuracies[column] = prediction_analyse(test_dataloader, trainer)\n",
    "                print(\"\\n\\n\")\n",
    "                break\n",
    "    return accuracies"
   ]
  },
  {
   "cell_type": "code",
   "execution_count": 28,
   "id": "exposed-webmaster",
   "metadata": {},
   "outputs": [],
   "source": [
    "def save_accuracies_pkl(pkl_filepath, accuracies):\n",
    "    accuracies_file = open(pkl_filepath, \"wb\")\n",
    "    pickle.dump(accuracies, accuracies_file)\n",
    "    accuracies_file.close()"
   ]
  },
  {
   "cell_type": "markdown",
   "id": "analyzed-reflection",
   "metadata": {},
   "source": [
    "# Train"
   ]
  },
  {
   "cell_type": "code",
   "execution_count": 29,
   "id": "portuguese-proportion",
   "metadata": {},
   "outputs": [],
   "source": [
    "def train_labels(columns_names, data_path, nb_epochs=3, batch_size=1, display_history=True):\n",
    "    trainers = []\n",
    "\n",
    "    for i, column in enumerate(df.iloc[:, 23: 31].columns):\n",
    "        if not column in columns_names:\n",
    "            continue\n",
    "\n",
    "        dataset = HeartDeseaseDataset(data_path, any_disease=False, label_indexes=[23 + i, 24 + i])\n",
    "        train_dataloader, val_dataloader, test_dataloader = create_dataloaders(dataset, batch_size)\n",
    "\n",
    "        model = LogisticRegression(22,2)\n",
    "        \n",
    "        trainer = Trainer(model, dataset.class_weights, loss='BCElogits', lr=0.05, label_name=column)\n",
    "        trainer.fit(train_dataloader, val_dataloader, nb_epochs=nb_epochs)\n",
    "        trainers.append(trainer)\n",
    "        \n",
    "        if display_history:\n",
    "            trainer.display_history()\n",
    "\n",
    "        print(\"\\n\\n\")\n",
    "    return trainers"
   ]
  },
  {
   "cell_type": "code",
   "execution_count": 30,
   "id": "numerical-honey",
   "metadata": {
    "scrolled": true
   },
   "outputs": [
    {
     "name": "stdout",
     "output_type": "stream",
     "text": [
      "==== Training DEATH ====\n",
      "\n",
      "Epoch 1 / 2\n",
      "6860/6860 [==============================] - 8s 1ms/step - loss: 0.2887 - acc: 0.7008 - lr: 0.0500\n",
      "Validation\n",
      "2442/2442 [==============================] - 2s 968us/step - loss: 0.2680 - acc: 0.7590 - lr: 0.0500\n",
      "Model saved. Acc updated: -inf -> 0.759\n",
      "Epoch 2 / 2\n",
      "6860/6860 [==============================] - 8s 1ms/step - loss: 0.2549 - acc: 0.7550 - lr: 0.0500\n",
      "Validation\n",
      "2442/2442 [==============================] - 2s 934us/step - loss: 0.0490 - acc: 0.7639 - lr: 0.05000s - loss: 0.0490 - acc: 0.7640 - lr: \n",
      "Model saved. Acc updated: 0.759 -> 0.763\n"
     ]
    },
    {
     "data": {
      "image/png": "[encoded data removed]",
      "text/plain": [
       "<Figure size 432x432 with 1 Axes>"
      ]
     },
     "metadata": {
      "needs_background": "light"
     },
     "output_type": "display_data"
    },
    {
     "name": "stdout",
     "output_type": "stream",
     "text": [
      "\n",
      "\n",
      "\n",
      "==== Training ANGINA ====\n",
      "\n",
      "Epoch 1 / 2\n",
      "6860/6860 [==============================] - 8s 1ms/step - loss: 0.2040 - acc: 0.8362 - lr: 0.0500\n",
      "Validation\n",
      "2442/2442 [==============================] - 2s 913us/step - loss: 0.0652 - acc: 0.8835 - lr: 0.0500\n",
      "Model saved. Acc updated: -inf -> 0.890\n",
      "Epoch 2 / 2\n",
      "6860/6860 [==============================] - 8s 1ms/step - loss: 0.1752 - acc: 0.8856 - lr: 0.0500\n",
      "Validation\n",
      "2442/2442 [==============================] - 2s 918us/step - loss: 0.0472 - acc: 0.8963 - lr: 0.0500\n",
      "Model saved. Acc updated: 0.890 -> 0.890\n"
     ]
    },
    {
     "data": {
      "image/png": "[encoded data removed]",
      "text/plain": [
       "<Figure size 432x432 with 1 Axes>"
      ]
     },
     "metadata": {
      "needs_background": "light"
     },
     "output_type": "display_data"
    },
    {
     "name": "stdout",
     "output_type": "stream",
     "text": [
      "\n",
      "\n",
      "\n",
      "==== Training HOSPMI ====\n",
      "\n",
      "Epoch 1 / 2\n",
      "6860/6860 [==============================] - 8s 1ms/step - loss: 0.1672 - acc: 0.8911 - lr: 0.0500\n",
      "Validation\n",
      "2442/2442 [==============================] - 2s 937us/step - loss: 0.0944 - acc: 0.8930 - lr: 0.0500\n",
      "Model saved. Acc updated: -inf -> 0.904\n",
      "Epoch 2 / 2\n",
      "6860/6860 [==============================] - 8s 1ms/step - loss: 0.1412 - acc: 0.9017 - lr: 0.0500\n",
      "Validation\n",
      "2442/2442 [==============================] - 2s 945us/step - loss: 0.0233 - acc: 0.9061 - lr: 0.0500\n",
      "Model saved. Acc updated: 0.904 -> 0.914\n"
     ]
    },
    {
     "data": {
      "image/png": "[encoded data removed]",
      "text/plain": [
       "<Figure size 432x432 with 1 Axes>"
      ]
     },
     "metadata": {
      "needs_background": "light"
     },
     "output_type": "display_data"
    },
    {
     "name": "stdout",
     "output_type": "stream",
     "text": [
      "\n",
      "\n",
      "\n",
      "==== Training MI_FCHD ====\n",
      "\n",
      "Epoch 1 / 2\n",
      "6860/6860 [==============================] - 8s 1ms/step - loss: 0.2095 - acc: 0.8473 - lr: 0.0500\n",
      "Validation\n",
      "2442/2442 [==============================] - 2s 946us/step - loss: 0.0782 - acc: 0.8695 - lr: 0.0500\n",
      "Model saved. Acc updated: -inf -> 0.869\n",
      "Epoch 2 / 2\n",
      "6860/6860 [==============================] - 8s 1ms/step - loss: 0.1878 - acc: 0.8596 - lr: 0.0500\n",
      "Validation\n",
      "2442/2442 [==============================] - 2s 944us/step - loss: 0.0302 - acc: 0.8729 - lr: 0.0500\n",
      "Model saved. Acc updated: 0.869 -> 0.871\n"
     ]
    },
    {
     "data": {
      "image/png": "[encoded data removed]",
      "text/plain": [
       "<Figure size 432x432 with 1 Axes>"
      ]
     },
     "metadata": {
      "needs_background": "light"
     },
     "output_type": "display_data"
    },
    {
     "name": "stdout",
     "output_type": "stream",
     "text": [
      "\n",
      "\n",
      "\n",
      "==== Training ANYCHD ====\n",
      "\n",
      "Epoch 1 / 2\n",
      "6860/6860 [==============================] - 10s 1ms/step - loss: 0.2710 - acc: 0.7499 - lr: 0.0500\n",
      "Validation\n",
      "2442/2442 [==============================] - 2s 954us/step - loss: 0.1002 - acc: 0.7954 - lr: 0.0500\n",
      "Model saved. Acc updated: -inf -> 0.805\n",
      "Epoch 2 / 2\n",
      "6860/6860 [==============================] - 8s 1ms/step - loss: 0.2283 - acc: 0.8031 - lr: 0.0500\n",
      "Validation\n",
      "2442/2442 [==============================] - 2s 922us/step - loss: 0.1327 - acc: 0.8048 - lr: 0.0500\n"
     ]
    },
    {
     "data": {
      "image/png": "[encoded data removed]",
      "text/plain": [
       "<Figure size 432x432 with 1 Axes>"
      ]
     },
     "metadata": {
      "needs_background": "light"
     },
     "output_type": "display_data"
    },
    {
     "name": "stdout",
     "output_type": "stream",
     "text": [
      "\n",
      "\n",
      "\n",
      "==== Training STROKE ====\n",
      "\n",
      "Epoch 1 / 2\n",
      "6860/6860 [==============================] - 8s 1ms/step - loss: 0.1672 - acc: 0.8922 - lr: 0.0500\n",
      "Validation\n",
      "2442/2442 [==============================] - 3s 1ms/step - loss: 0.0494 - acc: 0.9054 - lr: 0.0500\n",
      "Model saved. Acc updated: -inf -> 0.914\n",
      "Epoch 2 / 2\n",
      "6860/6860 [==============================] - 8s 1ms/step - loss: 0.1434 - acc: 0.8993 - lr: 0.0500\n",
      "Validation\n",
      "2442/2442 [==============================] - 2s 893us/step - loss: 0.0268 - acc: 0.9204 - lr: 0.0500\n",
      "Model saved. Acc updated: 0.914 -> 0.916\n"
     ]
    },
    {
     "data": {
      "image/png": "[encoded data removed]",
      "text/plain": [
       "<Figure size 432x432 with 1 Axes>"
      ]
     },
     "metadata": {
      "needs_background": "light"
     },
     "output_type": "display_data"
    },
    {
     "name": "stdout",
     "output_type": "stream",
     "text": [
      "\n",
      "\n",
      "\n",
      "==== Training CVD ====\n",
      "\n",
      "Epoch 1 / 2\n",
      "6860/6860 [==============================] - 8s 1ms/step - loss: 0.2683 - acc: 0.7402 - lr: 0.0500\n",
      "Validation\n",
      "2442/2442 [==============================] - 2s 896us/step - loss: 0.1195 - acc: 0.7914 - lr: 0.0500\n",
      "Model saved. Acc updated: -inf -> 0.784\n",
      "Epoch 2 / 2\n",
      "6860/6860 [==============================] - 8s 1ms/step - loss: 0.2373 - acc: 0.7890 - lr: 0.0500\n",
      "Validation\n",
      "2442/2442 [==============================] - 3s 1ms/step - loss: 1.0916 - acc: 0.8013 - lr: 0.0500\n",
      "Model saved. Acc updated: 0.784 -> 0.790\n"
     ]
    },
    {
     "data": {
      "image/png": "[encoded data removed]",
      "text/plain": [
       "<Figure size 432x432 with 1 Axes>"
      ]
     },
     "metadata": {
      "needs_background": "light"
     },
     "output_type": "display_data"
    },
    {
     "name": "stdout",
     "output_type": "stream",
     "text": [
      "\n",
      "\n",
      "\n",
      "==== Training HYPERTEN ====\n",
      "\n",
      "Epoch 1 / 2\n",
      "6860/6860 [==============================] - 9s 1ms/step - loss: 0.2241 - acc: 0.7550 - lr: 0.0500\n",
      "Validation\n",
      "2442/2442 [==============================] - 2s 930us/step - loss: 0.2947 - acc: 0.7769 - lr: 0.0500\n",
      "Model saved. Acc updated: -inf -> 0.772\n",
      "Epoch 2 / 2\n",
      "6860/6860 [==============================] - 9s 1ms/step - loss: 0.1773 - acc: 0.7989 - lr: 0.0500\n",
      "Validation\n",
      "2442/2442 [==============================] - 2s 966us/step - loss: 0.2411 - acc: 0.7968 - lr: 0.0500\n",
      "Model saved. Acc updated: 0.772 -> 0.797\n"
     ]
    },
    {
     "data": {
      "image/png": "[encoded data removed]",
      "text/plain": [
       "<Figure size 432x432 with 1 Axes>"
      ]
     },
     "metadata": {
      "needs_background": "light"
     },
     "output_type": "display_data"
    },
    {
     "name": "stdout",
     "output_type": "stream",
     "text": [
      "\n",
      "\n",
      "\n"
     ]
    }
   ],
   "source": [
    "trainers = train_labels(df.iloc[:, 23: 31].columns, data_path, 2)"
   ]
  },
  {
   "cell_type": "markdown",
   "id": "rental-fault",
   "metadata": {},
   "source": [
    "# Test"
   ]
  },
  {
   "cell_type": "code",
   "execution_count": 31,
   "id": "scenic-outdoors",
   "metadata": {},
   "outputs": [
    {
     "data": {
      "text/plain": [
       "Index(['DEATH', 'ANGINA', 'HOSPMI', 'MI_FCHD', 'ANYCHD', 'STROKE', 'CVD',\n",
       "       'HYPERTEN'],\n",
       "      dtype='object')"
      ]
     },
     "execution_count": 31,
     "metadata": {},
     "output_type": "execute_result"
    }
   ],
   "source": [
    "df.iloc[:, 23: 31].columns"
   ]
  },
  {
   "cell_type": "code",
   "execution_count": 32,
   "id": "surrounded-valuation",
   "metadata": {
    "scrolled": true
   },
   "outputs": [
    {
     "name": "stdout",
     "output_type": "stream",
     "text": [
      "==== Evaluate DEATH ====\n",
      "\n",
      "accuracy 77.84946236559139\n"
     ]
    },
    {
     "data": {
      "image/png": "[encoded data removed]",
      "text/plain": [
       "<Figure size 432x288 with 2 Axes>"
      ]
     },
     "metadata": {
      "needs_background": "light"
     },
     "output_type": "display_data"
    },
    {
     "name": "stdout",
     "output_type": "stream",
     "text": [
      "sensitivity : 0.3686567164179104, specificity : 0.9407854984894259, PPV : 0.7159420289855073, NPV : 0.7863636363636364\n",
      "\n",
      "\n",
      "\n",
      "==== Evaluate ANGINA ====\n",
      "\n",
      "accuracy 88.04301075268818\n"
     ]
    },
    {
     "data": {
      "image/png": "[encoded data removed]",
      "text/plain": [
       "<Figure size 432x288 with 2 Axes>"
      ]
     },
     "metadata": {
      "needs_background": "light"
     },
     "output_type": "display_data"
    },
    {
     "name": "stdout",
     "output_type": "stream",
     "text": [
      "sensitivity : 0.2994791666666667, specificity : 0.9989696032972695, PPV : 0.9829059829059829, NPV : 0.8781702898550725\n",
      "\n",
      "\n",
      "\n",
      "==== Evaluate HOSPMI ====\n",
      "\n",
      "accuracy 92.12903225806451\n"
     ]
    },
    {
     "data": {
      "image/png": "[encoded data removed]",
      "text/plain": [
       "<Figure size 432x288 with 2 Axes>"
      ]
     },
     "metadata": {
      "needs_background": "light"
     },
     "output_type": "display_data"
    },
    {
     "name": "stdout",
     "output_type": "stream",
     "text": [
      "sensitivity : 0.004761904761904762, specificity : 1.0, PPV : 1.0, NPV : 0.9100688468158348\n",
      "\n",
      "\n",
      "\n",
      "==== Evaluate MI_FCHD ====\n",
      "\n",
      "accuracy 88.04301075268818\n"
     ]
    },
    {
     "data": {
      "image/png": "[encoded data removed]",
      "text/plain": [
       "<Figure size 432x288 with 2 Axes>"
      ]
     },
     "metadata": {
      "needs_background": "light"
     },
     "output_type": "display_data"
    },
    {
     "name": "stdout",
     "output_type": "stream",
     "text": [
      "sensitivity : 0.13271604938271606, specificity : 0.9950024987506247, PPV : 0.8113207547169812, NPV : 0.8763204225352113\n",
      "\n",
      "\n",
      "\n",
      "==== Evaluate ANYCHD ====\n",
      "\n",
      "accuracy 79.78494623655914\n"
     ]
    },
    {
     "data": {
      "image/png": "[encoded data removed]",
      "text/plain": [
       "<Figure size 432x288 with 2 Axes>"
      ]
     },
     "metadata": {
      "needs_background": "light"
     },
     "output_type": "display_data"
    },
    {
     "name": "stdout",
     "output_type": "stream",
     "text": [
      "sensitivity : 0.2848, specificity : 0.9894117647058823, PPV : 0.9081632653061225, NPV : 0.7900422733677783\n",
      "\n",
      "\n",
      "\n",
      "==== Evaluate STROKE ====\n",
      "\n",
      "accuracy 91.01075268817205\n"
     ]
    },
    {
     "data": {
      "image/png": "[encoded data removed]",
      "text/plain": [
       "<Figure size 432x288 with 2 Axes>"
      ]
     },
     "metadata": {
      "needs_background": "light"
     },
     "output_type": "display_data"
    },
    {
     "name": "stdout",
     "output_type": "stream",
     "text": [
      "sensitivity : 0.0, specificity : 1.0, PPV : nan, NPV : 0.9088172043010753\n",
      "\n",
      "\n",
      "\n",
      "==== Evaluate CVD ====\n",
      "\n"
     ]
    },
    {
     "name": "stderr",
     "output_type": "stream",
     "text": [
      "<ipython-input-26-0ea47c1cdf41>:33: RuntimeWarning: invalid value encountered in long_scalars\n",
      "  PPV = TP / (TP + FP)\n"
     ]
    },
    {
     "name": "stdout",
     "output_type": "stream",
     "text": [
      "accuracy 80.21505376344086\n"
     ]
    },
    {
     "data": {
      "image/png": "[encoded data removed]",
      "text/plain": [
       "<Figure size 432x288 with 2 Axes>"
      ]
     },
     "metadata": {
      "needs_background": "light"
     },
     "output_type": "display_data"
    },
    {
     "name": "stdout",
     "output_type": "stream",
     "text": [
      "sensitivity : 0.25045372050816694, specificity : 0.9689966178128523, PPV : 0.7150259067357513, NPV : 0.8062851782363978\n",
      "\n",
      "\n",
      "\n",
      "==== Evaluate HYPERTEN ====\n",
      "\n",
      "accuracy 80.51612903225806\n"
     ]
    },
    {
     "data": {
      "image/png": "[encoded data removed]",
      "text/plain": [
       "<Figure size 432x288 with 2 Axes>"
      ]
     },
     "metadata": {
      "needs_background": "light"
     },
     "output_type": "display_data"
    },
    {
     "name": "stdout",
     "output_type": "stream",
     "text": [
      "sensitivity : 0.8833044482957828, specificity : 0.6111111111111112, PPV : 0.86875, NPV : 0.6424778761061947\n",
      "\n",
      "\n",
      "\n"
     ]
    }
   ],
   "source": [
    "accuracies = prediction_analyse_labels(df.iloc[:, 23: 31].columns, trainers, )"
   ]
  },
  {
   "cell_type": "code",
   "execution_count": 33,
   "id": "covered-generation",
   "metadata": {},
   "outputs": [],
   "source": [
    "save_accuracies_pkl(accuracies_file_path, accuracies)"
   ]
  }
 ],
 "metadata": {
  "kernelspec": {
   "display_name": "Python 3",
   "language": "python",
   "name": "python3"
  },
  "language_info": {
   "codemirror_mode": {
    "name": "ipython",
    "version": 3
   },
   "file_extension": ".py",
   "mimetype": "text/x-python",
   "name": "python",
   "nbconvert_exporter": "python",
   "pygments_lexer": "ipython3",
   "version": "3.9.6"
  }
 },
 "nbformat": 4,
 "nbformat_minor": 5
}
