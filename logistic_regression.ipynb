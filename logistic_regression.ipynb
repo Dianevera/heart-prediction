{
 "cells": [
  {
   "cell_type": "code",
   "execution_count": 1,
   "id": "judicial-enclosure",
   "metadata": {},
   "outputs": [],
   "source": [
    "import pandas as pd\n",
    "import numpy as np"
   ]
  },
  {
   "cell_type": "code",
   "execution_count": 2,
   "id": "synthetic-patent",
   "metadata": {
    "scrolled": true
   },
   "outputs": [],
   "source": [
    "import torch\n",
    "from torch import nn\n",
    "from torch.utils.data import Dataset, DataLoader\n",
    "from torch.autograd import Variable"
   ]
  },
  {
   "cell_type": "code",
   "execution_count": 3,
   "id": "lined-statement",
   "metadata": {},
   "outputs": [
    {
     "name": "stdout",
     "output_type": "stream",
     "text": [
      "INFO:tensorflow:Enabling eager execution\n",
      "INFO:tensorflow:Enabling v2 tensorshape\n",
      "INFO:tensorflow:Enabling resource variables\n",
      "INFO:tensorflow:Enabling tensor equality\n",
      "INFO:tensorflow:Enabling control flow v2\n"
     ]
    }
   ],
   "source": [
    "import tensorflow as tf"
   ]
  },
  {
   "cell_type": "code",
   "execution_count": 4,
   "id": "coral-sympathy",
   "metadata": {},
   "outputs": [],
   "source": [
    "from sklearn.model_selection import train_test_split"
   ]
  },
  {
   "cell_type": "code",
   "execution_count": 5,
   "id": "cleared-trance",
   "metadata": {},
   "outputs": [],
   "source": [
    "import matplotlib.pyplot as plt"
   ]
  },
  {
   "cell_type": "markdown",
   "id": "ongoing-sessions",
   "metadata": {},
   "source": [
    "# Data location"
   ]
  },
  {
   "cell_type": "code",
   "execution_count": 6,
   "id": "dutch-comparison",
   "metadata": {},
   "outputs": [],
   "source": [
    "data_path = \"data/clean_data.csv\""
   ]
  },
  {
   "cell_type": "markdown",
   "id": "martial-spanking",
   "metadata": {},
   "source": [
    "# Set seed"
   ]
  },
  {
   "cell_type": "code",
   "execution_count": 7,
   "id": "false-creature",
   "metadata": {},
   "outputs": [],
   "source": [
    "SEED = 42"
   ]
  },
  {
   "cell_type": "markdown",
   "id": "atmospheric-berry",
   "metadata": {},
   "source": [
    "# Load data"
   ]
  },
  {
   "cell_type": "code",
   "execution_count": 8,
   "id": "awful-suite",
   "metadata": {},
   "outputs": [],
   "source": [
    "df = pd.read_csv(data_path)"
   ]
  },
  {
   "cell_type": "code",
   "execution_count": 9,
   "id": "stuffed-congo",
   "metadata": {
    "scrolled": true
   },
   "outputs": [
    {
     "data": {
      "text/plain": [
       "(11627, 40)"
      ]
     },
     "execution_count": 9,
     "metadata": {},
     "output_type": "execute_result"
    }
   ],
   "source": [
    "df.shape"
   ]
  },
  {
   "cell_type": "code",
   "execution_count": 10,
   "id": "abroad-colonial",
   "metadata": {},
   "outputs": [
    {
     "data": {
      "text/plain": [
       "Index(['Unnamed: 0', 'RANDID', 'SEX', 'TOTCHOL', 'AGE', 'SYSBP', 'DIABP',\n",
       "       'CURSMOKE', 'CIGPDAY', 'BMI', 'DIABETES', 'BPMEDS', 'HEARTRTE',\n",
       "       'GLUCOSE', 'educ', 'PREVCHD', 'PREVAP', 'PREVMI', 'PREVSTRK', 'PREVHYP',\n",
       "       'TIME', 'PERIOD', 'HDLC', 'LDLC', 'DEATH', 'ANGINA', 'HOSPMI',\n",
       "       'MI_FCHD', 'ANYCHD', 'STROKE', 'CVD', 'HYPERTEN', 'TIMEAP', 'TIMEMI',\n",
       "       'TIMEMIFC', 'TIMECHD', 'TIMESTRK', 'TIMECVD', 'TIMEDTH', 'TIMEHYP'],\n",
       "      dtype='object')"
      ]
     },
     "execution_count": 10,
     "metadata": {},
     "output_type": "execute_result"
    }
   ],
   "source": [
    "df.columns"
   ]
  },
  {
   "cell_type": "code",
   "execution_count": 11,
   "id": "hearing-airfare",
   "metadata": {
    "scrolled": false
   },
   "outputs": [
    {
     "data": {
      "text/plain": [
       "Index(['SEX', 'TOTCHOL', 'AGE', 'SYSBP', 'DIABP', 'CURSMOKE', 'CIGPDAY', 'BMI',\n",
       "       'DIABETES', 'BPMEDS', 'HEARTRTE', 'GLUCOSE', 'educ', 'PREVCHD',\n",
       "       'PREVAP', 'PREVMI', 'PREVSTRK', 'PREVHYP', 'TIME', 'PERIOD', 'HDLC',\n",
       "       'LDLC'],\n",
       "      dtype='object')"
      ]
     },
     "execution_count": 11,
     "metadata": {},
     "output_type": "execute_result"
    }
   ],
   "source": [
    "df.iloc[:, 2: 24].columns"
   ]
  },
  {
   "cell_type": "code",
   "execution_count": 12,
   "id": "sunrise-sunday",
   "metadata": {},
   "outputs": [
    {
     "data": {
      "text/plain": [
       "Index(['DEATH', 'ANGINA', 'HOSPMI', 'MI_FCHD', 'ANYCHD', 'STROKE', 'CVD',\n",
       "       'HYPERTEN'],\n",
       "      dtype='object')"
      ]
     },
     "execution_count": 12,
     "metadata": {},
     "output_type": "execute_result"
    }
   ],
   "source": [
    "df.iloc[:, 24: 32].columns"
   ]
  },
  {
   "cell_type": "code",
   "execution_count": 13,
   "id": "related-kelly",
   "metadata": {},
   "outputs": [
    {
     "name": "stdout",
     "output_type": "stream",
     "text": [
      "22 8\n"
     ]
    }
   ],
   "source": [
    "print(df.iloc[:, 2: 24].shape[1], df.iloc[:, 24: 32].shape[1])"
   ]
  },
  {
   "cell_type": "code",
   "execution_count": 14,
   "id": "patient-trance",
   "metadata": {},
   "outputs": [
    {
     "data": {
      "image/png": "[encoded data removed]",
      "text/plain": [
       "<Figure size 432x288 with 1 Axes>"
      ]
     },
     "metadata": {
      "needs_background": "light"
     },
     "output_type": "display_data"
    }
   ],
   "source": [
    "data = np.loadtxt(data_path, delimiter=\",\", dtype=np.float32, skiprows=1)\n",
    "amax_label = np.amax(data[:, 24:32], axis=1)\n",
    "hist,bins = np.histogram(amax_label) \n",
    "\n",
    "plt.hist(amax_label, bins = bins) \n",
    "plt.title(\"any disease\") \n",
    "plt.show()"
   ]
  },
  {
   "cell_type": "markdown",
   "id": "instant-process",
   "metadata": {},
   "source": [
    "# DataSet"
   ]
  },
  {
   "cell_type": "code",
   "execution_count": 15,
   "id": "rotary-classic",
   "metadata": {},
   "outputs": [],
   "source": [
    "class HeatDeseaseDataset(Dataset): \n",
    "    \n",
    "    def __init__(self, path, any_disease=False):\n",
    "        \n",
    "        self.data = np.loadtxt(path, delimiter=\",\", dtype=np.float32, skiprows=1)\n",
    "        self.x = torch.from_numpy(self.data[:, 2:24])\n",
    "        if any_disease:\n",
    "            self.y = torch.from_numpy(np.amax(self.data[:, 24:32], axis=1))\n",
    "        else:\n",
    "            self.y = torch.from_numpy(self.data[:, 24:32])\n",
    "        \n",
    "        self.len = len(self.data)\n",
    "\n",
    "    def __len__(self):\n",
    "        return self.len\n",
    "    \n",
    "    def __getitem__(self, idx):\n",
    "        return self.x[idx], self.y[idx]#, self.original[idx]"
   ]
  },
  {
   "cell_type": "markdown",
   "id": "boring-picture",
   "metadata": {},
   "source": [
    "# DataLoader"
   ]
  },
  {
   "cell_type": "code",
   "execution_count": 16,
   "id": "representative-japan",
   "metadata": {},
   "outputs": [],
   "source": [
    "def create_dataloaders(dataset, batch_size):\n",
    "    lengths = [round(len(dataset) * split) for split in [TRAIN_SPLIT, VALIDATION_SPLIT, TEST_SPLIT]]\n",
    "    \n",
    "    train_dataset, val_dataset, test_dataset = torch.utils.data.random_split(dataset, lengths=lengths, generator=torch.Generator().manual_seed(SEED))\n",
    "    \n",
    "    train_dataloader = torch.utils.data.DataLoader(\n",
    "        train_dataset,\n",
    "        batch_size=batch_size,\n",
    "        shuffle=True,\n",
    "        num_workers=4,\n",
    "        prefetch_factor=2,\n",
    "        persistent_workers=False,\n",
    "        pin_memory=True\n",
    "    )\n",
    "\n",
    "    val_dataloader = torch.utils.data.DataLoader(\n",
    "        val_dataset,\n",
    "        batch_size=batch_size,\n",
    "        shuffle=True,\n",
    "        num_workers=4,\n",
    "        prefetch_factor=2,\n",
    "        persistent_workers=False,\n",
    "        pin_memory=True\n",
    "    )\n",
    "\n",
    "    test_dataloader = torch.utils.data.DataLoader(\n",
    "        test_dataset,\n",
    "        batch_size=1,\n",
    "        shuffle=True,\n",
    "        num_workers=4,\n",
    "        prefetch_factor=2,\n",
    "        persistent_workers=False,\n",
    "        pin_memory=True\n",
    "    )\n",
    "    \n",
    "    print(f'Total dataset: {len(train_dataloader) + len(val_dataloader) + len(test_dataloader)}, '\n",
    "            f'train dataset: {len(train_dataloader)}, val dataset: {len(val_dataloader)}, test_dataset: {len(test_dataloader)}')\n",
    "    return train_dataloader, val_dataloader, test_dataloader"
   ]
  },
  {
   "cell_type": "markdown",
   "id": "western-ensemble",
   "metadata": {},
   "source": [
    "# Accuracy"
   ]
  },
  {
   "cell_type": "code",
   "execution_count": 17,
   "id": "daily-mouth",
   "metadata": {},
   "outputs": [],
   "source": [
    "def accuracy_multi_prediction(pred, label):\n",
    "    res = 0\n",
    "    nb_prediction = pred.shape[1]\n",
    "\n",
    "    for i in range(nb_prediction):\n",
    "        if pred[0][i].item() == label[0][i].item():\n",
    "            res += 1\n",
    "    return res / nb_prediction"
   ]
  },
  {
   "cell_type": "code",
   "execution_count": 18,
   "id": "correct-attention",
   "metadata": {},
   "outputs": [],
   "source": [
    "def accuracy(pred, label):\n",
    "    if pred[0].item() == label[0].item():\n",
    "            return 1\n",
    "    return 0"
   ]
  },
  {
   "cell_type": "markdown",
   "id": "sized-bachelor",
   "metadata": {},
   "source": [
    "# Trainer"
   ]
  },
  {
   "cell_type": "code",
   "execution_count": 19,
   "id": "descending-float",
   "metadata": {},
   "outputs": [],
   "source": [
    "class Trainer:\n",
    "    def __init__(self, model, loss='dl', lr=0.1):\n",
    "        possible_loss = {'dl': DiceLoss(), 'nllloss': nn.NLLLoss(), 'cross':nn.CrossEntropyLoss()}\n",
    "        \n",
    "        self.model = model\n",
    "        \n",
    "        self.criterion = possible_loss[loss]\n",
    "        self.optimizer = torch.optim.SGD(model.parameters(), lr=lr)\n",
    "        self.scheduler = torch.optim.lr_scheduler.ReduceLROnPlateau(self.optimizer, mode='max', factor=0.4, patience=2, cooldown=2)\n",
    "        \n",
    "        self.history = {'lr': [], 'loss': [], 'val_loss': []}\n",
    "        self.max_val_loss = float('-inf')\n",
    "        \n",
    "    def fit(self, train_dataloader, val_dataloader, nb_epochs):\n",
    "        for epoch in range(nb_epochs):\n",
    "            print(f'Epoch {epoch} / {nb_epochs}')\n",
    "            train_loss = val_loss = 0.0\n",
    "            \n",
    "            self.model.train()\n",
    "            pbar = tf.keras.utils.Progbar(target=len(train_dataloader))\n",
    "            \n",
    "            for i, batch in enumerate(train_dataloader):\n",
    "                inputs, labels = batch\n",
    "\n",
    "                # Clear gradients w.r.t. parameters\n",
    "                self.optimizer.zero_grad()\n",
    "                \n",
    "                # Forward pass to get output/logits\n",
    "                outputs = self.model(inputs)\n",
    "\n",
    "                # Calculate Loss: softmax --> cross entropy loss\n",
    "                loss = self.criterion(outputs, labels)\n",
    "                train_loss += loss\n",
    "\n",
    "                # Getting gradients w.r.t. parameters\n",
    "                loss.backward()\n",
    "\n",
    "                pbar.update(i + 1, values=\n",
    "                            [\n",
    "                                (\"loss\", train_loss.item()/(i + 1)),\n",
    "                                (\"lr\", self.scheduler.optimizer.param_groups[0]['lr'])\n",
    "                            ])\n",
    "                \n",
    "                # Updating parameters\n",
    "                self.optimizer.step()\n",
    "                \n",
    "            \n",
    "            print('Validation')\n",
    "            \n",
    "            self.model.eval()\n",
    "            pbar = tf.keras.utils.Progbar(target=len(val_dataloader))\n",
    "            \n",
    "            with torch.no_grad():\n",
    "                for i, batch in enumerate(val_dataloader):\n",
    "                    inputs, labels = batch\n",
    "                    outputs = self.model(inputs)\n",
    "                    val_loss += loss\n",
    "                    pbar.update(i + 1, values=\n",
    "                            [\n",
    "                                (\"loss\", val_loss.item()/(i + 1)),\n",
    "                                (\"lr\", self.scheduler.optimizer.param_groups[0]['lr'])\n",
    "                            ])\n",
    "\n",
    "            train_loss = train_loss / len(train_dataloader)\n",
    "            val_loss = val_loss / len(val_dataloader)\n",
    "            lr = self.scheduler.optimizer.param_groups[0]['lr']\n",
    "            self.scheduler.step(val_loss)\n",
    "            \n",
    "            if val_loss > self.max_val_loss:\n",
    "                print(f'Model saved. Loss updated: {self.max_val_loss:.3f} -> {val_loss:.3f}')\n",
    "                self.max_val_loss = val_loss\n",
    "                torch.save(self.model.state_dict(), f'regression_logistice_{val_loss.item()}.pt')\n",
    "            \n",
    "    def evaluate(self, test_dataloader, accuracy_function):\n",
    "        correct = total_loss = total = 0.0\n",
    "        #iterator = 0\n",
    "        \n",
    "        with torch.no_grad():       \n",
    "            # Iterate through test dataset\n",
    "            for i, (inputs, labels) in enumerate(test_dataloader):\n",
    "\n",
    "                pred = self.model(inputs)\n",
    "\n",
    "                loss = self.criterion(pred, labels)\n",
    "                total_loss += loss\n",
    "                    \n",
    "                # Total correct predictions\n",
    "                correct += accuracy_function(pred, labels)\n",
    "                #iterator += 1\n",
    "\n",
    "            total_accuracy = 100 * correct / len(test_dataloader)\n",
    "\n",
    "            # Print Loss\n",
    "            print('Iteration: {}. Loss: {}. Accuracy: {}. total loss: {}.'.format(len(test_dataloader), loss.item(), total_accuracy, total_loss))\n",
    "     "
   ]
  },
  {
   "cell_type": "markdown",
   "id": "sharp-policy",
   "metadata": {},
   "source": [
    "# Loss"
   ]
  },
  {
   "cell_type": "code",
   "execution_count": 20,
   "id": "casual-blowing",
   "metadata": {},
   "outputs": [],
   "source": [
    "class DiceLoss(nn.Module):\n",
    "    def __init__(self, weight=None, size_average=True):\n",
    "        super(DiceLoss, self).__init__()\n",
    "\n",
    "    def forward(self, inputs, targets, smooth=1):\n",
    "        \n",
    "        #comment out if your model contains a sigmoid or equivalent activation layer\n",
    "        inputs = torch.sigmoid(inputs)       \n",
    "        \n",
    "        #flatten label and prediction tensors\n",
    "        inputs = inputs.view(-1)\n",
    "        targets = targets.view(-1)\n",
    "        \n",
    "        intersection = (inputs * targets).sum()                            \n",
    "        dice = (2.*intersection + smooth)/(inputs.sum() + targets.sum() + smooth)  \n",
    "        \n",
    "        return 1 - dice"
   ]
  },
  {
   "cell_type": "markdown",
   "id": "israeli-jerusalem",
   "metadata": {},
   "source": [
    "# The logistic regession function"
   ]
  },
  {
   "cell_type": "code",
   "execution_count": 21,
   "id": "subsequent-inclusion",
   "metadata": {},
   "outputs": [],
   "source": [
    "class LogisticRegression(nn.Module):\n",
    "    def __init__(self, input_dim, output_dim):\n",
    "        super(LogisticRegression, self).__init__()\n",
    "        self.linear = nn.Linear(input_dim, output_dim)\n",
    "        self.final_activation = nn.Sigmoid()\n",
    "\n",
    "    def forward(self, x):\n",
    "        out = self.linear(x)\n",
    "        out = self.final_activation(out)\n",
    "        return out"
   ]
  },
  {
   "cell_type": "markdown",
   "id": "fatty-academy",
   "metadata": {},
   "source": [
    "# Prepare the data"
   ]
  },
  {
   "cell_type": "code",
   "execution_count": 22,
   "id": "musical-maple",
   "metadata": {},
   "outputs": [],
   "source": [
    "TEST_SPLIT = 0.2\n",
    "VALIDATION_SPLIT = 0.21\n",
    "TRAIN_SPLIT = 1 - TEST_SPLIT - VALIDATION_SPLIT"
   ]
  },
  {
   "cell_type": "code",
   "execution_count": 23,
   "id": "shared-wilson",
   "metadata": {
    "scrolled": false
   },
   "outputs": [
    {
     "name": "stdout",
     "output_type": "stream",
     "text": [
      "Total dataset: 11627, train dataset: 6860, val dataset: 2442, test_dataset: 2325\n"
     ]
    }
   ],
   "source": [
    "batch_size = 1\n",
    "\n",
    "dataset = HeatDeseaseDataset(data_path, any_disease=False)\n",
    "train_dataloader, val_dataloader, test_dataloader = create_dataloaders(dataset, batch_size)"
   ]
  },
  {
   "cell_type": "markdown",
   "id": "confident-raleigh",
   "metadata": {},
   "source": [
    "# Data verification"
   ]
  },
  {
   "cell_type": "code",
   "execution_count": 24,
   "id": "young-appliance",
   "metadata": {},
   "outputs": [
    {
     "name": "stdout",
     "output_type": "stream",
     "text": [
      "input ==>\n",
      " tensor([[0.0000e+00, 2.2800e+02, 5.1000e+01, 1.3100e+02, 8.0000e+01, 0.0000e+00,\n",
      "         0.0000e+00, 2.7940e+01, 0.0000e+00, 0.0000e+00, 6.5000e+01, 7.5000e+01,\n",
      "         3.0000e+00, 0.0000e+00, 0.0000e+00, 0.0000e+00, 0.0000e+00, 0.0000e+00,\n",
      "         2.2800e+03, 2.0000e+00, 4.4000e+01, 1.8700e+02]])\n",
      "label ==>\n",
      " tensor([[0., 0., 0., 0., 0., 0., 0., 0.]])\n"
     ]
    }
   ],
   "source": [
    "participant = next(iter(train_dataloader))\n",
    "print('input ==>\\n', participant[0])\n",
    "print('label ==>\\n', participant[1])"
   ]
  },
  {
   "cell_type": "markdown",
   "id": "analyzed-reflection",
   "metadata": {},
   "source": [
    "# Train"
   ]
  },
  {
   "cell_type": "code",
   "execution_count": 25,
   "id": "cooperative-polish",
   "metadata": {},
   "outputs": [],
   "source": [
    "model = LogisticRegression(22,8)"
   ]
  },
  {
   "cell_type": "code",
   "execution_count": 26,
   "id": "collectible-basketball",
   "metadata": {},
   "outputs": [],
   "source": [
    "trainer = Trainer(model, loss='dl', lr=0.1)"
   ]
  },
  {
   "cell_type": "code",
   "execution_count": 27,
   "id": "arranged-choir",
   "metadata": {
    "scrolled": false
   },
   "outputs": [
    {
     "name": "stdout",
     "output_type": "stream",
     "text": [
      "Epoch 0 / 10\n",
      "6860/6860 [==============================] - 10s 1ms/step - loss: 0.6116 - lr: 0.1000\n",
      "Validation\n",
      "2442/2442 [==============================] - 2s 882us/step - loss: 0.7205 - lr: 0.1000\n",
      "Model saved. Loss updated: -inf -> 0.720\n",
      "Epoch 1 / 10\n",
      "6860/6860 [==============================] - 9s 1ms/step - loss: 0.6099 - lr: 0.1000\n",
      "Validation\n",
      "2442/2442 [==============================] - 2s 953us/step - loss: 0.7205 - lr: 0.1000\n",
      "Epoch 2 / 10\n",
      "6860/6860 [==============================] - 9s 1ms/step - loss: 0.6103 - lr: 0.1000\n",
      "Validation\n",
      "2442/2442 [==============================] - 2s 917us/step - loss: 0.3101 - lr: 0.1000\n",
      "Epoch 3 / 10\n",
      "6860/6860 [==============================] - 9s 1ms/step - loss: 0.6054 - lr: 0.1000\n",
      "Validation\n",
      "2442/2442 [==============================] - 2s 921us/step - loss: 0.7205 - lr: 0.1000\n",
      "Epoch 4 / 10\n",
      "6860/6860 [==============================] - 9s 1ms/step - loss: 0.6093 - lr: 0.0400\n",
      "Validation\n",
      "2442/2442 [==============================] - 2s 942us/step - loss: 0.4621 - lr: 0.0400\n",
      "Epoch 5 / 10\n",
      "6860/6860 [==============================] - 10s 1ms/step - loss: 0.6058 - lr: 0.0400\n",
      "Validation\n",
      "2442/2442 [==============================] - 2s 949us/step - loss: 0.7205 - lr: 0.0400\n",
      "Epoch 6 / 10\n",
      "6860/6860 [==============================] - 10s 1ms/step - loss: 0.6072 - lr: 0.0400\n",
      "Validation\n",
      "2442/2442 [==============================] - 2s 945us/step - loss: 0.7205 - lr: 0.0400\n",
      "Epoch 7 / 10\n",
      "6860/6860 [==============================] - 10s 1ms/step - loss: 0.6057 - lr: 0.0400\n",
      "Validation\n",
      "2442/2442 [==============================] - 2s 971us/step - loss: 0.2255 - lr: 0.0400\n",
      "Epoch 8 / 10\n",
      "6860/6860 [==============================] - 10s 1ms/step - loss: 0.6063 - lr: 0.0400\n",
      "Validation\n",
      "2442/2442 [==============================] - 2s 954us/step - loss: 0.6768 - lr: 0.0400\n",
      "Epoch 9 / 10\n",
      "6860/6860 [==============================] - 10s 1ms/step - loss: 0.6124 - lr: 0.0160\n",
      "Validation\n",
      "2442/2442 [==============================] - 3s 1ms/step - loss: 0.5126 - lr: 0.0160\n"
     ]
    }
   ],
   "source": [
    "trainer.fit(\n",
    "    train_dataloader,\n",
    "    val_dataloader,\n",
    "    nb_epochs=10\n",
    ") "
   ]
  },
  {
   "cell_type": "markdown",
   "id": "rental-fault",
   "metadata": {},
   "source": [
    "# Test"
   ]
  },
  {
   "cell_type": "code",
   "execution_count": 43,
   "id": "commercial-cement",
   "metadata": {},
   "outputs": [
    {
     "data": {
      "text/plain": [
       "OrderedDict([('linear.weight',\n",
       "              tensor([[ 0.1831,  0.1496, -0.1546, -0.1647,  0.0406, -0.1001,  0.1980, -0.0625,\n",
       "                        0.0810,  0.0430,  0.1321,  0.1623, -0.1760, -0.1212,  0.0022,  0.0566,\n",
       "                       -0.1007,  0.1496, -0.1830, -0.2013, -0.2109,  0.1417],\n",
       "                      [ 0.0648, -0.0225,  0.1108, -0.0578, -0.1714,  0.1243, -0.0385,  0.1886,\n",
       "                       -0.0513, -0.0153,  0.1407,  0.1122,  0.0259,  0.1070, -0.0678,  0.0040,\n",
       "                       -0.1454,  0.2005,  0.1366,  0.1368,  0.1434,  0.1434],\n",
       "                      [-0.0456,  0.2558,  0.1183,  0.2165, -0.0627, -0.1332, -0.2061, -0.0949,\n",
       "                       -0.0073,  0.1266,  0.1023, -0.2082,  0.1126, -0.1570,  0.0218,  0.0033,\n",
       "                       -0.1741,  0.0187,  0.0086,  0.1961,  0.0420, -0.0767],\n",
       "                      [ 0.0500,  0.3488,  0.0951, -0.0525, -0.1215,  0.1400, -0.1748, -0.0468,\n",
       "                        0.1045, -0.1133,  0.1354,  0.0501,  0.0005,  0.1354,  0.2035,  0.0636,\n",
       "                       -0.1929, -0.0044,  0.1697,  0.1133, -0.1531,  0.3718],\n",
       "                      [-0.1721,  0.2333, -0.1122,  0.2307, -0.0908,  0.0540,  0.0382,  0.2236,\n",
       "                        0.1187, -0.0670, -0.1329, -0.0361,  0.1546, -0.0773, -0.0354,  0.0669,\n",
       "                        0.1847,  0.1434, -0.1172, -0.0129, -0.0621,  0.0761],\n",
       "                      [-0.1455,  0.1059, -0.1316, -0.1685, -0.0396,  0.0640,  0.1221,  0.1385,\n",
       "                        0.0601, -0.1303,  0.1782,  0.0243,  0.1316, -0.2045, -0.0727,  0.1622,\n",
       "                       -0.1672, -0.1434,  0.1935,  0.0137,  0.0909,  0.1090],\n",
       "                      [ 0.0458,  0.2897,  0.0629, -0.0927, -0.0210,  0.1188, -0.0550, -0.0835,\n",
       "                       -0.1450, -0.0975, -0.1279,  0.0447,  0.0137,  0.0889,  0.2043, -0.2076,\n",
       "                        0.1503, -0.0579,  0.1587, -0.2083, -0.0801,  0.1986],\n",
       "                      [ 0.1130,  0.1439, -0.1298,  0.1631, -0.2078,  0.0291, -0.1686, -0.1893,\n",
       "                       -0.0463, -0.1188,  0.1042, -0.0978,  0.1331,  0.0740,  0.1774,  0.2105,\n",
       "                       -0.0930,  0.1232, -0.1859, -0.0848, -0.0959,  0.1176]])),\n",
       "             ('linear.bias',\n",
       "              tensor([-0.1292,  0.1378,  0.1877, -0.0451, -0.0261,  0.1737, -0.1085, -0.1505]))])"
      ]
     },
     "execution_count": 43,
     "metadata": {},
     "output_type": "execute_result"
    }
   ],
   "source": [
    "torch.load(f'regression_logistice_0.720467746257782.pt')"
   ]
  },
  {
   "cell_type": "code",
   "execution_count": 44,
   "id": "after-heart",
   "metadata": {
    "scrolled": true
   },
   "outputs": [
    {
     "name": "stdout",
     "output_type": "stream",
     "text": [
      "Iteration: 2325. Loss: 0.544615626335144. Accuracy: 28.059139784946236. total loss: 1429.2471923828125.\n"
     ]
    }
   ],
   "source": [
    "trainer.evaluate(test_dataloader, accuracy_multi_prediction)"
   ]
  },
  {
   "cell_type": "markdown",
   "id": "interim-woman",
   "metadata": {},
   "source": [
    "**Test on one participant**"
   ]
  },
  {
   "cell_type": "code",
   "execution_count": 47,
   "id": "white-riding",
   "metadata": {},
   "outputs": [
    {
     "data": {
      "text/plain": [
       "(tensor([[1.0000e+00, 1.0000e+00, 8.4246e-16, 1.0000e+00, 1.0000e+00, 1.0000e+00,\n",
       "          1.0000e+00, 1.0000e+00]], grad_fn=<SigmoidBackward0>),\n",
       " tensor([[1., 0., 0., 1., 1., 1., 1., 1.]]))"
      ]
     },
     "execution_count": 47,
     "metadata": {},
     "output_type": "execute_result"
    }
   ],
   "source": [
    "    for i, (inputs, labels) in enumerate(test_dataloader):\n",
    "        pred = model(inputs)\n",
    "        \n",
    "        if i ==1:\n",
    "            break\n",
    "    pred, labels"
   ]
  },
  {
   "cell_type": "code",
   "execution_count": 48,
   "id": "integral-catalyst",
   "metadata": {},
   "outputs": [
    {
     "name": "stdout",
     "output_type": "stream",
     "text": [
      "2325\n"
     ]
    }
   ],
   "source": [
    "print(len(test_dataloader))"
   ]
  },
  {
   "cell_type": "code",
   "execution_count": 36,
   "id": "popular-circulation",
   "metadata": {},
   "outputs": [],
   "source": [
    "# Confusion matrix \n",
    "from sklearn.metrics import ConfusionMatrixDisplay, confusion_matrix\n",
    "\n",
    "def prediction_analyse(dataloader):\n",
    "    all_predictions = np.array([])\n",
    "    all_labels = np.array([])\n",
    "    for i, (inputs, labels) in enumerate(dataloader):\n",
    "        pred = model(inputs)\n",
    "       # print(pred[0].detach().numpy(), \"label\", labels)\n",
    "        pred = np.where( pred[0].detach().numpy() < 0.5, 0, 1)\n",
    "        #print(pred)\n",
    "        all_predictions = np.append(all_predictions, pred)\n",
    "        all_labels = np.append(all_labels, labels[0].detach().numpy())\n",
    "\n",
    "    #\n",
    "    #print(all_predictions)\n",
    "    cm = confusion_matrix(all_labels, all_predictions)\n",
    "    #\n",
    "    #print(cm)\n",
    "\n",
    "    display = ConfusionMatrixDisplay(confusion_matrix=cm)#, display_labels=clf.classes_)\n",
    "    display.plot()\n",
    "    plt.show()\n",
    "\n",
    "    TP = cm[1,1] # true positive \n",
    "    TN = cm[0,0] # true negatives\n",
    "    FP = cm[0,1] # false positives\n",
    "    FN = cm[1,0] # false negatif\n",
    "\n",
    "    sensitivity = TP / (TP + FN)\n",
    "    specificity = TN / (TN + FP)\n",
    "    #positive predictive value\n",
    "    PPV = TP / (TP + FP)\n",
    "    #negative predictive value\n",
    "    NPV = TN / (TN + FN)\n",
    "\n",
    "\n",
    "    print(f'sensitivity : {sensitivity}, specificity : {specificity}, PPV : {PPV}, NPV : {NPV}')"
   ]
  },
  {
   "cell_type": "code",
   "execution_count": 49,
   "id": "alive-dutch",
   "metadata": {},
   "outputs": [
    {
     "data": {
      "image/png": "[encoded data removed]",
      "text/plain": [
       "<Figure size 432x288 with 2 Axes>"
      ]
     },
     "metadata": {
      "needs_background": "light"
     },
     "output_type": "display_data"
    },
    {
     "name": "stdout",
     "output_type": "stream",
     "text": [
      "sensitivity : 0.591459528362014, specificity : 0.23400273519038364, PPV : 0.2073588559511396, NPV : 0.6283339775802087\n"
     ]
    }
   ],
   "source": [
    "prediction_analyse(test_dataloader)"
   ]
  },
  {
   "cell_type": "code",
   "execution_count": null,
   "id": "blond-oliver",
   "metadata": {},
   "outputs": [],
   "source": []
  }
 ],
 "metadata": {
  "kernelspec": {
   "display_name": "Python 3",
   "language": "python",
   "name": "python3"
  },
  "language_info": {
   "codemirror_mode": {
    "name": "ipython",
    "version": 3
   },
   "file_extension": ".py",
   "mimetype": "text/x-python",
   "name": "python",
   "nbconvert_exporter": "python",
   "pygments_lexer": "ipython3",
   "version": "3.9.6"
  }
 },
 "nbformat": 4,
 "nbformat_minor": 5
}
