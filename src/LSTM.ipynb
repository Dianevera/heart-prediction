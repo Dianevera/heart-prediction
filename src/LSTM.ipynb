{
 "cells": [
  {
   "cell_type": "code",
   "execution_count": 1,
   "metadata": {},
   "outputs": [],
   "source": [
    "from heartpredictions.LSTM import *\n",
    "import os\n",
    "import pandas as pd\n",
    "import numpy as np\n",
    "import matplotlib.pyplot as plt"
   ]
  },
  {
   "cell_type": "markdown",
   "metadata": {},
   "source": [
    "# Data location"
   ]
  },
  {
   "cell_type": "code",
   "execution_count": 2,
   "metadata": {},
   "outputs": [],
   "source": [
    "data_path = \"../data/clean_data_LSTM.csv\"\n",
    "save_directory = os.path.join(os.path.join(\"current_accuracies\", \"LSTM\"), \"LSTM_weights\")\n",
    "accuracies_file_path = \"current_accuracies/LSTM/LSTM.pkl\""
   ]
  },
  {
   "cell_type": "code",
   "execution_count": 3,
   "metadata": {},
   "outputs": [],
   "source": [
    "if not os.path.isdir(save_directory):\n",
    "    os.mkdir(save_directory)"
   ]
  },
  {
   "cell_type": "markdown",
   "metadata": {},
   "source": [
    "# Load data"
   ]
  },
  {
   "cell_type": "code",
   "execution_count": 4,
   "metadata": {},
   "outputs": [],
   "source": [
    "df = pd.read_csv(data_path)"
   ]
  },
  {
   "cell_type": "code",
   "execution_count": 5,
   "metadata": {
    "scrolled": true
   },
   "outputs": [
    {
     "data": {
      "text/plain": [
       "(9618, 39)"
      ]
     },
     "execution_count": 5,
     "metadata": {},
     "output_type": "execute_result"
    }
   ],
   "source": [
    "df.shape"
   ]
  },
  {
   "cell_type": "code",
   "execution_count": 6,
   "metadata": {},
   "outputs": [
    {
     "data": {
      "text/plain": [
       "Index(['RANDID', 'SEX', 'TOTCHOL', 'AGE', 'SYSBP', 'DIABP', 'CURSMOKE',\n",
       "       'CIGPDAY', 'BMI', 'DIABETES', 'BPMEDS', 'HEARTRTE', 'GLUCOSE', 'educ',\n",
       "       'PREVCHD', 'PREVAP', 'PREVMI', 'PREVSTRK', 'PREVHYP', 'TIME', 'PERIOD',\n",
       "       'HDLC', 'LDLC', 'DEATH', 'ANGINA', 'HOSPMI', 'MI_FCHD', 'ANYCHD',\n",
       "       'STROKE', 'CVD', 'HYPERTEN', 'TIMEAP', 'TIMEMI', 'TIMEMIFC', 'TIMECHD',\n",
       "       'TIMESTRK', 'TIMECVD', 'TIMEDTH', 'TIMEHYP'],\n",
       "      dtype='object')"
      ]
     },
     "execution_count": 6,
     "metadata": {},
     "output_type": "execute_result"
    }
   ],
   "source": [
    "df.columns"
   ]
  },
  {
   "cell_type": "code",
   "execution_count": 7,
   "metadata": {
    "scrolled": false
   },
   "outputs": [
    {
     "data": {
      "text/plain": [
       "(Index(['SEX', 'TOTCHOL', 'AGE', 'SYSBP', 'DIABP', 'CURSMOKE', 'CIGPDAY', 'BMI',\n",
       "        'DIABETES', 'BPMEDS', 'HEARTRTE', 'GLUCOSE', 'educ', 'PREVCHD',\n",
       "        'PREVAP', 'PREVMI', 'PREVSTRK', 'PREVHYP', 'TIME', 'PERIOD', 'HDLC',\n",
       "        'LDLC'],\n",
       "       dtype='object'),\n",
       " Index(['DEATH', 'ANGINA', 'HOSPMI', 'MI_FCHD', 'ANYCHD', 'STROKE', 'CVD',\n",
       "        'HYPERTEN'],\n",
       "       dtype='object'))"
      ]
     },
     "execution_count": 7,
     "metadata": {},
     "output_type": "execute_result"
    }
   ],
   "source": [
    "df.iloc[:, 1: 23].columns, df.iloc[:, 23: 31].columns"
   ]
  },
  {
   "cell_type": "code",
   "execution_count": 8,
   "metadata": {
    "scrolled": true
   },
   "outputs": [
    {
     "name": "stdout",
     "output_type": "stream",
     "text": [
      "22 8\n"
     ]
    }
   ],
   "source": [
    "print(df.iloc[:, 1: 23].shape[1], df.iloc[:, 23: 31].shape[1])"
   ]
  },
  {
   "cell_type": "code",
   "execution_count": 9,
   "metadata": {
    "scrolled": false
   },
   "outputs": [
    {
     "data": {
      "image/png": "[encoded data removed]",
      "text/plain": [
       "<Figure size 432x288 with 1 Axes>"
      ]
     },
     "metadata": {
      "needs_background": "light"
     },
     "output_type": "display_data"
    }
   ],
   "source": [
    "data = np.loadtxt(data_path, delimiter=\",\", dtype=np.float32, skiprows=1)\n",
    "amax_label = np.amax(data[:, 23:31], axis=1)\n",
    "hist,bins = np.histogram(amax_label) \n",
    "\n",
    "plt.hist(amax_label, bins = bins) \n",
    "plt.title(\"any disease\") \n",
    "plt.show()"
   ]
  },
  {
   "cell_type": "code",
   "execution_count": 10,
   "metadata": {
    "scrolled": false
   },
   "outputs": [
    {
     "data": {
      "text/html": [
       "<div>\n",
       "<style scoped>\n",
       "    .dataframe tbody tr th:only-of-type {\n",
       "        vertical-align: middle;\n",
       "    }\n",
       "\n",
       "    .dataframe tbody tr th {\n",
       "        vertical-align: top;\n",
       "    }\n",
       "\n",
       "    .dataframe thead th {\n",
       "        text-align: right;\n",
       "    }\n",
       "</style>\n",
       "<table border=\"1\" class=\"dataframe\">\n",
       "  <thead>\n",
       "    <tr style=\"text-align: right;\">\n",
       "      <th></th>\n",
       "      <th>RANDID</th>\n",
       "      <th>SEX</th>\n",
       "      <th>TOTCHOL</th>\n",
       "      <th>AGE</th>\n",
       "      <th>SYSBP</th>\n",
       "      <th>DIABP</th>\n",
       "      <th>CURSMOKE</th>\n",
       "      <th>CIGPDAY</th>\n",
       "      <th>BMI</th>\n",
       "      <th>DIABETES</th>\n",
       "      <th>...</th>\n",
       "      <th>CVD</th>\n",
       "      <th>HYPERTEN</th>\n",
       "      <th>TIMEAP</th>\n",
       "      <th>TIMEMI</th>\n",
       "      <th>TIMEMIFC</th>\n",
       "      <th>TIMECHD</th>\n",
       "      <th>TIMESTRK</th>\n",
       "      <th>TIMECVD</th>\n",
       "      <th>TIMEDTH</th>\n",
       "      <th>TIMEHYP</th>\n",
       "    </tr>\n",
       "  </thead>\n",
       "  <tbody>\n",
       "    <tr>\n",
       "      <th>0</th>\n",
       "      <td>6238.0</td>\n",
       "      <td>0.0</td>\n",
       "      <td>250.0</td>\n",
       "      <td>46.0</td>\n",
       "      <td>121.0</td>\n",
       "      <td>81.0</td>\n",
       "      <td>0.0</td>\n",
       "      <td>0.0</td>\n",
       "      <td>28.73</td>\n",
       "      <td>0.0</td>\n",
       "      <td>...</td>\n",
       "      <td>0.0</td>\n",
       "      <td>0.0</td>\n",
       "      <td>8766.0</td>\n",
       "      <td>8766.0</td>\n",
       "      <td>8766.0</td>\n",
       "      <td>8766.0</td>\n",
       "      <td>8766.0</td>\n",
       "      <td>8766.0</td>\n",
       "      <td>8766.0</td>\n",
       "      <td>8766.0</td>\n",
       "    </tr>\n",
       "    <tr>\n",
       "      <th>1</th>\n",
       "      <td>6238.0</td>\n",
       "      <td>0.0</td>\n",
       "      <td>260.0</td>\n",
       "      <td>52.0</td>\n",
       "      <td>105.0</td>\n",
       "      <td>70.0</td>\n",
       "      <td>0.0</td>\n",
       "      <td>0.0</td>\n",
       "      <td>29.43</td>\n",
       "      <td>0.0</td>\n",
       "      <td>...</td>\n",
       "      <td>0.0</td>\n",
       "      <td>0.0</td>\n",
       "      <td>8766.0</td>\n",
       "      <td>8766.0</td>\n",
       "      <td>8766.0</td>\n",
       "      <td>8766.0</td>\n",
       "      <td>8766.0</td>\n",
       "      <td>8766.0</td>\n",
       "      <td>8766.0</td>\n",
       "      <td>8766.0</td>\n",
       "    </tr>\n",
       "    <tr>\n",
       "      <th>2</th>\n",
       "      <td>6238.0</td>\n",
       "      <td>0.0</td>\n",
       "      <td>237.0</td>\n",
       "      <td>58.0</td>\n",
       "      <td>108.0</td>\n",
       "      <td>66.0</td>\n",
       "      <td>0.0</td>\n",
       "      <td>0.0</td>\n",
       "      <td>28.50</td>\n",
       "      <td>0.0</td>\n",
       "      <td>...</td>\n",
       "      <td>0.0</td>\n",
       "      <td>0.0</td>\n",
       "      <td>8766.0</td>\n",
       "      <td>8766.0</td>\n",
       "      <td>8766.0</td>\n",
       "      <td>8766.0</td>\n",
       "      <td>8766.0</td>\n",
       "      <td>8766.0</td>\n",
       "      <td>8766.0</td>\n",
       "      <td>8766.0</td>\n",
       "    </tr>\n",
       "    <tr>\n",
       "      <th>3</th>\n",
       "      <td>11252.0</td>\n",
       "      <td>0.0</td>\n",
       "      <td>285.0</td>\n",
       "      <td>46.0</td>\n",
       "      <td>130.0</td>\n",
       "      <td>84.0</td>\n",
       "      <td>1.0</td>\n",
       "      <td>23.0</td>\n",
       "      <td>23.10</td>\n",
       "      <td>0.0</td>\n",
       "      <td>...</td>\n",
       "      <td>0.0</td>\n",
       "      <td>1.0</td>\n",
       "      <td>8766.0</td>\n",
       "      <td>8766.0</td>\n",
       "      <td>8766.0</td>\n",
       "      <td>8766.0</td>\n",
       "      <td>8766.0</td>\n",
       "      <td>8766.0</td>\n",
       "      <td>8766.0</td>\n",
       "      <td>4285.0</td>\n",
       "    </tr>\n",
       "    <tr>\n",
       "      <th>4</th>\n",
       "      <td>11252.0</td>\n",
       "      <td>0.0</td>\n",
       "      <td>343.0</td>\n",
       "      <td>51.0</td>\n",
       "      <td>109.0</td>\n",
       "      <td>77.0</td>\n",
       "      <td>1.0</td>\n",
       "      <td>30.0</td>\n",
       "      <td>23.48</td>\n",
       "      <td>0.0</td>\n",
       "      <td>...</td>\n",
       "      <td>0.0</td>\n",
       "      <td>1.0</td>\n",
       "      <td>8766.0</td>\n",
       "      <td>8766.0</td>\n",
       "      <td>8766.0</td>\n",
       "      <td>8766.0</td>\n",
       "      <td>8766.0</td>\n",
       "      <td>8766.0</td>\n",
       "      <td>8766.0</td>\n",
       "      <td>4285.0</td>\n",
       "    </tr>\n",
       "    <tr>\n",
       "      <th>...</th>\n",
       "      <td>...</td>\n",
       "      <td>...</td>\n",
       "      <td>...</td>\n",
       "      <td>...</td>\n",
       "      <td>...</td>\n",
       "      <td>...</td>\n",
       "      <td>...</td>\n",
       "      <td>...</td>\n",
       "      <td>...</td>\n",
       "      <td>...</td>\n",
       "      <td>...</td>\n",
       "      <td>...</td>\n",
       "      <td>...</td>\n",
       "      <td>...</td>\n",
       "      <td>...</td>\n",
       "      <td>...</td>\n",
       "      <td>...</td>\n",
       "      <td>...</td>\n",
       "      <td>...</td>\n",
       "      <td>...</td>\n",
       "      <td>...</td>\n",
       "    </tr>\n",
       "    <tr>\n",
       "      <th>9613</th>\n",
       "      <td>9998212.0</td>\n",
       "      <td>1.0</td>\n",
       "      <td>173.0</td>\n",
       "      <td>46.0</td>\n",
       "      <td>126.0</td>\n",
       "      <td>82.0</td>\n",
       "      <td>0.0</td>\n",
       "      <td>0.0</td>\n",
       "      <td>19.17</td>\n",
       "      <td>0.0</td>\n",
       "      <td>...</td>\n",
       "      <td>0.0</td>\n",
       "      <td>1.0</td>\n",
       "      <td>8766.0</td>\n",
       "      <td>8766.0</td>\n",
       "      <td>8766.0</td>\n",
       "      <td>8766.0</td>\n",
       "      <td>8766.0</td>\n",
       "      <td>8766.0</td>\n",
       "      <td>8766.0</td>\n",
       "      <td>0.0</td>\n",
       "    </tr>\n",
       "    <tr>\n",
       "      <th>9614</th>\n",
       "      <td>9998212.0</td>\n",
       "      <td>1.0</td>\n",
       "      <td>153.0</td>\n",
       "      <td>52.0</td>\n",
       "      <td>143.0</td>\n",
       "      <td>89.0</td>\n",
       "      <td>0.0</td>\n",
       "      <td>0.0</td>\n",
       "      <td>25.74</td>\n",
       "      <td>0.0</td>\n",
       "      <td>...</td>\n",
       "      <td>0.0</td>\n",
       "      <td>1.0</td>\n",
       "      <td>8766.0</td>\n",
       "      <td>8766.0</td>\n",
       "      <td>8766.0</td>\n",
       "      <td>8766.0</td>\n",
       "      <td>8766.0</td>\n",
       "      <td>8766.0</td>\n",
       "      <td>8766.0</td>\n",
       "      <td>0.0</td>\n",
       "    </tr>\n",
       "    <tr>\n",
       "      <th>9615</th>\n",
       "      <td>9999312.0</td>\n",
       "      <td>0.0</td>\n",
       "      <td>196.0</td>\n",
       "      <td>39.0</td>\n",
       "      <td>133.0</td>\n",
       "      <td>86.0</td>\n",
       "      <td>1.0</td>\n",
       "      <td>30.0</td>\n",
       "      <td>20.91</td>\n",
       "      <td>0.0</td>\n",
       "      <td>...</td>\n",
       "      <td>0.0</td>\n",
       "      <td>1.0</td>\n",
       "      <td>8766.0</td>\n",
       "      <td>8766.0</td>\n",
       "      <td>8766.0</td>\n",
       "      <td>8766.0</td>\n",
       "      <td>8766.0</td>\n",
       "      <td>8766.0</td>\n",
       "      <td>8766.0</td>\n",
       "      <td>4201.0</td>\n",
       "    </tr>\n",
       "    <tr>\n",
       "      <th>9616</th>\n",
       "      <td>9999312.0</td>\n",
       "      <td>0.0</td>\n",
       "      <td>240.0</td>\n",
       "      <td>46.0</td>\n",
       "      <td>138.0</td>\n",
       "      <td>79.0</td>\n",
       "      <td>1.0</td>\n",
       "      <td>20.0</td>\n",
       "      <td>26.39</td>\n",
       "      <td>0.0</td>\n",
       "      <td>...</td>\n",
       "      <td>0.0</td>\n",
       "      <td>1.0</td>\n",
       "      <td>8766.0</td>\n",
       "      <td>8766.0</td>\n",
       "      <td>8766.0</td>\n",
       "      <td>8766.0</td>\n",
       "      <td>8766.0</td>\n",
       "      <td>8766.0</td>\n",
       "      <td>8766.0</td>\n",
       "      <td>4201.0</td>\n",
       "    </tr>\n",
       "    <tr>\n",
       "      <th>9617</th>\n",
       "      <td>9999312.0</td>\n",
       "      <td>0.0</td>\n",
       "      <td>189.0</td>\n",
       "      <td>50.0</td>\n",
       "      <td>147.0</td>\n",
       "      <td>96.0</td>\n",
       "      <td>1.0</td>\n",
       "      <td>10.0</td>\n",
       "      <td>24.19</td>\n",
       "      <td>0.0</td>\n",
       "      <td>...</td>\n",
       "      <td>0.0</td>\n",
       "      <td>1.0</td>\n",
       "      <td>8766.0</td>\n",
       "      <td>8766.0</td>\n",
       "      <td>8766.0</td>\n",
       "      <td>8766.0</td>\n",
       "      <td>8766.0</td>\n",
       "      <td>8766.0</td>\n",
       "      <td>8766.0</td>\n",
       "      <td>4201.0</td>\n",
       "    </tr>\n",
       "  </tbody>\n",
       "</table>\n",
       "<p>9618 rows × 39 columns</p>\n",
       "</div>"
      ],
      "text/plain": [
       "         RANDID  SEX  TOTCHOL   AGE  SYSBP  DIABP  CURSMOKE  CIGPDAY    BMI  \\\n",
       "0        6238.0  0.0    250.0  46.0  121.0   81.0       0.0      0.0  28.73   \n",
       "1        6238.0  0.0    260.0  52.0  105.0   70.0       0.0      0.0  29.43   \n",
       "2        6238.0  0.0    237.0  58.0  108.0   66.0       0.0      0.0  28.50   \n",
       "3       11252.0  0.0    285.0  46.0  130.0   84.0       1.0     23.0  23.10   \n",
       "4       11252.0  0.0    343.0  51.0  109.0   77.0       1.0     30.0  23.48   \n",
       "...         ...  ...      ...   ...    ...    ...       ...      ...    ...   \n",
       "9613  9998212.0  1.0    173.0  46.0  126.0   82.0       0.0      0.0  19.17   \n",
       "9614  9998212.0  1.0    153.0  52.0  143.0   89.0       0.0      0.0  25.74   \n",
       "9615  9999312.0  0.0    196.0  39.0  133.0   86.0       1.0     30.0  20.91   \n",
       "9616  9999312.0  0.0    240.0  46.0  138.0   79.0       1.0     20.0  26.39   \n",
       "9617  9999312.0  0.0    189.0  50.0  147.0   96.0       1.0     10.0  24.19   \n",
       "\n",
       "      DIABETES  ...  CVD  HYPERTEN  TIMEAP  TIMEMI  TIMEMIFC  TIMECHD  \\\n",
       "0          0.0  ...  0.0       0.0  8766.0  8766.0    8766.0   8766.0   \n",
       "1          0.0  ...  0.0       0.0  8766.0  8766.0    8766.0   8766.0   \n",
       "2          0.0  ...  0.0       0.0  8766.0  8766.0    8766.0   8766.0   \n",
       "3          0.0  ...  0.0       1.0  8766.0  8766.0    8766.0   8766.0   \n",
       "4          0.0  ...  0.0       1.0  8766.0  8766.0    8766.0   8766.0   \n",
       "...        ...  ...  ...       ...     ...     ...       ...      ...   \n",
       "9613       0.0  ...  0.0       1.0  8766.0  8766.0    8766.0   8766.0   \n",
       "9614       0.0  ...  0.0       1.0  8766.0  8766.0    8766.0   8766.0   \n",
       "9615       0.0  ...  0.0       1.0  8766.0  8766.0    8766.0   8766.0   \n",
       "9616       0.0  ...  0.0       1.0  8766.0  8766.0    8766.0   8766.0   \n",
       "9617       0.0  ...  0.0       1.0  8766.0  8766.0    8766.0   8766.0   \n",
       "\n",
       "      TIMESTRK  TIMECVD  TIMEDTH  TIMEHYP  \n",
       "0       8766.0   8766.0   8766.0   8766.0  \n",
       "1       8766.0   8766.0   8766.0   8766.0  \n",
       "2       8766.0   8766.0   8766.0   8766.0  \n",
       "3       8766.0   8766.0   8766.0   4285.0  \n",
       "4       8766.0   8766.0   8766.0   4285.0  \n",
       "...        ...      ...      ...      ...  \n",
       "9613    8766.0   8766.0   8766.0      0.0  \n",
       "9614    8766.0   8766.0   8766.0      0.0  \n",
       "9615    8766.0   8766.0   8766.0   4201.0  \n",
       "9616    8766.0   8766.0   8766.0   4201.0  \n",
       "9617    8766.0   8766.0   8766.0   4201.0  \n",
       "\n",
       "[9618 rows x 39 columns]"
      ]
     },
     "execution_count": 10,
     "metadata": {},
     "output_type": "execute_result"
    }
   ],
   "source": [
    "df"
   ]
  },
  {
   "cell_type": "markdown",
   "metadata": {},
   "source": [
    "# Prepare the data"
   ]
  },
  {
   "cell_type": "code",
   "execution_count": 11,
   "metadata": {},
   "outputs": [],
   "source": [
    "TEST_SPLIT = 1/6\n",
    "VALIDATION_SPLIT = 1/6\n",
    "TRAIN_SPLIT = 1 - TEST_SPLIT - VALIDATION_SPLIT\n",
    "\n",
    "split_proportions = [TRAIN_SPLIT, VALIDATION_SPLIT, TEST_SPLIT]"
   ]
  },
  {
   "cell_type": "markdown",
   "metadata": {},
   "source": [
    "# Data verification"
   ]
  },
  {
   "cell_type": "code",
   "execution_count": 12,
   "metadata": {},
   "outputs": [
    {
     "name": "stdout",
     "output_type": "stream",
     "text": [
      "lengths :  [6411, 1602, 1605]\n"
     ]
    }
   ],
   "source": [
    "heart_dataset = HeartDiseaseDataset(data_path, any_disease=False)\n",
    "train_dataloader_verif, val_dataloader_verif, test_dataloader_verif = create_dataloaders(heart_dataset, batch_size=3, split_proportions=split_proportions)"
   ]
  },
  {
   "cell_type": "code",
   "execution_count": 13,
   "metadata": {},
   "outputs": [
    {
     "name": "stdout",
     "output_type": "stream",
     "text": [
      "input ==>\n",
      " tensor([[0.0000, 0.2363, 0.2857, 0.2022, 0.4554, 0.0000, 0.0000, 0.3375, 0.0000,\n",
      "         0.0000, 0.3169, 0.0822, 0.3333, 0.0000, 0.0000, 0.0000, 0.0000, 0.0000,\n",
      "         0.0000, 0.0000, 0.1955, 0.3138],\n",
      "        [0.0000, 0.2534, 0.4082, 0.1148, 0.3571, 0.0000, 0.0000, 0.3540, 0.0000,\n",
      "         0.0000, 0.2350, 0.1050, 0.3333, 0.0000, 0.0000, 0.0000, 0.0000, 0.0000,\n",
      "         0.4442, 0.5000, 0.1955, 0.3138],\n",
      "        [0.0000, 0.2140, 0.5306, 0.1311, 0.3214, 0.0000, 0.0000, 0.3321, 0.0000,\n",
      "         0.0000, 0.2350, 0.0708, 0.3333, 0.0000, 0.0000, 0.0000, 0.0000, 0.0000,\n",
      "         0.8949, 1.0000, 0.2458, 0.2220]])\n",
      "label ==>\n",
      " tensor([[1., 0.],\n",
      "        [1., 0.],\n",
      "        [1., 0.]])\n"
     ]
    }
   ],
   "source": [
    "participant = next(iter(train_dataloader_verif))\n",
    "print('input ==>\\n', participant[0])\n",
    "print('label ==>\\n', participant[1])"
   ]
  },
  {
   "cell_type": "code",
   "execution_count": null,
   "metadata": {
    "scrolled": true
   },
   "outputs": [
    {
     "name": "stdout",
     "output_type": "stream",
     "text": [
      "lengths :  [6411, 1602, 1605]\n",
      "==== Training DEATH ====\n",
      "\n",
      "Epoch 1 / 10\n",
      "2137/2137 [==============================] - 10s 5ms/step - loss: 0.5655 - acc: 0.7598 - lr: 0.0500\n",
      "Validation\n",
      "534/534 [==============================] - 21s 39ms/step - loss: 0.3237 - acc: 0.7861 - lr: 0.0500\n",
      "Model saved. Acc updated: -inf -> 0.785\n",
      "Epoch 2 / 10\n",
      "2137/2137 [==============================] - 9s 4ms/step - loss: 0.5084 - acc: 0.7643 - lr: 0.0500\n",
      "Validation\n",
      "534/534 [==============================] - 20s 37ms/step - loss: 0.4635 - acc: 0.7851 - lr: 0.0500\n",
      "Epoch 3 / 10\n",
      "2137/2137 [==============================] - 9s 4ms/step - loss: 0.4761 - acc: 0.7699 - lr: 0.0500\n",
      "Validation\n",
      "534/534 [==============================] - 20s 37ms/step - loss: 0.5067 - acc: 0.8043 - lr: 0.0500\n",
      "Model saved. Acc updated: 0.785 -> 0.798\n",
      "Epoch 4 / 10\n",
      "2137/2137 [==============================] - 9s 4ms/step - loss: 0.4604 - acc: 0.7898 - lr: 0.0500\n",
      "Validation\n",
      "534/534 [==============================] - 20s 38ms/step - loss: 0.4990 - acc: 0.8064 - lr: 0.0500\n",
      "Epoch 5 / 10\n",
      "2137/2137 [==============================] - 9s 4ms/step - loss: 0.4538 - acc: 0.7921 - lr: 0.0500\n",
      "Validation\n",
      "534/534 [==============================] - 20s 37ms/step - loss: 0.4992 - acc: 0.8262 - lr: 0.0500\n",
      "Model saved. Acc updated: 0.798 -> 0.803\n",
      "Epoch 6 / 10\n",
      "2137/2137 [==============================] - 9s 4ms/step - loss: 0.4502 - acc: 0.7940 - lr: 0.0500\n",
      "Validation\n",
      "534/534 [==============================] - 20s 37ms/step - loss: 0.4999 - acc: 0.8230 - lr: 0.0500A: 25s - loss: 0.4999 - acc: 0.8586 - lr\n",
      "Epoch 7 / 10\n",
      "2137/2137 [==============================] - 9s 4ms/step - loss: 0.4431 - acc: 0.8000 - lr: 0.0300\n",
      "Validation\n",
      "534/534 [==============================] - 20s 37ms/step - loss: 0.4754 - acc: 0.8105 - lr: 0.0300\n",
      "Epoch 8 / 10\n",
      "2137/2137 [==============================] - 9s 4ms/step - loss: 0.4417 - acc: 0.8069 - lr: 0.0300\n",
      "Validation\n",
      "534/534 [==============================] - 20s 37ms/step - loss: 0.4782 - acc: 0.8109 - lr: 0.0300\n",
      "Epoch 9 / 10\n",
      "2137/2137 [==============================] - 9s 4ms/step - loss: 0.4407 - acc: 0.8079 - lr: 0.0300\n",
      "Validation\n",
      "534/534 [==============================] - 20s 37ms/step - loss: 0.4813 - acc: 0.8109 - lr: 0.0300\n",
      "Epoch 10 / 10\n",
      "2137/2137 [==============================] - 9s 4ms/step - loss: 0.4400 - acc: 0.8079 - lr: 0.0300\n",
      "Validation\n",
      "534/534 [==============================] - 20s 38ms/step - loss: 0.4845 - acc: 0.8099 - lr: 0.0300\n"
     ]
    },
    {
     "data": {
      "image/png": "[encoded data removed]",
      "text/plain": [
       "<Figure size 432x432 with 1 Axes>"
      ]
     },
     "metadata": {
      "needs_background": "light"
     },
     "output_type": "display_data"
    },
    {
     "name": "stdout",
     "output_type": "stream",
     "text": [
      "\n",
      "\n",
      "\n",
      "lengths :  [6411, 1602, 1605]\n",
      "==== Training ANGINA ====\n",
      "\n",
      "Epoch 1 / 10\n",
      "2137/2137 [==============================] - 9s 4ms/step - loss: 0.4816 - acc: 0.8134 - lr: 0.0500\n",
      "Validation\n",
      "534/534 [==============================] - 20s 37ms/step - loss: 1.8972 - acc: 0.8624 - lr: 0.0500\n",
      "Model saved. Acc updated: -inf -> 0.830\n",
      "Epoch 2 / 10\n",
      "2137/2137 [==============================] - 9s 4ms/step - loss: 0.3863 - acc: 0.8425 - lr: 0.0500\n",
      "Validation\n",
      "534/534 [==============================] - 21s 38ms/step - loss: 1.6678 - acc: 0.8700 - lr: 0.0500\n",
      "Model saved. Acc updated: 0.830 -> 0.839\n",
      "Epoch 3 / 10\n",
      "2137/2137 [==============================] - 9s 4ms/step - loss: 0.3551 - acc: 0.8544 - lr: 0.0500\n",
      "Validation\n",
      "534/534 [==============================] - 21s 39ms/step - loss: 1.5734 - acc: 0.8734 - lr: 0.0500\n",
      "Model saved. Acc updated: 0.839 -> 0.845\n",
      "Epoch 4 / 10\n",
      "2137/2137 [==============================] - 9s 4ms/step - loss: 0.3474 - acc: 0.8550 - lr: 0.0500\n",
      "Validation\n",
      "534/534 [==============================] - 23s 43ms/step - loss: 1.5016 - acc: 0.8734 - lr: 0.0500\n",
      "Epoch 5 / 10\n",
      "2137/2137 [==============================] - 9s 4ms/step - loss: 0.3432 - acc: 0.8539 - lr: 0.0300\n",
      "Validation\n",
      "534/534 [==============================] - 20s 38ms/step - loss: 1.4568 - acc: 0.8734 - lr: 0.0300\n",
      "Epoch 6 / 10\n",
      "2137/2137 [==============================] - 9s 4ms/step - loss: 0.3416 - acc: 0.8539 - lr: 0.0300\n",
      "Validation\n",
      "534/534 [==============================] - 20s 38ms/step - loss: 1.4486 - acc: 0.8734 - lr: 0.0300\n",
      "Epoch 7 / 10\n",
      "2137/2137 [==============================] - 9s 4ms/step - loss: 0.3404 - acc: 0.8548 - lr: 0.0300\n",
      "Validation\n",
      "534/534 [==============================] - 20s 37ms/step - loss: 1.4428 - acc: 0.8734 - lr: 0.0300\n",
      "Epoch 8 / 10\n",
      "2137/2137 [==============================] - 9s 4ms/step - loss: 0.3394 - acc: 0.8551 - lr: 0.0300\n",
      "Validation\n",
      "534/534 [==============================] - 20s 38ms/step - loss: 1.4384 - acc: 0.8734 - lr: 0.0300\n",
      "Epoch 9 / 10\n",
      "2137/2137 [==============================] - 9s 4ms/step - loss: 0.3385 - acc: 0.8539 - lr: 0.0300\n",
      "Validation\n",
      "534/534 [==============================] - 19s 35ms/step - loss: 1.4351 - acc: 0.8719 - lr: 0.0300\n",
      "Epoch 10 / 10\n",
      "2137/2137 [==============================] - 9s 4ms/step - loss: 0.3368 - acc: 0.8559 - lr: 0.0180\n",
      "Validation\n",
      "534/534 [==============================] - 19s 35ms/step - loss: 1.4115 - acc: 0.8719 - lr: 0.0180\n"
     ]
    },
    {
     "data": {
      "image/png": "[encoded data removed]",
      "text/plain": [
       "<Figure size 432x432 with 1 Axes>"
      ]
     },
     "metadata": {
      "needs_background": "light"
     },
     "output_type": "display_data"
    },
    {
     "name": "stdout",
     "output_type": "stream",
     "text": [
      "\n",
      "\n",
      "\n",
      "lengths :  [6411, 1602, 1605]\n",
      "==== Training HOSPMI ====\n",
      "\n",
      "Epoch 1 / 10\n",
      "2137/2137 [==============================] - 8s 4ms/step - loss: 0.3806 - acc: 0.8685 - lr: 0.0500\n",
      "Validation\n",
      "534/534 [==============================] - 18s 35ms/step - loss: 2.1822 - acc: 0.9154 - lr: 0.0500\n",
      "Model saved. Acc updated: -inf -> 0.901\n",
      "Epoch 2 / 10\n",
      "2137/2137 [==============================] - 9s 4ms/step - loss: 0.2953 - acc: 0.9030 - lr: 0.0500\n",
      "Validation\n",
      "534/534 [==============================] - 19s 36ms/step - loss: 1.7994 - acc: 0.9154 - lr: 0.0500\n",
      "Epoch 3 / 10\n",
      "2137/2137 [==============================] - 9s 4ms/step - loss: 0.2770 - acc: 0.9037 - lr: 0.0500\n",
      "Validation\n",
      "534/534 [==============================] - 19s 36ms/step - loss: 1.8245 - acc: 0.9223 - lr: 0.0500\n",
      "Model saved. Acc updated: 0.901 -> 0.908\n",
      "Epoch 4 / 10\n",
      "2137/2137 [==============================] - 9s 4ms/step - loss: 0.2707 - acc: 0.9103 - lr: 0.0500\n",
      "Validation\n",
      "534/534 [==============================] - 24s 45ms/step - loss: 1.8571 - acc: 0.9236 - lr: 0.0500\n",
      "Model saved. Acc updated: 0.908 -> 0.910\n",
      "Epoch 5 / 10\n",
      "2137/2137 [==============================] - 12s 6ms/step - loss: 0.2655 - acc: 0.9104 - lr: 0.0300\n",
      "Validation\n",
      "534/534 [==============================] - 26s 48ms/step - loss: 1.8219 - acc: 0.9251 - lr: 0.0300\n",
      "Model saved. Acc updated: 0.910 -> 0.912\n",
      "Epoch 6 / 10\n",
      "2137/2137 [==============================] - 11s 5ms/step - loss: 0.2638 - acc: 0.9110 - lr: 0.0300\n",
      "Validation\n",
      "534/534 [==============================] - 27s 50ms/step - loss: 1.8252 - acc: 0.9251 - lr: 0.0300\n",
      "Epoch 7 / 10\n",
      "2137/2137 [==============================] - 12s 6ms/step - loss: 0.2625 - acc: 0.9108 - lr: 0.0300\n",
      "Validation\n",
      "534/534 [==============================] - 26s 48ms/step - loss: 1.8258 - acc: 0.9249 - lr: 0.0300\n",
      "Epoch 8 / 10\n",
      "2137/2137 [==============================] - 12s 5ms/step - loss: 0.2615 - acc: 0.9112 - lr: 0.0300\n",
      "Validation\n",
      "534/534 [==============================] - 26s 48ms/step - loss: 1.8244 - acc: 0.9249 - lr: 0.0300\n",
      "Epoch 9 / 10\n",
      "2137/2137 [==============================] - 11s 5ms/step - loss: 0.2605 - acc: 0.9130 - lr: 0.0300\n",
      "Validation\n",
      "534/534 [==============================] - 26s 48ms/step - loss: 1.8221 - acc: 0.9249 - lr: 0.0300\n",
      "Epoch 10 / 10\n",
      "2137/2137 [==============================] - 12s 5ms/step - loss: 0.2584 - acc: 0.9136 - lr: 0.0180\n",
      "Validation\n",
      "534/534 [==============================] - 26s 49ms/step - loss: 1.7781 - acc: 0.9249 - lr: 0.0180\n"
     ]
    },
    {
     "data": {
      "image/png": "[encoded data removed]",
      "text/plain": [
       "<Figure size 432x432 with 1 Axes>"
      ]
     },
     "metadata": {
      "needs_background": "light"
     },
     "output_type": "display_data"
    },
    {
     "name": "stdout",
     "output_type": "stream",
     "text": [
      "\n",
      "\n",
      "\n",
      "lengths :  [6411, 1602, 1605]\n",
      "==== Training MI_FCHD ====\n",
      "\n",
      "Epoch 1 / 10\n",
      "2137/2137 [==============================] - 12s 5ms/step - loss: 0.4518 - acc: 0.8301 - lr: 0.0500\n",
      "Validation\n",
      "534/534 [==============================] - 26s 48ms/step - loss: 1.8284 - acc: 0.8736 - lr: 0.0500\n",
      "Model saved. Acc updated: -inf -> 0.858\n",
      "Epoch 2 / 10\n",
      "2137/2137 [==============================] - 11s 5ms/step - loss: 0.3801 - acc: 0.8630 - lr: 0.0500\n",
      "Validation\n",
      "534/534 [==============================] - 22s 42ms/step - loss: 1.4820 - acc: 0.8736 - lr: 0.0500\n",
      "Epoch 3 / 10\n",
      "2137/2137 [==============================] - 9s 4ms/step - loss: 0.3547 - acc: 0.8633 - lr: 0.0500\n",
      "Validation\n",
      "534/534 [==============================] - 21s 39ms/step - loss: 1.4078 - acc: 0.8806 - lr: 0.0500\n",
      "Model saved. Acc updated: 0.858 -> 0.865\n",
      "Epoch 4 / 10\n",
      "2137/2137 [==============================] - 9s 4ms/step - loss: 0.3469 - acc: 0.8698 - lr: 0.0500\n",
      "Validation\n",
      "534/534 [==============================] - 21s 39ms/step - loss: 1.4113 - acc: 0.8835 - lr: 0.0500\n",
      "Model saved. Acc updated: 0.865 -> 0.871\n",
      "Epoch 5 / 10\n",
      "2137/2137 [==============================] - 10s 5ms/step - loss: 0.3398 - acc: 0.8733 - lr: 0.0300\n",
      "Validation\n",
      "534/534 [==============================] - 21s 39ms/step - loss: 1.3462 - acc: 0.8835 - lr: 0.0300\n",
      "Epoch 6 / 10\n",
      "2137/2137 [==============================] - 9s 4ms/step - loss: 0.3374 - acc: 0.8741 - lr: 0.0300\n",
      "Validation\n",
      "534/534 [==============================] - 21s 39ms/step - loss: 1.3399 - acc: 0.8835 - lr: 0.0300\n",
      "Epoch 7 / 10\n",
      "2137/2137 [==============================] - 9s 4ms/step - loss: 0.3355 - acc: 0.8741 - lr: 0.0300\n",
      "Validation\n",
      "534/534 [==============================] - 21s 39ms/step - loss: 1.3336 - acc: 0.8835 - lr: 0.0300\n",
      "Epoch 8 / 10\n",
      "2137/2137 [==============================] - 9s 4ms/step - loss: 0.3341 - acc: 0.8741 - lr: 0.0300\n",
      "Validation\n",
      "534/534 [==============================] - 25s 47ms/step - loss: 1.3273 - acc: 0.8835 - lr: 0.0300\n",
      "Epoch 9 / 10\n",
      "2137/2137 [==============================] - 14s 6ms/step - loss: 0.3329 - acc: 0.8741 - lr: 0.0300\n",
      "Validation\n",
      "534/534 [==============================] - 27s 50ms/step - loss: 1.3207 - acc: 0.8835 - lr: 0.0300\n",
      "Epoch 10 / 10\n",
      "2137/2137 [==============================] - 11s 5ms/step - loss: 0.3302 - acc: 0.8740 - lr: 0.0180\n",
      "Validation\n",
      "534/534 [==============================] - 26s 48ms/step - loss: 1.2944 - acc: 0.8835 - lr: 0.0180\n"
     ]
    },
    {
     "data": {
      "image/png": "[encoded data removed]",
      "text/plain": [
       "<Figure size 432x432 with 1 Axes>"
      ]
     },
     "metadata": {
      "needs_background": "light"
     },
     "output_type": "display_data"
    },
    {
     "name": "stdout",
     "output_type": "stream",
     "text": [
      "\n",
      "\n",
      "\n",
      "lengths :  [6411, 1602, 1605]\n",
      "==== Training ANYCHD ====\n",
      "\n",
      "Epoch 1 / 10\n",
      "2137/2137 [==============================] - 11s 5ms/step - loss: 0.5824 - acc: 0.7441 - lr: 0.0500\n",
      "Validation\n",
      "534/534 [==============================] - 26s 49ms/step - loss: 1.2398 - acc: 0.7599 - lr: 0.0500\n",
      "Model saved. Acc updated: -inf -> 0.734\n",
      "Epoch 2 / 10\n",
      "2137/2137 [==============================] - 11s 5ms/step - loss: 0.5089 - acc: 0.7528 - lr: 0.0500\n",
      "Validation\n",
      "534/534 [==============================] - 26s 49ms/step - loss: 1.0984 - acc: 0.7743 - lr: 0.0500\n",
      "Model saved. Acc updated: 0.734 -> 0.755\n",
      "Epoch 3 / 10\n",
      "2137/2137 [==============================] - 12s 6ms/step - loss: 0.4708 - acc: 0.7618 - lr: 0.0500\n",
      "Validation\n",
      "534/534 [==============================] - 30s 56ms/step - loss: 0.9919 - acc: 0.7743 - lr: 0.0500\n",
      "Epoch 4 / 10\n",
      "2137/2137 [==============================] - 13s 6ms/step - loss: 0.4605 - acc: 0.7617 - lr: 0.0500\n",
      "Validation\n",
      "534/534 [==============================] - 32s 59ms/step - loss: 0.9442 - acc: 0.7661 - lr: 0.0500\n",
      "Epoch 5 / 10\n",
      "2137/2137 [==============================] - 14s 6ms/step - loss: 0.4525 - acc: 0.7621 - lr: 0.0300\n",
      "Validation\n",
      "534/534 [==============================] - 31s 59ms/step - loss: 0.8860 - acc: 0.7587 - lr: 0.0300\n",
      "Epoch 6 / 10\n",
      "2137/2137 [==============================] - 13s 6ms/step - loss: 0.4507 - acc: 0.7670 - lr: 0.0300\n",
      "Validation\n",
      "534/534 [==============================] - 36s 66ms/step - loss: 0.8782 - acc: 0.7587 - lr: 0.0300\n",
      "Epoch 7 / 10\n",
      "2137/2137 [==============================] - 16s 8ms/step - loss: 0.4494 - acc: 0.7661 - lr: 0.0300\n",
      "Validation\n",
      "534/534 [==============================] - 56s 105ms/step - loss: 0.8707 - acc: 0.7587 - lr: 0.0300\n",
      "Epoch 8 / 10\n",
      "2137/2137 [==============================] - 23s 11ms/step - loss: 0.4483 - acc: 0.7673 - lr: 0.0300\n",
      "Validation\n",
      "534/534 [==============================] - 30s 55ms/step - loss: 0.8642 - acc: 0.7598 - lr: 0.0300\n",
      "Epoch 9 / 10\n",
      "2137/2137 [==============================] - 13s 6ms/step - loss: 0.4475 - acc: 0.7652 - lr: 0.0300\n",
      "Validation\n",
      "534/534 [==============================] - 29s 54ms/step - loss: 0.8587 - acc: 0.7598 - lr: 0.0300\n",
      "Epoch 10 / 10\n",
      "2137/2137 [==============================] - 12s 6ms/step - loss: 0.4442 - acc: 0.7663 - lr: 0.0180\n",
      "Validation\n",
      "534/534 [==============================] - 28s 53ms/step - loss: 0.8312 - acc: 0.7616 - lr: 0.0180\n"
     ]
    },
    {
     "data": {
      "image/png": "[encoded data removed]",
      "text/plain": [
       "<Figure size 432x432 with 1 Axes>"
      ]
     },
     "metadata": {
      "needs_background": "light"
     },
     "output_type": "display_data"
    },
    {
     "name": "stdout",
     "output_type": "stream",
     "text": [
      "\n",
      "\n",
      "\n",
      "lengths :  [6411, 1602, 1605]\n",
      "==== Training STROKE ====\n",
      "\n",
      "Epoch 1 / 10\n",
      "2137/2137 [==============================] - 13s 6ms/step - loss: 0.3391 - acc: 0.9185 - lr: 0.0500\n",
      "Validation\n",
      "534/534 [==============================] - 29s 54ms/step - loss: 0.0906 - acc: 0.9195 - lr: 0.0500\n",
      "Model saved. Acc updated: -inf -> 0.914\n",
      "Epoch 2 / 10\n",
      "2137/2137 [==============================] - 12s 6ms/step - loss: 0.2796 - acc: 0.9185 - lr: 0.0500 \n",
      "Validation\n",
      "534/534 [==============================] - 29s 54ms/step - loss: 0.0907 - acc: 0.9195 - lr: 0.0500\n",
      "Epoch 3 / 10\n",
      "2137/2137 [==============================] - 12s 6ms/step - loss: 0.2698 - acc: 0.9185 - lr: 0.0500\n",
      "Validation\n",
      "534/534 [==============================] - 29s 54ms/step - loss: 0.0864 - acc: 0.9195 - lr: 0.0500\n",
      "Epoch 4 / 10\n",
      "2137/2137 [==============================] - 13s 6ms/step - loss: 0.2639 - acc: 0.9185 - lr: 0.0500\n",
      "Validation\n",
      "534/534 [==============================] - 29s 55ms/step - loss: 0.0856 - acc: 0.9195 - lr: 0.0500\n",
      "Epoch 5 / 10\n",
      "2137/2137 [==============================] - 13s 6ms/step - loss: 0.2603 - acc: 0.9185 - lr: 0.0500\n",
      "Validation\n",
      "534/534 [==============================] - 28s 53ms/step - loss: 0.0831 - acc: 0.9195 - lr: 0.0500\n",
      "Epoch 6 / 10\n",
      "2137/2137 [==============================] - 13s 6ms/step - loss: 0.2545 - acc: 0.9185 - lr: 0.0300\n",
      "Validation\n",
      "534/534 [==============================] - 28s 53ms/step - loss: 0.0953 - acc: 0.9195 - lr: 0.0300\n",
      "Epoch 7 / 10\n",
      "2137/2137 [==============================] - 13s 6ms/step - loss: 0.2508 - acc: 0.9185 - lr: 0.0300\n",
      "Validation\n",
      "534/534 [==============================] - 28s 52ms/step - loss: 0.0895 - acc: 0.9195 - lr: 0.0300\n",
      "Epoch 8 / 10\n",
      "2137/2137 [==============================] - 12s 6ms/step - loss: 0.2484 - acc: 0.9185 - lr: 0.0300\n",
      "Validation\n",
      "534/534 [==============================] - 30s 56ms/step - loss: 0.0873 - acc: 0.9195 - lr: 0.0300\n",
      "Epoch 9 / 10\n",
      "2137/2137 [==============================] - 12s 6ms/step - loss: 0.2465 - acc: 0.9185 - lr: 0.0300\n",
      "Validation\n",
      "534/534 [==============================] - 30s 55ms/step - loss: 0.0874 - acc: 0.9195 - lr: 0.0300\n",
      "Epoch 10 / 10\n",
      "2137/2137 [==============================] - 12s 6ms/step - loss: 0.2450 - acc: 0.9186 - lr: 0.0300\n",
      "Validation\n",
      "534/534 [==============================] - 28s 53ms/step - loss: 0.0886 - acc: 0.9195 - lr: 0.0300\n"
     ]
    },
    {
     "data": {
      "image/png": "[encoded data removed]",
      "text/plain": [
       "<Figure size 432x432 with 1 Axes>"
      ]
     },
     "metadata": {
      "needs_background": "light"
     },
     "output_type": "display_data"
    },
    {
     "name": "stdout",
     "output_type": "stream",
     "text": [
      "\n",
      "\n",
      "\n",
      "lengths :  [6411, 1602, 1605]\n",
      "==== Training CVD ====\n",
      "\n",
      "Epoch 1 / 10\n",
      "2137/2137 [==============================] - 13s 6ms/step - loss: 0.5632 - acc: 0.7572 - lr: 0.0500\n",
      "Validation\n",
      "534/534 [==============================] - 29s 53ms/step - loss: 0.3170 - acc: 0.7723 - lr: 0.0500\n",
      "Model saved. Acc updated: -inf -> 0.758\n",
      "Epoch 2 / 10\n",
      "2137/2137 [==============================] - 13s 6ms/step - loss: 0.4972 - acc: 0.7703 - lr: 0.0500\n",
      "Validation\n",
      "534/534 [==============================] - 28s 53ms/step - loss: 0.4071 - acc: 0.7723 - lr: 0.0500\n",
      "Epoch 3 / 10\n",
      "2137/2137 [==============================] - 13s 6ms/step - loss: 0.4743 - acc: 0.7738 - lr: 0.0500\n",
      "Validation\n",
      "534/534 [==============================] - 28s 52ms/step - loss: 0.4359 - acc: 0.7801 - lr: 0.0500\n",
      "Model saved. Acc updated: 0.758 -> 0.768\n",
      "Epoch 4 / 10\n",
      "2137/2137 [==============================] - 12s 6ms/step - loss: 0.4635 - acc: 0.7742 - lr: 0.0500\n",
      "Validation\n",
      "534/534 [==============================] - 28s 53ms/step - loss: 0.4458 - acc: 0.7814 - lr: 0.0500\n",
      "Model saved. Acc updated: 0.768 -> 0.770\n",
      "Epoch 5 / 10\n",
      "2137/2137 [==============================] - 15s 7ms/step - loss: 0.4570 - acc: 0.7787 - lr: 0.0500\n",
      "Validation\n"
     ]
    }
   ],
   "source": [
    "nb_epochs = 10\n",
    "trainers = train_labels(df.iloc[:, 23: 31].columns, data_path, \n",
    "                        df.iloc[:, 23: 31].columns, split_proportions, \n",
    "                        save_directory, nb_epochs)"
   ]
  },
  {
   "cell_type": "markdown",
   "metadata": {},
   "source": [
    "# Test"
   ]
  },
  {
   "cell_type": "code",
   "execution_count": 16,
   "metadata": {
    "scrolled": true
   },
   "outputs": [
    {
     "name": "stdout",
     "output_type": "stream",
     "text": [
      "lengths :  [6411, 1602, 1605]\n",
      "==== Evaluate DEATH ====\n",
      "\n",
      "accuracy 73.64485981308411\n"
     ]
    },
    {
     "data": {
      "image/png": "[encoded data removed]",
      "text/plain": [
       "<Figure size 432x288 with 2 Axes>"
      ]
     },
     "metadata": {
      "needs_background": "light"
     },
     "output_type": "display_data"
    },
    {
     "name": "stdout",
     "output_type": "stream",
     "text": [
      "sensitivity : 0.0, specificity : 1.0, PPV : no positives values, NPV : 0.7364485981308411\n",
      "\n",
      "\n",
      "\n",
      "lengths :  [6411, 1602, 1605]\n",
      "==== Evaluate ANGINA ====\n",
      "\n",
      "accuracy 81.6822429906542\n"
     ]
    },
    {
     "data": {
      "image/png": "[encoded data removed]",
      "text/plain": [
       "<Figure size 432x288 with 2 Axes>"
      ]
     },
     "metadata": {
      "needs_background": "light"
     },
     "output_type": "display_data"
    },
    {
     "name": "stdout",
     "output_type": "stream",
     "text": [
      "sensitivity : 0.0, specificity : 1.0, PPV : no positives values, NPV : 0.8168224299065421\n",
      "\n",
      "\n",
      "\n",
      "lengths :  [6411, 1602, 1605]\n",
      "==== Evaluate HOSPMI ====\n",
      "\n",
      "accuracy 90.09345794392523\n"
     ]
    },
    {
     "data": {
      "image/png": "[encoded data removed]",
      "text/plain": [
       "<Figure size 432x288 with 2 Axes>"
      ]
     },
     "metadata": {
      "needs_background": "light"
     },
     "output_type": "display_data"
    },
    {
     "name": "stdout",
     "output_type": "stream",
     "text": [
      "sensitivity : 0.0, specificity : 1.0, PPV : no positives values, NPV : 0.9009345794392524\n",
      "\n",
      "\n",
      "\n",
      "lengths :  [6411, 1602, 1605]\n",
      "==== Evaluate MI_FCHD ====\n",
      "\n",
      "accuracy 84.85981308411215\n"
     ]
    },
    {
     "data": {
      "image/png": "[encoded data removed]",
      "text/plain": [
       "<Figure size 432x288 with 2 Axes>"
      ]
     },
     "metadata": {
      "needs_background": "light"
     },
     "output_type": "display_data"
    },
    {
     "name": "stdout",
     "output_type": "stream",
     "text": [
      "sensitivity : 0.0, specificity : 1.0, PPV : no positives values, NPV : 0.8485981308411215\n",
      "\n",
      "\n",
      "\n",
      "lengths :  [6411, 1602, 1605]\n",
      "==== Evaluate ANYCHD ====\n",
      "\n",
      "accuracy 71.77570093457943\n"
     ]
    },
    {
     "data": {
      "image/png": "[encoded data removed]",
      "text/plain": [
       "<Figure size 432x288 with 2 Axes>"
      ]
     },
     "metadata": {
      "needs_background": "light"
     },
     "output_type": "display_data"
    },
    {
     "name": "stdout",
     "output_type": "stream",
     "text": [
      "sensitivity : 0.0, specificity : 1.0, PPV : no positives values, NPV : 0.7177570093457943\n",
      "\n",
      "\n",
      "\n",
      "lengths :  [6411, 1602, 1605]\n",
      "==== Evaluate STROKE ====\n",
      "\n",
      "accuracy 90.65420560747664\n"
     ]
    },
    {
     "data": {
      "image/png": "[encoded data removed]",
      "text/plain": [
       "<Figure size 432x288 with 2 Axes>"
      ]
     },
     "metadata": {
      "needs_background": "light"
     },
     "output_type": "display_data"
    },
    {
     "name": "stdout",
     "output_type": "stream",
     "text": [
      "sensitivity : 0.0, specificity : 1.0, PPV : no positives values, NPV : 0.9065420560747663\n",
      "\n",
      "\n",
      "\n",
      "lengths :  [6411, 1602, 1605]\n",
      "==== Evaluate CVD ====\n",
      "\n",
      "accuracy 75.88785046728972\n"
     ]
    },
    {
     "data": {
      "image/png": "[encoded data removed]",
      "text/plain": [
       "<Figure size 432x288 with 2 Axes>"
      ]
     },
     "metadata": {
      "needs_background": "light"
     },
     "output_type": "display_data"
    },
    {
     "name": "stdout",
     "output_type": "stream",
     "text": [
      "sensitivity : 0.0, specificity : 1.0, PPV : no positives values, NPV : 0.7588785046728972\n",
      "\n",
      "\n",
      "\n",
      "lengths :  [6411, 1602, 1605]\n",
      "==== Evaluate HYPERTEN ====\n",
      "\n",
      "accuracy 24.672897196261683\n"
     ]
    },
    {
     "data": {
      "image/png": "[encoded data removed]",
      "text/plain": [
       "<Figure size 432x288 with 2 Axes>"
      ]
     },
     "metadata": {
      "needs_background": "light"
     },
     "output_type": "display_data"
    },
    {
     "name": "stdout",
     "output_type": "stream",
     "text": [
      "sensitivity : 0.0, specificity : 1.0, PPV : no positives values, NPV : 0.2467289719626168\n",
      "\n",
      "\n",
      "\n"
     ]
    }
   ],
   "source": [
    "accuracies = prediction_analyse_labels(df.iloc[:, 23: 31].columns, trainers, df.iloc[:, 23: 31].columns, data_path, split_proportions)"
   ]
  },
  {
   "cell_type": "code",
   "execution_count": null,
   "metadata": {},
   "outputs": [],
   "source": [
    "save_accuracies_pkl(accuracies_file_path, accuracies)"
   ]
  },
  {
   "cell_type": "code",
   "execution_count": null,
   "metadata": {},
   "outputs": [],
   "source": []
  }
 ],
 "metadata": {
  "kernelspec": {
   "display_name": "Python 3",
   "language": "python",
   "name": "python3"
  },
  "language_info": {
   "codemirror_mode": {
    "name": "ipython",
    "version": 3
   },
   "file_extension": ".py",
   "mimetype": "text/x-python",
   "name": "python",
   "nbconvert_exporter": "python",
   "pygments_lexer": "ipython3",
   "version": "3.6.4"
  }
 },
 "nbformat": 4,
 "nbformat_minor": 5
}
